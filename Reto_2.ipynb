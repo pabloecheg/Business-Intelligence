{
  "nbformat": 4,
  "nbformat_minor": 0,
  "metadata": {
    "colab": {
      "provenance": [],
      "authorship_tag": "ABX9TyMXUNktW0ZXuXXD6VfW94uO",
      "include_colab_link": true
    },
    "kernelspec": {
      "name": "python3",
      "display_name": "Python 3"
    },
    "language_info": {
      "name": "python"
    }
  },
  "cells": [
    {
      "cell_type": "markdown",
      "metadata": {
        "id": "view-in-github",
        "colab_type": "text"
      },
      "source": [
        "<a href=\"https://colab.research.google.com/github/pabloecheg/Business-Intelligence/blob/main/Reto_2.ipynb\" target=\"_parent\"><img src=\"https://colab.research.google.com/assets/colab-badge.svg\" alt=\"Open In Colab\"/></a>"
      ]
    },
    {
      "cell_type": "markdown",
      "source": [
        "# Juan Pablo Villamizar, Pablo Echeverri"
      ],
      "metadata": {
        "id": "YLHQJhR0rqu4"
      }
    },
    {
      "cell_type": "code",
      "execution_count": null,
      "metadata": {
        "id": "A9PY65kwVyuH"
      },
      "outputs": [],
      "source": [
        "import sqlite3"
      ]
    },
    {
      "cell_type": "code",
      "source": [
        "import pandas as pd\n",
        "from google.colab import drive\n",
        "drive.mount('/content/drive')"
      ],
      "metadata": {
        "colab": {
          "base_uri": "https://localhost:8080/"
        },
        "id": "wFfecj7AV358",
        "outputId": "8234cac5-a16a-43f5-af8c-579752cd4389"
      },
      "execution_count": null,
      "outputs": [
        {
          "output_type": "stream",
          "name": "stdout",
          "text": [
            "Mounted at /content/drive\n"
          ]
        }
      ]
    },
    {
      "cell_type": "code",
      "source": [
        "nvidia = pd.read_excel('/content/drive/MyDrive/INTRO BI/RETO 2/NVIDIA_consolidado.xlsx', sheet_name= None, header=0)\n",
        "apple = pd.read_excel('/content/drive/MyDrive/INTRO BI/RETO 2/Apple_consolidado.xlsx', sheet_name= None, header=0)"
      ],
      "metadata": {
        "id": "1RZhOM9fWCAV"
      },
      "execution_count": null,
      "outputs": []
    },
    {
      "cell_type": "markdown",
      "source": [
        "Miramos las claves"
      ],
      "metadata": {
        "id": "Kzn80jJUWjKx"
      }
    },
    {
      "cell_type": "code",
      "source": [
        "nvidia.keys()"
      ],
      "metadata": {
        "colab": {
          "base_uri": "https://localhost:8080/"
        },
        "id": "TmJK33VgWhtX",
        "outputId": "27c9f6d6-d581-4bd0-c818-92532668de14"
      },
      "execution_count": null,
      "outputs": [
        {
          "output_type": "execute_result",
          "data": {
            "text/plain": [
              "dict_keys(['BALANCE GENERAL', 'RATIOS DE RENTABILIDAD', 'ESTADO DE RESULTADOS', 'ESTADO DE FLUJO DE EFECTIVO'])"
            ]
          },
          "metadata": {},
          "execution_count": 4
        }
      ]
    },
    {
      "cell_type": "code",
      "source": [
        "apple.keys()"
      ],
      "metadata": {
        "colab": {
          "base_uri": "https://localhost:8080/"
        },
        "id": "uNYxK1ZQWmcK",
        "outputId": "9cae7789-435c-43d2-b489-8092c1226a0b"
      },
      "execution_count": null,
      "outputs": [
        {
          "output_type": "execute_result",
          "data": {
            "text/plain": [
              "dict_keys(['BALANCE  GENERAL', 'RATIOS DE RENTABILIDAD', 'ESTADO DE RESULTADOS', 'ESTADO DE FLUJO DE EFECTIVO'])"
            ]
          },
          "metadata": {},
          "execution_count": 5
        }
      ]
    },
    {
      "cell_type": "markdown",
      "source": [
        "# NVIDIA"
      ],
      "metadata": {
        "id": "WftueyXgYAbA"
      }
    },
    {
      "cell_type": "markdown",
      "source": [
        "Creamos la base de datos"
      ],
      "metadata": {
        "id": "52EOXXj4Wp4n"
      }
    },
    {
      "cell_type": "code",
      "source": [
        "con = sqlite3.connect('nvidia.db')\n",
        "cursor = con.cursor()"
      ],
      "metadata": {
        "id": "gjc7kPk1Wy23"
      },
      "execution_count": null,
      "outputs": []
    },
    {
      "cell_type": "markdown",
      "source": [
        "Pasamos la informacion del diccionario a la base de datos"
      ],
      "metadata": {
        "id": "WOZo4fGOYK5B"
      }
    },
    {
      "cell_type": "code",
      "source": [
        "for hoja, nvidia in nvidia.items():\n",
        "  nvidia.to_sql(hoja, con, if_exists='replace', index=False)"
      ],
      "metadata": {
        "id": "NoTYCL_sXDOa"
      },
      "execution_count": null,
      "outputs": []
    },
    {
      "cell_type": "code",
      "source": [
        "#Confirmamos los datos\n",
        "con.commit()"
      ],
      "metadata": {
        "id": "rAjCSXg5XqhZ"
      },
      "execution_count": null,
      "outputs": []
    },
    {
      "cell_type": "code",
      "source": [
        "#Visualizamos los nombres de las tablas en formato consulta\n",
        "consulta = ''' SELECT name\n",
        "               FROM sqlite_master\n",
        "               WHERE type = 'table' '''\n",
        "#Ejecutamos la consulta\n",
        "cursor.execute(consulta)\n",
        "#Printeamos el resultado de la consulta\n",
        "print(cursor.fetchall())"
      ],
      "metadata": {
        "colab": {
          "base_uri": "https://localhost:8080/"
        },
        "id": "oUhw23M1Xs1U",
        "outputId": "01a91681-532e-42e1-c517-e7f07ea80907"
      },
      "execution_count": null,
      "outputs": [
        {
          "output_type": "stream",
          "name": "stdout",
          "text": [
            "[('BALANCE GENERAL',), ('RATIOS DE RENTABILIDAD',), ('ESTADO DE RESULTADOS',), ('ESTADO DE FLUJO DE EFECTIVO',)]\n"
          ]
        }
      ]
    },
    {
      "cell_type": "markdown",
      "source": [
        "Miramos la informacion de la tabla Ratios de Rentabilidad"
      ],
      "metadata": {
        "id": "MdVKPDGIYn4V"
      }
    },
    {
      "cell_type": "code",
      "source": [
        "consulta = ''' SELECT *\n",
        "              FROM \"RATIOS DE RENTABILIDAD\" '''\n",
        "#Ejecutamos la consulta\n",
        "cursor.execute(consulta)\n",
        "#Traemos el resultado de la consulta\n",
        "Ratios = cursor.fetchall()\n",
        "for fila in Ratios:\n",
        "  print(fila)"
      ],
      "metadata": {
        "colab": {
          "base_uri": "https://localhost:8080/"
        },
        "id": "WcfPvL4yYcoi",
        "outputId": "3e41bdea-863d-48ca-b677-5607f8898137"
      },
      "execution_count": null,
      "outputs": [
        {
          "output_type": "stream",
          "name": "stdout",
          "text": [
            "(2020, 0.1615, 0.1615, 0.2291, 0.2291, 0.1831, 0.2561, 0.6548, 0.2605, 0.2956, 0.1643)\n",
            "(2021, 0.1505, 0.1505, 0.2564, 0.2564, 0.1824, 0.2598, 0.6893, 0.272, 0.3376, 0.1575)\n",
            "(2022, 0.2207, 0.2207, 0.3665, 0.3665, 0.2546, 0.3623, 0.6929, 0.3771, 0.4167, 0.2297)\n",
            "(2023, 0.1061, 0.1061, 0.1976, 0.1976, 0.1206, 0.1619, 0.6265, 0.1548, 0.2138, 0.1014)\n"
          ]
        }
      ]
    },
    {
      "cell_type": "markdown",
      "source": [
        "Miramos la informacion de la tabla Estado de Flujo de Efectivo"
      ],
      "metadata": {
        "id": "PbxfkD7RZEIa"
      }
    },
    {
      "cell_type": "code",
      "source": [
        "consulta = ''' SELECT *\n",
        "              FROM \"ESTADO DE FLUJO DE EFECTIVO\" '''\n",
        "#Ejecutamos la consulta\n",
        "cursor.execute(consulta)\n",
        "#Traemos el resultado de la consulta\n",
        "Efectivo = cursor.fetchall()\n",
        "for fila in Efectivo:\n",
        "  print(fila)"
      ],
      "metadata": {
        "colab": {
          "base_uri": "https://localhost:8080/"
        },
        "id": "Acu1kG03ZH1w",
        "outputId": "787cfafe-5f82-41c3-8ff9-a0e96f0d953a"
      },
      "execution_count": null,
      "outputs": [
        {
          "output_type": "stream",
          "name": "stdout",
          "text": [
            "(2020, 4761000, 2796000, 1116000, 406000, -25000, 597000, -233000, 194000, 100000, 77000, 849000, 6145000, -792000, 10114000, 782000, 10896000, -489000)\n",
            "(2021, 5822000, 4332000, 113000, 1710000, -612000, -524000, -550000, 363000, 120000, -394000, 1377000, -19675000, 3804000, -10049000, 10896000, 847000, -1128000)\n",
            "(2022, 9108000, 9752000, -2595000, 1737000, -563000, -774000, -2215000, 568000, 367000, -1715000, 1951000, -9830000, 1865000, 1143000, 847000, 1990000, -976000)\n",
            "(2023, 5641000, 4368000, -2827000, 2243000, -699000, -2554000, 822000, -551000, -571000, -1517000, 4100000, 7375000, -11617000, 1399000, 1990000, 3389000, -1833000)\n"
          ]
        }
      ]
    },
    {
      "cell_type": "markdown",
      "source": [
        "Pasamos el resultado de las consultas a pandas"
      ],
      "metadata": {
        "id": "CXfE9z5GZQsu"
      }
    },
    {
      "cell_type": "code",
      "source": [
        "columnas = [descripcion[0] for descripcion in cursor.description]\n",
        "df_carta = pd.DataFrame(Ratios, columns=columnas)\n",
        "df_carta"
      ],
      "metadata": {
        "colab": {
          "base_uri": "https://localhost:8080/",
          "height": 192
        },
        "id": "pGZenx52ZUfS",
        "outputId": "3b6673f1-cab7-4dab-fae5-5df6e35e9500"
      },
      "execution_count": null,
      "outputs": [
        {
          "output_type": "execute_result",
          "data": {
            "text/plain": [
              "    Año  Rendimiento Sobre Los Activos (ROA)  \\\n",
              "0  2020                               0.1615   \n",
              "1  2021                               0.1505   \n",
              "2  2022                               0.2207   \n",
              "3  2023                               0.1061   \n",
              "\n",
              "   Rendimiento Sobre Activos Anualizado  \\\n",
              "0                                0.1615   \n",
              "1                                0.1505   \n",
              "2                                0.2207   \n",
              "3                                0.1061   \n",
              "\n",
              "   Rendimiento Sobre El Patrimonio (ROE)  \\\n",
              "0                                 0.2291   \n",
              "1                                 0.2564   \n",
              "2                                 0.3665   \n",
              "3                                 0.1976   \n",
              "\n",
              "   Rendimiento Sobre El Patrimonio Anualizado  \\\n",
              "0                                      0.2291   \n",
              "1                                      0.2564   \n",
              "2                                      0.3665   \n",
              "3                                      0.1976   \n",
              "\n",
              "   Rendimiento Sobre El Capital Empleado  Margen Neto  \\\n",
              "0                                 0.1831       0.2561   \n",
              "1                                 0.1824       0.2598   \n",
              "2                                 0.2546       0.3623   \n",
              "3                                 0.1206       0.1619   \n",
              "\n",
              "   Margen De Ganancia Bruta  Margen Operacional  Margen Ebitda  ROA Operativo  \n",
              "0                    0.6548              0.2605         0.2956         0.1643  \n",
              "1                    0.6893              0.2720         0.3376         0.1575  \n",
              "2                    0.6929              0.3771         0.4167         0.2297  \n",
              "3                    0.6265              0.1548         0.2138         0.1014  "
            ],
            "text/html": [
              "\n",
              "  <div id=\"df-12138920-e29e-4f85-acc8-c57a46a361e5\" class=\"colab-df-container\">\n",
              "    <div>\n",
              "<style scoped>\n",
              "    .dataframe tbody tr th:only-of-type {\n",
              "        vertical-align: middle;\n",
              "    }\n",
              "\n",
              "    .dataframe tbody tr th {\n",
              "        vertical-align: top;\n",
              "    }\n",
              "\n",
              "    .dataframe thead th {\n",
              "        text-align: right;\n",
              "    }\n",
              "</style>\n",
              "<table border=\"1\" class=\"dataframe\">\n",
              "  <thead>\n",
              "    <tr style=\"text-align: right;\">\n",
              "      <th></th>\n",
              "      <th>Año</th>\n",
              "      <th>Rendimiento Sobre Los Activos (ROA)</th>\n",
              "      <th>Rendimiento Sobre Activos Anualizado</th>\n",
              "      <th>Rendimiento Sobre El Patrimonio (ROE)</th>\n",
              "      <th>Rendimiento Sobre El Patrimonio Anualizado</th>\n",
              "      <th>Rendimiento Sobre El Capital Empleado</th>\n",
              "      <th>Margen Neto</th>\n",
              "      <th>Margen De Ganancia Bruta</th>\n",
              "      <th>Margen Operacional</th>\n",
              "      <th>Margen Ebitda</th>\n",
              "      <th>ROA Operativo</th>\n",
              "    </tr>\n",
              "  </thead>\n",
              "  <tbody>\n",
              "    <tr>\n",
              "      <th>0</th>\n",
              "      <td>2020</td>\n",
              "      <td>0.1615</td>\n",
              "      <td>0.1615</td>\n",
              "      <td>0.2291</td>\n",
              "      <td>0.2291</td>\n",
              "      <td>0.1831</td>\n",
              "      <td>0.2561</td>\n",
              "      <td>0.6548</td>\n",
              "      <td>0.2605</td>\n",
              "      <td>0.2956</td>\n",
              "      <td>0.1643</td>\n",
              "    </tr>\n",
              "    <tr>\n",
              "      <th>1</th>\n",
              "      <td>2021</td>\n",
              "      <td>0.1505</td>\n",
              "      <td>0.1505</td>\n",
              "      <td>0.2564</td>\n",
              "      <td>0.2564</td>\n",
              "      <td>0.1824</td>\n",
              "      <td>0.2598</td>\n",
              "      <td>0.6893</td>\n",
              "      <td>0.2720</td>\n",
              "      <td>0.3376</td>\n",
              "      <td>0.1575</td>\n",
              "    </tr>\n",
              "    <tr>\n",
              "      <th>2</th>\n",
              "      <td>2022</td>\n",
              "      <td>0.2207</td>\n",
              "      <td>0.2207</td>\n",
              "      <td>0.3665</td>\n",
              "      <td>0.3665</td>\n",
              "      <td>0.2546</td>\n",
              "      <td>0.3623</td>\n",
              "      <td>0.6929</td>\n",
              "      <td>0.3771</td>\n",
              "      <td>0.4167</td>\n",
              "      <td>0.2297</td>\n",
              "    </tr>\n",
              "    <tr>\n",
              "      <th>3</th>\n",
              "      <td>2023</td>\n",
              "      <td>0.1061</td>\n",
              "      <td>0.1061</td>\n",
              "      <td>0.1976</td>\n",
              "      <td>0.1976</td>\n",
              "      <td>0.1206</td>\n",
              "      <td>0.1619</td>\n",
              "      <td>0.6265</td>\n",
              "      <td>0.1548</td>\n",
              "      <td>0.2138</td>\n",
              "      <td>0.1014</td>\n",
              "    </tr>\n",
              "  </tbody>\n",
              "</table>\n",
              "</div>\n",
              "    <div class=\"colab-df-buttons\">\n",
              "\n",
              "  <div class=\"colab-df-container\">\n",
              "    <button class=\"colab-df-convert\" onclick=\"convertToInteractive('df-12138920-e29e-4f85-acc8-c57a46a361e5')\"\n",
              "            title=\"Convert this dataframe to an interactive table.\"\n",
              "            style=\"display:none;\">\n",
              "\n",
              "  <svg xmlns=\"http://www.w3.org/2000/svg\" height=\"24px\" viewBox=\"0 -960 960 960\">\n",
              "    <path d=\"M120-120v-720h720v720H120Zm60-500h600v-160H180v160Zm220 220h160v-160H400v160Zm0 220h160v-160H400v160ZM180-400h160v-160H180v160Zm440 0h160v-160H620v160ZM180-180h160v-160H180v160Zm440 0h160v-160H620v160Z\"/>\n",
              "  </svg>\n",
              "    </button>\n",
              "\n",
              "  <style>\n",
              "    .colab-df-container {\n",
              "      display:flex;\n",
              "      gap: 12px;\n",
              "    }\n",
              "\n",
              "    .colab-df-convert {\n",
              "      background-color: #E8F0FE;\n",
              "      border: none;\n",
              "      border-radius: 50%;\n",
              "      cursor: pointer;\n",
              "      display: none;\n",
              "      fill: #1967D2;\n",
              "      height: 32px;\n",
              "      padding: 0 0 0 0;\n",
              "      width: 32px;\n",
              "    }\n",
              "\n",
              "    .colab-df-convert:hover {\n",
              "      background-color: #E2EBFA;\n",
              "      box-shadow: 0px 1px 2px rgba(60, 64, 67, 0.3), 0px 1px 3px 1px rgba(60, 64, 67, 0.15);\n",
              "      fill: #174EA6;\n",
              "    }\n",
              "\n",
              "    .colab-df-buttons div {\n",
              "      margin-bottom: 4px;\n",
              "    }\n",
              "\n",
              "    [theme=dark] .colab-df-convert {\n",
              "      background-color: #3B4455;\n",
              "      fill: #D2E3FC;\n",
              "    }\n",
              "\n",
              "    [theme=dark] .colab-df-convert:hover {\n",
              "      background-color: #434B5C;\n",
              "      box-shadow: 0px 1px 3px 1px rgba(0, 0, 0, 0.15);\n",
              "      filter: drop-shadow(0px 1px 2px rgba(0, 0, 0, 0.3));\n",
              "      fill: #FFFFFF;\n",
              "    }\n",
              "  </style>\n",
              "\n",
              "    <script>\n",
              "      const buttonEl =\n",
              "        document.querySelector('#df-12138920-e29e-4f85-acc8-c57a46a361e5 button.colab-df-convert');\n",
              "      buttonEl.style.display =\n",
              "        google.colab.kernel.accessAllowed ? 'block' : 'none';\n",
              "\n",
              "      async function convertToInteractive(key) {\n",
              "        const element = document.querySelector('#df-12138920-e29e-4f85-acc8-c57a46a361e5');\n",
              "        const dataTable =\n",
              "          await google.colab.kernel.invokeFunction('convertToInteractive',\n",
              "                                                    [key], {});\n",
              "        if (!dataTable) return;\n",
              "\n",
              "        const docLinkHtml = 'Like what you see? Visit the ' +\n",
              "          '<a target=\"_blank\" href=https://colab.research.google.com/notebooks/data_table.ipynb>data table notebook</a>'\n",
              "          + ' to learn more about interactive tables.';\n",
              "        element.innerHTML = '';\n",
              "        dataTable['output_type'] = 'display_data';\n",
              "        await google.colab.output.renderOutput(dataTable, element);\n",
              "        const docLink = document.createElement('div');\n",
              "        docLink.innerHTML = docLinkHtml;\n",
              "        element.appendChild(docLink);\n",
              "      }\n",
              "    </script>\n",
              "  </div>\n",
              "\n",
              "\n",
              "<div id=\"df-0aa7a6e3-047d-47f7-b310-c91c21d7d067\">\n",
              "  <button class=\"colab-df-quickchart\" onclick=\"quickchart('df-0aa7a6e3-047d-47f7-b310-c91c21d7d067')\"\n",
              "            title=\"Suggest charts\"\n",
              "            style=\"display:none;\">\n",
              "\n",
              "<svg xmlns=\"http://www.w3.org/2000/svg\" height=\"24px\"viewBox=\"0 0 24 24\"\n",
              "     width=\"24px\">\n",
              "    <g>\n",
              "        <path d=\"M19 3H5c-1.1 0-2 .9-2 2v14c0 1.1.9 2 2 2h14c1.1 0 2-.9 2-2V5c0-1.1-.9-2-2-2zM9 17H7v-7h2v7zm4 0h-2V7h2v10zm4 0h-2v-4h2v4z\"/>\n",
              "    </g>\n",
              "</svg>\n",
              "  </button>\n",
              "\n",
              "<style>\n",
              "  .colab-df-quickchart {\n",
              "      --bg-color: #E8F0FE;\n",
              "      --fill-color: #1967D2;\n",
              "      --hover-bg-color: #E2EBFA;\n",
              "      --hover-fill-color: #174EA6;\n",
              "      --disabled-fill-color: #AAA;\n",
              "      --disabled-bg-color: #DDD;\n",
              "  }\n",
              "\n",
              "  [theme=dark] .colab-df-quickchart {\n",
              "      --bg-color: #3B4455;\n",
              "      --fill-color: #D2E3FC;\n",
              "      --hover-bg-color: #434B5C;\n",
              "      --hover-fill-color: #FFFFFF;\n",
              "      --disabled-bg-color: #3B4455;\n",
              "      --disabled-fill-color: #666;\n",
              "  }\n",
              "\n",
              "  .colab-df-quickchart {\n",
              "    background-color: var(--bg-color);\n",
              "    border: none;\n",
              "    border-radius: 50%;\n",
              "    cursor: pointer;\n",
              "    display: none;\n",
              "    fill: var(--fill-color);\n",
              "    height: 32px;\n",
              "    padding: 0;\n",
              "    width: 32px;\n",
              "  }\n",
              "\n",
              "  .colab-df-quickchart:hover {\n",
              "    background-color: var(--hover-bg-color);\n",
              "    box-shadow: 0 1px 2px rgba(60, 64, 67, 0.3), 0 1px 3px 1px rgba(60, 64, 67, 0.15);\n",
              "    fill: var(--button-hover-fill-color);\n",
              "  }\n",
              "\n",
              "  .colab-df-quickchart-complete:disabled,\n",
              "  .colab-df-quickchart-complete:disabled:hover {\n",
              "    background-color: var(--disabled-bg-color);\n",
              "    fill: var(--disabled-fill-color);\n",
              "    box-shadow: none;\n",
              "  }\n",
              "\n",
              "  .colab-df-spinner {\n",
              "    border: 2px solid var(--fill-color);\n",
              "    border-color: transparent;\n",
              "    border-bottom-color: var(--fill-color);\n",
              "    animation:\n",
              "      spin 1s steps(1) infinite;\n",
              "  }\n",
              "\n",
              "  @keyframes spin {\n",
              "    0% {\n",
              "      border-color: transparent;\n",
              "      border-bottom-color: var(--fill-color);\n",
              "      border-left-color: var(--fill-color);\n",
              "    }\n",
              "    20% {\n",
              "      border-color: transparent;\n",
              "      border-left-color: var(--fill-color);\n",
              "      border-top-color: var(--fill-color);\n",
              "    }\n",
              "    30% {\n",
              "      border-color: transparent;\n",
              "      border-left-color: var(--fill-color);\n",
              "      border-top-color: var(--fill-color);\n",
              "      border-right-color: var(--fill-color);\n",
              "    }\n",
              "    40% {\n",
              "      border-color: transparent;\n",
              "      border-right-color: var(--fill-color);\n",
              "      border-top-color: var(--fill-color);\n",
              "    }\n",
              "    60% {\n",
              "      border-color: transparent;\n",
              "      border-right-color: var(--fill-color);\n",
              "    }\n",
              "    80% {\n",
              "      border-color: transparent;\n",
              "      border-right-color: var(--fill-color);\n",
              "      border-bottom-color: var(--fill-color);\n",
              "    }\n",
              "    90% {\n",
              "      border-color: transparent;\n",
              "      border-bottom-color: var(--fill-color);\n",
              "    }\n",
              "  }\n",
              "</style>\n",
              "\n",
              "  <script>\n",
              "    async function quickchart(key) {\n",
              "      const quickchartButtonEl =\n",
              "        document.querySelector('#' + key + ' button');\n",
              "      quickchartButtonEl.disabled = true;  // To prevent multiple clicks.\n",
              "      quickchartButtonEl.classList.add('colab-df-spinner');\n",
              "      try {\n",
              "        const charts = await google.colab.kernel.invokeFunction(\n",
              "            'suggestCharts', [key], {});\n",
              "      } catch (error) {\n",
              "        console.error('Error during call to suggestCharts:', error);\n",
              "      }\n",
              "      quickchartButtonEl.classList.remove('colab-df-spinner');\n",
              "      quickchartButtonEl.classList.add('colab-df-quickchart-complete');\n",
              "    }\n",
              "    (() => {\n",
              "      let quickchartButtonEl =\n",
              "        document.querySelector('#df-0aa7a6e3-047d-47f7-b310-c91c21d7d067 button');\n",
              "      quickchartButtonEl.style.display =\n",
              "        google.colab.kernel.accessAllowed ? 'block' : 'none';\n",
              "    })();\n",
              "  </script>\n",
              "</div>\n",
              "\n",
              "  <div id=\"id_f839d14c-0666-44b2-b245-98796f188e1d\">\n",
              "    <style>\n",
              "      .colab-df-generate {\n",
              "        background-color: #E8F0FE;\n",
              "        border: none;\n",
              "        border-radius: 50%;\n",
              "        cursor: pointer;\n",
              "        display: none;\n",
              "        fill: #1967D2;\n",
              "        height: 32px;\n",
              "        padding: 0 0 0 0;\n",
              "        width: 32px;\n",
              "      }\n",
              "\n",
              "      .colab-df-generate:hover {\n",
              "        background-color: #E2EBFA;\n",
              "        box-shadow: 0px 1px 2px rgba(60, 64, 67, 0.3), 0px 1px 3px 1px rgba(60, 64, 67, 0.15);\n",
              "        fill: #174EA6;\n",
              "      }\n",
              "\n",
              "      [theme=dark] .colab-df-generate {\n",
              "        background-color: #3B4455;\n",
              "        fill: #D2E3FC;\n",
              "      }\n",
              "\n",
              "      [theme=dark] .colab-df-generate:hover {\n",
              "        background-color: #434B5C;\n",
              "        box-shadow: 0px 1px 3px 1px rgba(0, 0, 0, 0.15);\n",
              "        filter: drop-shadow(0px 1px 2px rgba(0, 0, 0, 0.3));\n",
              "        fill: #FFFFFF;\n",
              "      }\n",
              "    </style>\n",
              "    <button class=\"colab-df-generate\" onclick=\"generateWithVariable('df_carta')\"\n",
              "            title=\"Generate code using this dataframe.\"\n",
              "            style=\"display:none;\">\n",
              "\n",
              "  <svg xmlns=\"http://www.w3.org/2000/svg\" height=\"24px\"viewBox=\"0 0 24 24\"\n",
              "       width=\"24px\">\n",
              "    <path d=\"M7,19H8.4L18.45,9,17,7.55,7,17.6ZM5,21V16.75L18.45,3.32a2,2,0,0,1,2.83,0l1.4,1.43a1.91,1.91,0,0,1,.58,1.4,1.91,1.91,0,0,1-.58,1.4L9.25,21ZM18.45,9,17,7.55Zm-12,3A5.31,5.31,0,0,0,4.9,8.1,5.31,5.31,0,0,0,1,6.5,5.31,5.31,0,0,0,4.9,4.9,5.31,5.31,0,0,0,6.5,1,5.31,5.31,0,0,0,8.1,4.9,5.31,5.31,0,0,0,12,6.5,5.46,5.46,0,0,0,6.5,12Z\"/>\n",
              "  </svg>\n",
              "    </button>\n",
              "    <script>\n",
              "      (() => {\n",
              "      const buttonEl =\n",
              "        document.querySelector('#id_f839d14c-0666-44b2-b245-98796f188e1d button.colab-df-generate');\n",
              "      buttonEl.style.display =\n",
              "        google.colab.kernel.accessAllowed ? 'block' : 'none';\n",
              "\n",
              "      buttonEl.onclick = () => {\n",
              "        google.colab.notebook.generateWithVariable('df_carta');\n",
              "      }\n",
              "      })();\n",
              "    </script>\n",
              "  </div>\n",
              "\n",
              "    </div>\n",
              "  </div>\n"
            ],
            "application/vnd.google.colaboratory.intrinsic+json": {
              "type": "dataframe",
              "variable_name": "df_carta",
              "summary": "{\n  \"name\": \"df_carta\",\n  \"rows\": 4,\n  \"fields\": [\n    {\n      \"column\": \"A\\u00f1o\",\n      \"properties\": {\n        \"dtype\": \"number\",\n        \"std\": 1,\n        \"min\": 2020,\n        \"max\": 2023,\n        \"num_unique_values\": 4,\n        \"samples\": [\n          2021,\n          2023,\n          2020\n        ],\n        \"semantic_type\": \"\",\n        \"description\": \"\"\n      }\n    },\n    {\n      \"column\": \"Rendimiento Sobre Los Activos (ROA)\",\n      \"properties\": {\n        \"dtype\": \"number\",\n        \"std\": 0.0471940674237769,\n        \"min\": 0.1061,\n        \"max\": 0.2207,\n        \"num_unique_values\": 4,\n        \"samples\": [\n          0.1505,\n          0.1061,\n          0.1615\n        ],\n        \"semantic_type\": \"\",\n        \"description\": \"\"\n      }\n    },\n    {\n      \"column\": \"Rendimiento Sobre Activos Anualizado\",\n      \"properties\": {\n        \"dtype\": \"number\",\n        \"std\": 0.0471940674237769,\n        \"min\": 0.1061,\n        \"max\": 0.2207,\n        \"num_unique_values\": 4,\n        \"samples\": [\n          0.1505,\n          0.1061,\n          0.1615\n        ],\n        \"semantic_type\": \"\",\n        \"description\": \"\"\n      }\n    },\n    {\n      \"column\": \"Rendimiento Sobre El Patrimonio (ROE)\",\n      \"properties\": {\n        \"dtype\": \"number\",\n        \"std\": 0.07344099672526237,\n        \"min\": 0.1976,\n        \"max\": 0.3665,\n        \"num_unique_values\": 4,\n        \"samples\": [\n          0.2564,\n          0.1976,\n          0.2291\n        ],\n        \"semantic_type\": \"\",\n        \"description\": \"\"\n      }\n    },\n    {\n      \"column\": \"Rendimiento Sobre El Patrimonio Anualizado\",\n      \"properties\": {\n        \"dtype\": \"number\",\n        \"std\": 0.07344099672526237,\n        \"min\": 0.1976,\n        \"max\": 0.3665,\n        \"num_unique_values\": 4,\n        \"samples\": [\n          0.2564,\n          0.1976,\n          0.2291\n        ],\n        \"semantic_type\": \"\",\n        \"description\": \"\"\n      }\n    },\n    {\n      \"column\": \"Rendimiento Sobre El Capital Empleado\",\n      \"properties\": {\n        \"dtype\": \"number\",\n        \"std\": 0.0547776338177058,\n        \"min\": 0.1206,\n        \"max\": 0.2546,\n        \"num_unique_values\": 4,\n        \"samples\": [\n          0.1824,\n          0.1206,\n          0.1831\n        ],\n        \"semantic_type\": \"\",\n        \"description\": \"\"\n      }\n    },\n    {\n      \"column\": \"Margen Neto\",\n      \"properties\": {\n        \"dtype\": \"number\",\n        \"std\": 0.08186197224597024,\n        \"min\": 0.1619,\n        \"max\": 0.3623,\n        \"num_unique_values\": 4,\n        \"samples\": [\n          0.2598,\n          0.1619,\n          0.2561\n        ],\n        \"semantic_type\": \"\",\n        \"description\": \"\"\n      }\n    },\n    {\n      \"column\": \"Margen De Ganancia Bruta\",\n      \"properties\": {\n        \"dtype\": \"number\",\n        \"std\": 0.03136945170065936,\n        \"min\": 0.6265,\n        \"max\": 0.6929,\n        \"num_unique_values\": 4,\n        \"samples\": [\n          0.6893,\n          0.6265,\n          0.6548\n        ],\n        \"semantic_type\": \"\",\n        \"description\": \"\"\n      }\n    },\n    {\n      \"column\": \"Margen Operacional\",\n      \"properties\": {\n        \"dtype\": \"number\",\n        \"std\": 0.09087511577250763,\n        \"min\": 0.1548,\n        \"max\": 0.3771,\n        \"num_unique_values\": 4,\n        \"samples\": [\n          0.272,\n          0.1548,\n          0.2605\n        ],\n        \"semantic_type\": \"\",\n        \"description\": \"\"\n      }\n    },\n    {\n      \"column\": \"Margen Ebitda\",\n      \"properties\": {\n        \"dtype\": \"number\",\n        \"std\": 0.08459319811111689,\n        \"min\": 0.2138,\n        \"max\": 0.4167,\n        \"num_unique_values\": 4,\n        \"samples\": [\n          0.3376,\n          0.2138,\n          0.2956\n        ],\n        \"semantic_type\": \"\",\n        \"description\": \"\"\n      }\n    },\n    {\n      \"column\": \"ROA Operativo\",\n      \"properties\": {\n        \"dtype\": \"number\",\n        \"std\": 0.052520432531856905,\n        \"min\": 0.1014,\n        \"max\": 0.2297,\n        \"num_unique_values\": 4,\n        \"samples\": [\n          0.1575,\n          0.1014,\n          0.1643\n        ],\n        \"semantic_type\": \"\",\n        \"description\": \"\"\n      }\n    }\n  ]\n}"
            }
          },
          "metadata": {},
          "execution_count": 14
        }
      ]
    },
    {
      "cell_type": "code",
      "source": [
        "columnas = [descripcion[0] for descripcion in cursor.description]\n",
        "df_carta = pd.DataFrame(Efectivo, columns=columnas)\n",
        "df_carta"
      ],
      "metadata": {
        "colab": {
          "base_uri": "https://localhost:8080/",
          "height": 296
        },
        "id": "7_T4V5dXZTQJ",
        "outputId": "66b6c9ec-8249-4dbf-ffc0-2314bc513cb7"
      },
      "execution_count": null,
      "outputs": [
        {
          "output_type": "execute_result",
          "data": {
            "text/plain": [
              "    Año  \\\n",
              "0  2020   \n",
              "1  2021   \n",
              "2  2022   \n",
              "3  2023   \n",
              "\n",
              "   Flujo neto de efectivo por (utilizados en) actividades de explotación  \\\n",
              "0                                            4761000                       \n",
              "1                                            5822000                       \n",
              "2                                            9108000                       \n",
              "3                                            5641000                       \n",
              "\n",
              "   Utilidad Neta  Efectivo generado por las operaciones  \\\n",
              "0        2796000                                1116000   \n",
              "1        4332000                                 113000   \n",
              "2        9752000                               -2595000   \n",
              "3        4368000                               -2827000   \n",
              "\n",
              "   Ajustes por: Depreciación y deterioro de propiedad, planta y equipo  \\\n",
              "0                                             406000                     \n",
              "1                                            1710000                     \n",
              "2                                            1737000                     \n",
              "3                                            2243000                     \n",
              "\n",
              "   Ajustes por: Amortización de activos intangibles  Cambios en: Inventarios  \\\n",
              "0                                            -25000                   597000   \n",
              "1                                           -612000                  -524000   \n",
              "2                                           -563000                  -774000   \n",
              "3                                           -699000                 -2554000   \n",
              "\n",
              "   Cambios en: comerciales y otras cuentas a cobrar  \\\n",
              "0                                           -233000   \n",
              "1                                           -550000   \n",
              "2                                          -2215000   \n",
              "3                                            822000   \n",
              "\n",
              "   Cambios en: comerciales y otras cuentas a pagar  \\\n",
              "0                                           194000   \n",
              "1                                           363000   \n",
              "2                                           568000   \n",
              "3                                          -551000   \n",
              "\n",
              "   Cambios en: ingresos diferidos  Cambios en: Otras variaciones  \\\n",
              "0                          100000                          77000   \n",
              "1                          120000                        -394000   \n",
              "2                          367000                       -1715000   \n",
              "3                         -571000                       -1517000   \n",
              "\n",
              "   Otro flujo de efectivo de actividades operativas  \\\n",
              "0                                            849000   \n",
              "1                                           1377000   \n",
              "2                                           1951000   \n",
              "3                                           4100000   \n",
              "\n",
              "   Flujo neto de efectivo de (utilizadas en) actividades de inversión  \\\n",
              "0                                            6145000                    \n",
              "1                                          -19675000                    \n",
              "2                                           -9830000                    \n",
              "3                                            7375000                    \n",
              "\n",
              "   Flujo neto de efectivo de (utilizados en) actividades de financiación  \\\n",
              "0                                            -792000                       \n",
              "1                                            3804000                       \n",
              "2                                            1865000                       \n",
              "3                                          -11617000                       \n",
              "\n",
              "   Aumento (disminución) neto en efectivo y equivalentes de efectivo  \\\n",
              "0                                           10114000                   \n",
              "1                                          -10049000                   \n",
              "2                                            1143000                   \n",
              "3                                            1399000                   \n",
              "\n",
              "   Efectivo al inicio del período  Efectivo al final del período    CAPEX  \n",
              "0                          782000                       10896000  -489000  \n",
              "1                        10896000                         847000 -1128000  \n",
              "2                          847000                        1990000  -976000  \n",
              "3                         1990000                        3389000 -1833000  "
            ],
            "text/html": [
              "\n",
              "  <div id=\"df-a78f0d99-e000-4a9c-9fcb-dca1f3b4680c\" class=\"colab-df-container\">\n",
              "    <div>\n",
              "<style scoped>\n",
              "    .dataframe tbody tr th:only-of-type {\n",
              "        vertical-align: middle;\n",
              "    }\n",
              "\n",
              "    .dataframe tbody tr th {\n",
              "        vertical-align: top;\n",
              "    }\n",
              "\n",
              "    .dataframe thead th {\n",
              "        text-align: right;\n",
              "    }\n",
              "</style>\n",
              "<table border=\"1\" class=\"dataframe\">\n",
              "  <thead>\n",
              "    <tr style=\"text-align: right;\">\n",
              "      <th></th>\n",
              "      <th>Año</th>\n",
              "      <th>Flujo neto de efectivo por (utilizados en) actividades de explotación</th>\n",
              "      <th>Utilidad Neta</th>\n",
              "      <th>Efectivo generado por las operaciones</th>\n",
              "      <th>Ajustes por: Depreciación y deterioro de propiedad, planta y equipo</th>\n",
              "      <th>Ajustes por: Amortización de activos intangibles</th>\n",
              "      <th>Cambios en: Inventarios</th>\n",
              "      <th>Cambios en: comerciales y otras cuentas a cobrar</th>\n",
              "      <th>Cambios en: comerciales y otras cuentas a pagar</th>\n",
              "      <th>Cambios en: ingresos diferidos</th>\n",
              "      <th>Cambios en: Otras variaciones</th>\n",
              "      <th>Otro flujo de efectivo de actividades operativas</th>\n",
              "      <th>Flujo neto de efectivo de (utilizadas en) actividades de inversión</th>\n",
              "      <th>Flujo neto de efectivo de (utilizados en) actividades de financiación</th>\n",
              "      <th>Aumento (disminución) neto en efectivo y equivalentes de efectivo</th>\n",
              "      <th>Efectivo al inicio del período</th>\n",
              "      <th>Efectivo al final del período</th>\n",
              "      <th>CAPEX</th>\n",
              "    </tr>\n",
              "  </thead>\n",
              "  <tbody>\n",
              "    <tr>\n",
              "      <th>0</th>\n",
              "      <td>2020</td>\n",
              "      <td>4761000</td>\n",
              "      <td>2796000</td>\n",
              "      <td>1116000</td>\n",
              "      <td>406000</td>\n",
              "      <td>-25000</td>\n",
              "      <td>597000</td>\n",
              "      <td>-233000</td>\n",
              "      <td>194000</td>\n",
              "      <td>100000</td>\n",
              "      <td>77000</td>\n",
              "      <td>849000</td>\n",
              "      <td>6145000</td>\n",
              "      <td>-792000</td>\n",
              "      <td>10114000</td>\n",
              "      <td>782000</td>\n",
              "      <td>10896000</td>\n",
              "      <td>-489000</td>\n",
              "    </tr>\n",
              "    <tr>\n",
              "      <th>1</th>\n",
              "      <td>2021</td>\n",
              "      <td>5822000</td>\n",
              "      <td>4332000</td>\n",
              "      <td>113000</td>\n",
              "      <td>1710000</td>\n",
              "      <td>-612000</td>\n",
              "      <td>-524000</td>\n",
              "      <td>-550000</td>\n",
              "      <td>363000</td>\n",
              "      <td>120000</td>\n",
              "      <td>-394000</td>\n",
              "      <td>1377000</td>\n",
              "      <td>-19675000</td>\n",
              "      <td>3804000</td>\n",
              "      <td>-10049000</td>\n",
              "      <td>10896000</td>\n",
              "      <td>847000</td>\n",
              "      <td>-1128000</td>\n",
              "    </tr>\n",
              "    <tr>\n",
              "      <th>2</th>\n",
              "      <td>2022</td>\n",
              "      <td>9108000</td>\n",
              "      <td>9752000</td>\n",
              "      <td>-2595000</td>\n",
              "      <td>1737000</td>\n",
              "      <td>-563000</td>\n",
              "      <td>-774000</td>\n",
              "      <td>-2215000</td>\n",
              "      <td>568000</td>\n",
              "      <td>367000</td>\n",
              "      <td>-1715000</td>\n",
              "      <td>1951000</td>\n",
              "      <td>-9830000</td>\n",
              "      <td>1865000</td>\n",
              "      <td>1143000</td>\n",
              "      <td>847000</td>\n",
              "      <td>1990000</td>\n",
              "      <td>-976000</td>\n",
              "    </tr>\n",
              "    <tr>\n",
              "      <th>3</th>\n",
              "      <td>2023</td>\n",
              "      <td>5641000</td>\n",
              "      <td>4368000</td>\n",
              "      <td>-2827000</td>\n",
              "      <td>2243000</td>\n",
              "      <td>-699000</td>\n",
              "      <td>-2554000</td>\n",
              "      <td>822000</td>\n",
              "      <td>-551000</td>\n",
              "      <td>-571000</td>\n",
              "      <td>-1517000</td>\n",
              "      <td>4100000</td>\n",
              "      <td>7375000</td>\n",
              "      <td>-11617000</td>\n",
              "      <td>1399000</td>\n",
              "      <td>1990000</td>\n",
              "      <td>3389000</td>\n",
              "      <td>-1833000</td>\n",
              "    </tr>\n",
              "  </tbody>\n",
              "</table>\n",
              "</div>\n",
              "    <div class=\"colab-df-buttons\">\n",
              "\n",
              "  <div class=\"colab-df-container\">\n",
              "    <button class=\"colab-df-convert\" onclick=\"convertToInteractive('df-a78f0d99-e000-4a9c-9fcb-dca1f3b4680c')\"\n",
              "            title=\"Convert this dataframe to an interactive table.\"\n",
              "            style=\"display:none;\">\n",
              "\n",
              "  <svg xmlns=\"http://www.w3.org/2000/svg\" height=\"24px\" viewBox=\"0 -960 960 960\">\n",
              "    <path d=\"M120-120v-720h720v720H120Zm60-500h600v-160H180v160Zm220 220h160v-160H400v160Zm0 220h160v-160H400v160ZM180-400h160v-160H180v160Zm440 0h160v-160H620v160ZM180-180h160v-160H180v160Zm440 0h160v-160H620v160Z\"/>\n",
              "  </svg>\n",
              "    </button>\n",
              "\n",
              "  <style>\n",
              "    .colab-df-container {\n",
              "      display:flex;\n",
              "      gap: 12px;\n",
              "    }\n",
              "\n",
              "    .colab-df-convert {\n",
              "      background-color: #E8F0FE;\n",
              "      border: none;\n",
              "      border-radius: 50%;\n",
              "      cursor: pointer;\n",
              "      display: none;\n",
              "      fill: #1967D2;\n",
              "      height: 32px;\n",
              "      padding: 0 0 0 0;\n",
              "      width: 32px;\n",
              "    }\n",
              "\n",
              "    .colab-df-convert:hover {\n",
              "      background-color: #E2EBFA;\n",
              "      box-shadow: 0px 1px 2px rgba(60, 64, 67, 0.3), 0px 1px 3px 1px rgba(60, 64, 67, 0.15);\n",
              "      fill: #174EA6;\n",
              "    }\n",
              "\n",
              "    .colab-df-buttons div {\n",
              "      margin-bottom: 4px;\n",
              "    }\n",
              "\n",
              "    [theme=dark] .colab-df-convert {\n",
              "      background-color: #3B4455;\n",
              "      fill: #D2E3FC;\n",
              "    }\n",
              "\n",
              "    [theme=dark] .colab-df-convert:hover {\n",
              "      background-color: #434B5C;\n",
              "      box-shadow: 0px 1px 3px 1px rgba(0, 0, 0, 0.15);\n",
              "      filter: drop-shadow(0px 1px 2px rgba(0, 0, 0, 0.3));\n",
              "      fill: #FFFFFF;\n",
              "    }\n",
              "  </style>\n",
              "\n",
              "    <script>\n",
              "      const buttonEl =\n",
              "        document.querySelector('#df-a78f0d99-e000-4a9c-9fcb-dca1f3b4680c button.colab-df-convert');\n",
              "      buttonEl.style.display =\n",
              "        google.colab.kernel.accessAllowed ? 'block' : 'none';\n",
              "\n",
              "      async function convertToInteractive(key) {\n",
              "        const element = document.querySelector('#df-a78f0d99-e000-4a9c-9fcb-dca1f3b4680c');\n",
              "        const dataTable =\n",
              "          await google.colab.kernel.invokeFunction('convertToInteractive',\n",
              "                                                    [key], {});\n",
              "        if (!dataTable) return;\n",
              "\n",
              "        const docLinkHtml = 'Like what you see? Visit the ' +\n",
              "          '<a target=\"_blank\" href=https://colab.research.google.com/notebooks/data_table.ipynb>data table notebook</a>'\n",
              "          + ' to learn more about interactive tables.';\n",
              "        element.innerHTML = '';\n",
              "        dataTable['output_type'] = 'display_data';\n",
              "        await google.colab.output.renderOutput(dataTable, element);\n",
              "        const docLink = document.createElement('div');\n",
              "        docLink.innerHTML = docLinkHtml;\n",
              "        element.appendChild(docLink);\n",
              "      }\n",
              "    </script>\n",
              "  </div>\n",
              "\n",
              "\n",
              "<div id=\"df-7065facc-52ad-49dd-98cb-4fda9f4ba576\">\n",
              "  <button class=\"colab-df-quickchart\" onclick=\"quickchart('df-7065facc-52ad-49dd-98cb-4fda9f4ba576')\"\n",
              "            title=\"Suggest charts\"\n",
              "            style=\"display:none;\">\n",
              "\n",
              "<svg xmlns=\"http://www.w3.org/2000/svg\" height=\"24px\"viewBox=\"0 0 24 24\"\n",
              "     width=\"24px\">\n",
              "    <g>\n",
              "        <path d=\"M19 3H5c-1.1 0-2 .9-2 2v14c0 1.1.9 2 2 2h14c1.1 0 2-.9 2-2V5c0-1.1-.9-2-2-2zM9 17H7v-7h2v7zm4 0h-2V7h2v10zm4 0h-2v-4h2v4z\"/>\n",
              "    </g>\n",
              "</svg>\n",
              "  </button>\n",
              "\n",
              "<style>\n",
              "  .colab-df-quickchart {\n",
              "      --bg-color: #E8F0FE;\n",
              "      --fill-color: #1967D2;\n",
              "      --hover-bg-color: #E2EBFA;\n",
              "      --hover-fill-color: #174EA6;\n",
              "      --disabled-fill-color: #AAA;\n",
              "      --disabled-bg-color: #DDD;\n",
              "  }\n",
              "\n",
              "  [theme=dark] .colab-df-quickchart {\n",
              "      --bg-color: #3B4455;\n",
              "      --fill-color: #D2E3FC;\n",
              "      --hover-bg-color: #434B5C;\n",
              "      --hover-fill-color: #FFFFFF;\n",
              "      --disabled-bg-color: #3B4455;\n",
              "      --disabled-fill-color: #666;\n",
              "  }\n",
              "\n",
              "  .colab-df-quickchart {\n",
              "    background-color: var(--bg-color);\n",
              "    border: none;\n",
              "    border-radius: 50%;\n",
              "    cursor: pointer;\n",
              "    display: none;\n",
              "    fill: var(--fill-color);\n",
              "    height: 32px;\n",
              "    padding: 0;\n",
              "    width: 32px;\n",
              "  }\n",
              "\n",
              "  .colab-df-quickchart:hover {\n",
              "    background-color: var(--hover-bg-color);\n",
              "    box-shadow: 0 1px 2px rgba(60, 64, 67, 0.3), 0 1px 3px 1px rgba(60, 64, 67, 0.15);\n",
              "    fill: var(--button-hover-fill-color);\n",
              "  }\n",
              "\n",
              "  .colab-df-quickchart-complete:disabled,\n",
              "  .colab-df-quickchart-complete:disabled:hover {\n",
              "    background-color: var(--disabled-bg-color);\n",
              "    fill: var(--disabled-fill-color);\n",
              "    box-shadow: none;\n",
              "  }\n",
              "\n",
              "  .colab-df-spinner {\n",
              "    border: 2px solid var(--fill-color);\n",
              "    border-color: transparent;\n",
              "    border-bottom-color: var(--fill-color);\n",
              "    animation:\n",
              "      spin 1s steps(1) infinite;\n",
              "  }\n",
              "\n",
              "  @keyframes spin {\n",
              "    0% {\n",
              "      border-color: transparent;\n",
              "      border-bottom-color: var(--fill-color);\n",
              "      border-left-color: var(--fill-color);\n",
              "    }\n",
              "    20% {\n",
              "      border-color: transparent;\n",
              "      border-left-color: var(--fill-color);\n",
              "      border-top-color: var(--fill-color);\n",
              "    }\n",
              "    30% {\n",
              "      border-color: transparent;\n",
              "      border-left-color: var(--fill-color);\n",
              "      border-top-color: var(--fill-color);\n",
              "      border-right-color: var(--fill-color);\n",
              "    }\n",
              "    40% {\n",
              "      border-color: transparent;\n",
              "      border-right-color: var(--fill-color);\n",
              "      border-top-color: var(--fill-color);\n",
              "    }\n",
              "    60% {\n",
              "      border-color: transparent;\n",
              "      border-right-color: var(--fill-color);\n",
              "    }\n",
              "    80% {\n",
              "      border-color: transparent;\n",
              "      border-right-color: var(--fill-color);\n",
              "      border-bottom-color: var(--fill-color);\n",
              "    }\n",
              "    90% {\n",
              "      border-color: transparent;\n",
              "      border-bottom-color: var(--fill-color);\n",
              "    }\n",
              "  }\n",
              "</style>\n",
              "\n",
              "  <script>\n",
              "    async function quickchart(key) {\n",
              "      const quickchartButtonEl =\n",
              "        document.querySelector('#' + key + ' button');\n",
              "      quickchartButtonEl.disabled = true;  // To prevent multiple clicks.\n",
              "      quickchartButtonEl.classList.add('colab-df-spinner');\n",
              "      try {\n",
              "        const charts = await google.colab.kernel.invokeFunction(\n",
              "            'suggestCharts', [key], {});\n",
              "      } catch (error) {\n",
              "        console.error('Error during call to suggestCharts:', error);\n",
              "      }\n",
              "      quickchartButtonEl.classList.remove('colab-df-spinner');\n",
              "      quickchartButtonEl.classList.add('colab-df-quickchart-complete');\n",
              "    }\n",
              "    (() => {\n",
              "      let quickchartButtonEl =\n",
              "        document.querySelector('#df-7065facc-52ad-49dd-98cb-4fda9f4ba576 button');\n",
              "      quickchartButtonEl.style.display =\n",
              "        google.colab.kernel.accessAllowed ? 'block' : 'none';\n",
              "    })();\n",
              "  </script>\n",
              "</div>\n",
              "\n",
              "  <div id=\"id_c70be225-3227-4ac6-8b3f-46cff0247002\">\n",
              "    <style>\n",
              "      .colab-df-generate {\n",
              "        background-color: #E8F0FE;\n",
              "        border: none;\n",
              "        border-radius: 50%;\n",
              "        cursor: pointer;\n",
              "        display: none;\n",
              "        fill: #1967D2;\n",
              "        height: 32px;\n",
              "        padding: 0 0 0 0;\n",
              "        width: 32px;\n",
              "      }\n",
              "\n",
              "      .colab-df-generate:hover {\n",
              "        background-color: #E2EBFA;\n",
              "        box-shadow: 0px 1px 2px rgba(60, 64, 67, 0.3), 0px 1px 3px 1px rgba(60, 64, 67, 0.15);\n",
              "        fill: #174EA6;\n",
              "      }\n",
              "\n",
              "      [theme=dark] .colab-df-generate {\n",
              "        background-color: #3B4455;\n",
              "        fill: #D2E3FC;\n",
              "      }\n",
              "\n",
              "      [theme=dark] .colab-df-generate:hover {\n",
              "        background-color: #434B5C;\n",
              "        box-shadow: 0px 1px 3px 1px rgba(0, 0, 0, 0.15);\n",
              "        filter: drop-shadow(0px 1px 2px rgba(0, 0, 0, 0.3));\n",
              "        fill: #FFFFFF;\n",
              "      }\n",
              "    </style>\n",
              "    <button class=\"colab-df-generate\" onclick=\"generateWithVariable('df_carta')\"\n",
              "            title=\"Generate code using this dataframe.\"\n",
              "            style=\"display:none;\">\n",
              "\n",
              "  <svg xmlns=\"http://www.w3.org/2000/svg\" height=\"24px\"viewBox=\"0 0 24 24\"\n",
              "       width=\"24px\">\n",
              "    <path d=\"M7,19H8.4L18.45,9,17,7.55,7,17.6ZM5,21V16.75L18.45,3.32a2,2,0,0,1,2.83,0l1.4,1.43a1.91,1.91,0,0,1,.58,1.4,1.91,1.91,0,0,1-.58,1.4L9.25,21ZM18.45,9,17,7.55Zm-12,3A5.31,5.31,0,0,0,4.9,8.1,5.31,5.31,0,0,0,1,6.5,5.31,5.31,0,0,0,4.9,4.9,5.31,5.31,0,0,0,6.5,1,5.31,5.31,0,0,0,8.1,4.9,5.31,5.31,0,0,0,12,6.5,5.46,5.46,0,0,0,6.5,12Z\"/>\n",
              "  </svg>\n",
              "    </button>\n",
              "    <script>\n",
              "      (() => {\n",
              "      const buttonEl =\n",
              "        document.querySelector('#id_c70be225-3227-4ac6-8b3f-46cff0247002 button.colab-df-generate');\n",
              "      buttonEl.style.display =\n",
              "        google.colab.kernel.accessAllowed ? 'block' : 'none';\n",
              "\n",
              "      buttonEl.onclick = () => {\n",
              "        google.colab.notebook.generateWithVariable('df_carta');\n",
              "      }\n",
              "      })();\n",
              "    </script>\n",
              "  </div>\n",
              "\n",
              "    </div>\n",
              "  </div>\n"
            ],
            "application/vnd.google.colaboratory.intrinsic+json": {
              "type": "dataframe",
              "variable_name": "df_carta",
              "summary": "{\n  \"name\": \"df_carta\",\n  \"rows\": 4,\n  \"fields\": [\n    {\n      \"column\": \"A\\u00f1o\",\n      \"properties\": {\n        \"dtype\": \"number\",\n        \"std\": 1,\n        \"min\": 2020,\n        \"max\": 2023,\n        \"num_unique_values\": 4,\n        \"samples\": [\n          2021,\n          2023,\n          2020\n        ],\n        \"semantic_type\": \"\",\n        \"description\": \"\"\n      }\n    },\n    {\n      \"column\": \"Flujo neto de efectivo por (utilizados en) actividades de explotaci\\u00f3n\",\n      \"properties\": {\n        \"dtype\": \"number\",\n        \"std\": 1907161,\n        \"min\": 4761000,\n        \"max\": 9108000,\n        \"num_unique_values\": 4,\n        \"samples\": [\n          5822000,\n          5641000,\n          4761000\n        ],\n        \"semantic_type\": \"\",\n        \"description\": \"\"\n      }\n    },\n    {\n      \"column\": \"Utilidad Neta\",\n      \"properties\": {\n        \"dtype\": \"number\",\n        \"std\": 3049338,\n        \"min\": 2796000,\n        \"max\": 9752000,\n        \"num_unique_values\": 4,\n        \"samples\": [\n          4332000,\n          4368000,\n          2796000\n        ],\n        \"semantic_type\": \"\",\n        \"description\": \"\"\n      }\n    },\n    {\n      \"column\": \"Efectivo generado por las operaciones\",\n      \"properties\": {\n        \"dtype\": \"number\",\n        \"std\": 1965440,\n        \"min\": -2827000,\n        \"max\": 1116000,\n        \"num_unique_values\": 4,\n        \"samples\": [\n          113000,\n          -2827000,\n          1116000\n        ],\n        \"semantic_type\": \"\",\n        \"description\": \"\"\n      }\n    },\n    {\n      \"column\": \"Ajustes por: Depreciaci\\u00f3n y deterioro de propiedad, planta y equipo\",\n      \"properties\": {\n        \"dtype\": \"number\",\n        \"std\": 784612,\n        \"min\": 406000,\n        \"max\": 2243000,\n        \"num_unique_values\": 4,\n        \"samples\": [\n          1710000,\n          2243000,\n          406000\n        ],\n        \"semantic_type\": \"\",\n        \"description\": \"\"\n      }\n    },\n    {\n      \"column\": \"Ajustes por: Amortizaci\\u00f3n de activos intangibles\",\n      \"properties\": {\n        \"dtype\": \"number\",\n        \"std\": 305062,\n        \"min\": -699000,\n        \"max\": -25000,\n        \"num_unique_values\": 4,\n        \"samples\": [\n          -612000,\n          -699000,\n          -25000\n        ],\n        \"semantic_type\": \"\",\n        \"description\": \"\"\n      }\n    },\n    {\n      \"column\": \"Cambios en: Inventarios\",\n      \"properties\": {\n        \"dtype\": \"number\",\n        \"std\": 1304379,\n        \"min\": -2554000,\n        \"max\": 597000,\n        \"num_unique_values\": 4,\n        \"samples\": [\n          -524000,\n          -2554000,\n          597000\n        ],\n        \"semantic_type\": \"\",\n        \"description\": \"\"\n      }\n    },\n    {\n      \"column\": \"Cambios en: comerciales y otras cuentas a cobrar\",\n      \"properties\": {\n        \"dtype\": \"number\",\n        \"std\": 1258961,\n        \"min\": -2215000,\n        \"max\": 822000,\n        \"num_unique_values\": 4,\n        \"samples\": [\n          -550000,\n          822000,\n          -233000\n        ],\n        \"semantic_type\": \"\",\n        \"description\": \"\"\n      }\n    },\n    {\n      \"column\": \"Cambios en: comerciales y otras cuentas a pagar\",\n      \"properties\": {\n        \"dtype\": \"number\",\n        \"std\": 487599,\n        \"min\": -551000,\n        \"max\": 568000,\n        \"num_unique_values\": 4,\n        \"samples\": [\n          363000,\n          -551000,\n          194000\n        ],\n        \"semantic_type\": \"\",\n        \"description\": \"\"\n      }\n    },\n    {\n      \"column\": \"Cambios en: ingresos diferidos\",\n      \"properties\": {\n        \"dtype\": \"number\",\n        \"std\": 402105,\n        \"min\": -571000,\n        \"max\": 367000,\n        \"num_unique_values\": 4,\n        \"samples\": [\n          120000,\n          -571000,\n          100000\n        ],\n        \"semantic_type\": \"\",\n        \"description\": \"\"\n      }\n    },\n    {\n      \"column\": \"Cambios en: Otras variaciones\",\n      \"properties\": {\n        \"dtype\": \"number\",\n        \"std\": 866954,\n        \"min\": -1715000,\n        \"max\": 77000,\n        \"num_unique_values\": 4,\n        \"samples\": [\n          -394000,\n          -1517000,\n          77000\n        ],\n        \"semantic_type\": \"\",\n        \"description\": \"\"\n      }\n    },\n    {\n      \"column\": \"Otro flujo de efectivo de actividades operativas\",\n      \"properties\": {\n        \"dtype\": \"number\",\n        \"std\": 1426668,\n        \"min\": 849000,\n        \"max\": 4100000,\n        \"num_unique_values\": 4,\n        \"samples\": [\n          1377000,\n          4100000,\n          849000\n        ],\n        \"semantic_type\": \"\",\n        \"description\": \"\"\n      }\n    },\n    {\n      \"column\": \"Flujo neto de efectivo de (utilizadas en) actividades de inversi\\u00f3n\",\n      \"properties\": {\n        \"dtype\": \"number\",\n        \"std\": 13064023,\n        \"min\": -19675000,\n        \"max\": 7375000,\n        \"num_unique_values\": 4,\n        \"samples\": [\n          -19675000,\n          7375000,\n          6145000\n        ],\n        \"semantic_type\": \"\",\n        \"description\": \"\"\n      }\n    },\n    {\n      \"column\": \"Flujo neto de efectivo de (utilizados en) actividades de financiaci\\u00f3n\",\n      \"properties\": {\n        \"dtype\": \"number\",\n        \"std\": 6884128,\n        \"min\": -11617000,\n        \"max\": 3804000,\n        \"num_unique_values\": 4,\n        \"samples\": [\n          3804000,\n          -11617000,\n          -792000\n        ],\n        \"semantic_type\": \"\",\n        \"description\": \"\"\n      }\n    },\n    {\n      \"column\": \"Aumento (disminuci\\u00f3n) neto en efectivo y equivalentes de efectivo\",\n      \"properties\": {\n        \"dtype\": \"number\",\n        \"std\": 8263169,\n        \"min\": -10049000,\n        \"max\": 10114000,\n        \"num_unique_values\": 4,\n        \"samples\": [\n          -10049000,\n          1399000,\n          10114000\n        ],\n        \"semantic_type\": \"\",\n        \"description\": \"\"\n      }\n    },\n    {\n      \"column\": \"Efectivo al inicio del per\\u00edodo\",\n      \"properties\": {\n        \"dtype\": \"number\",\n        \"std\": 4876492,\n        \"min\": 782000,\n        \"max\": 10896000,\n        \"num_unique_values\": 4,\n        \"samples\": [\n          10896000,\n          1990000,\n          782000\n        ],\n        \"semantic_type\": \"\",\n        \"description\": \"\"\n      }\n    },\n    {\n      \"column\": \"Efectivo al final del per\\u00edodo\",\n      \"properties\": {\n        \"dtype\": \"number\",\n        \"std\": 4531185,\n        \"min\": 847000,\n        \"max\": 10896000,\n        \"num_unique_values\": 4,\n        \"samples\": [\n          847000,\n          3389000,\n          10896000\n        ],\n        \"semantic_type\": \"\",\n        \"description\": \"\"\n      }\n    },\n    {\n      \"column\": \"CAPEX\",\n      \"properties\": {\n        \"dtype\": \"number\",\n        \"std\": 555758,\n        \"min\": -1833000,\n        \"max\": -489000,\n        \"num_unique_values\": 4,\n        \"samples\": [\n          -1128000,\n          -1833000,\n          -489000\n        ],\n        \"semantic_type\": \"\",\n        \"description\": \"\"\n      }\n    }\n  ]\n}"
            }
          },
          "metadata": {},
          "execution_count": 16
        }
      ]
    },
    {
      "cell_type": "markdown",
      "source": [
        "## Consultas"
      ],
      "metadata": {
        "id": "WznWRWmcY8h5"
      }
    },
    {
      "cell_type": "markdown",
      "source": [
        "Cual es la utilidad neta total de NVIDIA del 2020 al 2023?"
      ],
      "metadata": {
        "id": "JPkfmMHJZlT0"
      }
    },
    {
      "cell_type": "code",
      "source": [
        "consulta = ''' SELECT SUM(\"Utilidad Neta\") AS \"Utilidad Neta Total\"\n",
        "               FROM \"ESTADO DE FLUJO DE EFECTIVO\"\n",
        "               '''\n",
        "\n",
        "#Ejecutamos la consulta\n",
        "cursor.execute(consulta)\n",
        "#Traemos el resultado de la consulta\n",
        "Utilidad = cursor.fetchall()\n",
        "for fila in Utilidad:\n",
        "  print(fila)"
      ],
      "metadata": {
        "colab": {
          "base_uri": "https://localhost:8080/"
        },
        "id": "b76IVcmkY2W8",
        "outputId": "bf0a99cc-7532-461f-85c5-656a385b4d72"
      },
      "execution_count": null,
      "outputs": [
        {
          "output_type": "stream",
          "name": "stdout",
          "text": [
            "(21248000,)\n"
          ]
        }
      ]
    },
    {
      "cell_type": "markdown",
      "source": [
        "Que año tiene mas rendimiento sobre los activos (ROA)"
      ],
      "metadata": {
        "id": "GMEyCMzhbgNy"
      }
    },
    {
      "cell_type": "code",
      "source": [
        "consulta = ''' SELECT MAX(\"Rendimiento Sobre Los Activos (ROA)\") AS \"ROA Maximo\", Año\n",
        "               FROM \"RATIOS DE RENTABILIDAD\"\n",
        "               '''\n",
        "\n",
        "#Ejecutamos la consulta\n",
        "cursor.execute(consulta)\n",
        "#Traemos el resultado de la consulta\n",
        "Utilidad = cursor.fetchall()\n",
        "for fila in Utilidad:\n",
        "  print(fila)"
      ],
      "metadata": {
        "colab": {
          "base_uri": "https://localhost:8080/"
        },
        "id": "AljdoJMDbYAE",
        "outputId": "7f3ef0d3-984b-4761-87e9-bf746f4bd69a"
      },
      "execution_count": null,
      "outputs": [
        {
          "output_type": "stream",
          "name": "stdout",
          "text": [
            "(0.2207, 2022)\n"
          ]
        }
      ]
    },
    {
      "cell_type": "markdown",
      "source": [
        "Cual es la variacion porcentual entre los activos no corrientes? (Año 2020-2023)"
      ],
      "metadata": {
        "id": "Mg-rNE6SccDY"
      }
    },
    {
      "cell_type": "code",
      "source": [
        "consulta2020 = ''' SELECT [Activos no corrientes]\n",
        "               FROM [BALANCE GENERAL]\n",
        "               WHERE Año = '2020'\n",
        "               '''\n",
        "\n",
        "#Ejecutamos la consulta\n",
        "cursor.execute(consulta2020)\n",
        "#Traemos el resultado de la consulta\n",
        "Nocorrientes2020 = cursor.fetchall()\n",
        "for fila in Nocorrientes2020:\n",
        "  print(fila)"
      ],
      "metadata": {
        "colab": {
          "base_uri": "https://localhost:8080/"
        },
        "id": "bQhiH-dxcTB3",
        "outputId": "a4ff00bc-22eb-4ffa-cb6a-6b21439f9522"
      },
      "execution_count": null,
      "outputs": [
        {
          "output_type": "stream",
          "name": "stdout",
          "text": [
            "(3625000,)\n"
          ]
        }
      ]
    },
    {
      "cell_type": "code",
      "source": [
        "consulta2023 = ''' SELECT [Activos no corrientes]\n",
        "               FROM [BALANCE GENERAL]\n",
        "               WHERE Año = '2023'\n",
        "               '''\n",
        "\n",
        "#Ejecutamos la consulta\n",
        "cursor.execute(consulta2023)\n",
        "#Traemos el resultado de la consulta\n",
        "Nocorrientes2023 = cursor.fetchall()\n",
        "for fila in Nocorrientes2023:\n",
        "  print(fila)"
      ],
      "metadata": {
        "colab": {
          "base_uri": "https://localhost:8080/"
        },
        "id": "W8Gb6cwlglEV",
        "outputId": "b80312b5-fbfb-4b96-b989-f0dff3ce39b8"
      },
      "execution_count": null,
      "outputs": [
        {
          "output_type": "stream",
          "name": "stdout",
          "text": [
            "(18109000,)\n"
          ]
        }
      ]
    },
    {
      "cell_type": "code",
      "source": [],
      "metadata": {
        "colab": {
          "base_uri": "https://localhost:8080/"
        },
        "id": "Y5M-W9jghHd0",
        "outputId": "cf0a2bdd-109f-46c1-ecc5-988efcd32c2e"
      },
      "execution_count": null,
      "outputs": [
        {
          "output_type": "execute_result",
          "data": {
            "text/plain": [
              "[(18109000,)]"
            ]
          },
          "metadata": {},
          "execution_count": 37
        }
      ]
    },
    {
      "cell_type": "code",
      "source": [
        "# Convert the lists of tuples to numeric values\n",
        "Nocorrientes2020 = Nocorrientes2020[0][0] # Access the first element of the first tuple\n",
        "Nocorrientes2023 = Nocorrientes2023[0][0] # Access the first element of the first tuple\n",
        "\n",
        "consultavariacion = (Nocorrientes2023 - Nocorrientes2020)/Nocorrientes2020 * 100\n",
        "print(consultavariacion)"
      ],
      "metadata": {
        "colab": {
          "base_uri": "https://localhost:8080/"
        },
        "id": "YxbhEi86g2Yu",
        "outputId": "4624a8bc-a3c8-41b4-a7d4-9575378c3589"
      },
      "execution_count": null,
      "outputs": [
        {
          "output_type": "stream",
          "name": "stdout",
          "text": [
            "399.5586206896552\n"
          ]
        }
      ]
    },
    {
      "cell_type": "markdown",
      "source": [
        "La variacion porcentual seria de 399.55%"
      ],
      "metadata": {
        "id": "Hn-QWQA0iBUD"
      }
    },
    {
      "cell_type": "markdown",
      "source": [
        "Cual es el patrimonio para el 2023?"
      ],
      "metadata": {
        "id": "jcPAZx1Lit_D"
      }
    },
    {
      "cell_type": "code",
      "source": [
        "consulta = ''' SELECT [Total de patrimonio]\n",
        "               FROM [BALANCE GENERAL]\n",
        "               WHERE Año = '2023'\n",
        "               '''\n",
        "\n",
        "#Ejecutamos la consulta\n",
        "cursor.execute(consulta)\n",
        "#Traemos el resultado de la consulta\n",
        "patrimonio = cursor.fetchall()\n",
        "for fila in patrimonio:\n",
        "  print(fila)"
      ],
      "metadata": {
        "colab": {
          "base_uri": "https://localhost:8080/"
        },
        "id": "rQcFf60KiJ7c",
        "outputId": "270e1612-9e2e-42cf-d02a-9aa74862fe9c"
      },
      "execution_count": null,
      "outputs": [
        {
          "output_type": "stream",
          "name": "stdout",
          "text": [
            "(22101000,)\n"
          ]
        }
      ]
    },
    {
      "cell_type": "markdown",
      "source": [
        "Que año tuvo el mayor EBITDA"
      ],
      "metadata": {
        "id": "1HskkF45kKnp"
      }
    },
    {
      "cell_type": "code",
      "source": [
        "consulta = ''' SELECT MAX([EBITDA]) AS \"EBITDA Maximo\", Año\n",
        "               FROM [ESTADO DE RESULTADOS]\n",
        "               '''\n",
        "\n",
        "#Ejecutamos la consulta\n",
        "cursor.execute(consulta)\n",
        "#Traemos el resultado de la consulta\n",
        "ebitda = cursor.fetchall()\n",
        "for fila in ebitda:\n",
        "  print(fila)"
      ],
      "metadata": {
        "colab": {
          "base_uri": "https://localhost:8080/"
        },
        "id": "KN9JV9DYkFjT",
        "outputId": "7b355035-08ee-406e-aa8b-438822df8784"
      },
      "execution_count": null,
      "outputs": [
        {
          "output_type": "stream",
          "name": "stdout",
          "text": [
            "(11215000, 2022)\n"
          ]
        }
      ]
    },
    {
      "cell_type": "markdown",
      "source": [
        "# Apple"
      ],
      "metadata": {
        "id": "GmjdgB2JXos4"
      }
    },
    {
      "cell_type": "markdown",
      "source": [
        "Creamos la base de datos"
      ],
      "metadata": {
        "id": "dhOymSUfktA_"
      }
    },
    {
      "cell_type": "code",
      "source": [
        "con = sqlite3.connect('apple.db')\n",
        "cursor = con.cursor()"
      ],
      "metadata": {
        "id": "pgGpllc1ksSe"
      },
      "execution_count": null,
      "outputs": []
    },
    {
      "cell_type": "markdown",
      "source": [
        "Pasamos la informacion del diccionario a la base de datos"
      ],
      "metadata": {
        "id": "GGU5kR_Lk2aR"
      }
    },
    {
      "cell_type": "code",
      "source": [
        "for hoja, apple in apple.items():\n",
        "  apple.to_sql(hoja, con, if_exists='replace', index=False)"
      ],
      "metadata": {
        "id": "_c-FXr6hXO4U"
      },
      "execution_count": null,
      "outputs": []
    },
    {
      "cell_type": "code",
      "source": [
        "#Confirmamos los datos\n",
        "con.commit()"
      ],
      "metadata": {
        "id": "lEdlu-WbXV3x"
      },
      "execution_count": null,
      "outputs": []
    },
    {
      "cell_type": "markdown",
      "source": [
        "Visualizamos las tablas en formato consulta"
      ],
      "metadata": {
        "id": "F4M9DnjCk56S"
      }
    },
    {
      "cell_type": "code",
      "source": [
        "consulta = ''' SELECT name\n",
        "               FROM sqlite_master\n",
        "               WHERE type = 'table' '''\n",
        "#Ejecutamos la consulta\n",
        "cursor.execute(consulta)\n",
        "#Printeamos el resultado de la consulta\n",
        "print(cursor.fetchall())"
      ],
      "metadata": {
        "colab": {
          "base_uri": "https://localhost:8080/"
        },
        "id": "H06grUbJXbJZ",
        "outputId": "8423a084-91e9-4664-a6b3-d67fd988b82d"
      },
      "execution_count": null,
      "outputs": [
        {
          "output_type": "stream",
          "name": "stdout",
          "text": [
            "[('BALANCE  GENERAL',), ('RATIOS DE RENTABILIDAD',), ('ESTADO DE RESULTADOS',), ('ESTADO DE FLUJO DE EFECTIVO',)]\n"
          ]
        }
      ]
    },
    {
      "cell_type": "markdown",
      "source": [
        "Miramos la informacion de la tabla RATIOS DE RENTABILIDAD"
      ],
      "metadata": {
        "id": "7no4ThioXUTi"
      }
    },
    {
      "cell_type": "code",
      "source": [
        "consulta = ''' SELECT *\n",
        "              FROM \"RATIOS DE RENTABILIDAD\" '''\n",
        "#Ejecutamos la consulta\n",
        "cursor.execute(consulta)\n",
        "#Traemos el resultado de la consulta\n",
        "Ratios = cursor.fetchall()\n",
        "for fila in Ratios:\n",
        "  print(fila)"
      ],
      "metadata": {
        "colab": {
          "base_uri": "https://localhost:8080/"
        },
        "id": "-MIuYyNjlUmO",
        "outputId": "0bf6c7d0-051f-4a69-9d16-2f1bcf58eb68"
      },
      "execution_count": null,
      "outputs": [
        {
          "output_type": "stream",
          "name": "stdout",
          "text": [
            "(2020, 0.1773, 0.1773, 0.8787, 0.8787, 0.3057, 0.2091, 0.4177, 0.2433, 0.2768, 0.2062)\n",
            "(2021, 0.2697, 0.2697, 1.5007, 1.5007, 0.8973, 0.2588, 0.4438, 0.5532, 0.3238, 0.5765)\n",
            "(2022, 0.2829, 0.2829, 1.9696, 1.9696, 0.5997, 0.2531, 0.4552, 0.3023, 0.325, 0.3379)\n",
            "(2023, 0.2751, 0.2751, 1.5608, 1.5608, 0.5496, 0.2531, 0.4635, 0.2972, 0.3204, 0.3231)\n"
          ]
        }
      ]
    },
    {
      "cell_type": "markdown",
      "source": [
        "Lo pasamos a Pandas"
      ],
      "metadata": {
        "id": "ZojtHWByle5k"
      }
    },
    {
      "cell_type": "code",
      "source": [
        "columnas = [descripcion[0] for descripcion in cursor.description]\n",
        "df_carta = pd.DataFrame(Ratios, columns=columnas)\n",
        "df_carta"
      ],
      "metadata": {
        "colab": {
          "base_uri": "https://localhost:8080/",
          "height": 192
        },
        "id": "SmTmHHznlely",
        "outputId": "a513a23f-539a-43d0-8787-ee503532d4ea"
      },
      "execution_count": null,
      "outputs": [
        {
          "output_type": "execute_result",
          "data": {
            "text/plain": [
              "    Año  Rendimiento Sobre Los Activos (ROA)  \\\n",
              "0  2020                               0.1773   \n",
              "1  2021                               0.2697   \n",
              "2  2022                               0.2829   \n",
              "3  2023                               0.2751   \n",
              "\n",
              "   Rendimiento Sobre Activos Anualizado  \\\n",
              "0                                0.1773   \n",
              "1                                0.2697   \n",
              "2                                0.2829   \n",
              "3                                0.2751   \n",
              "\n",
              "   Rendimiento Sobre El Patrimonio (ROE)  \\\n",
              "0                                 0.8787   \n",
              "1                                 1.5007   \n",
              "2                                 1.9696   \n",
              "3                                 1.5608   \n",
              "\n",
              "   Rendimiento Sobre El Patrimonio Anualizado  \\\n",
              "0                                      0.8787   \n",
              "1                                      1.5007   \n",
              "2                                      1.9696   \n",
              "3                                      1.5608   \n",
              "\n",
              "   Rendimiento Sobre El Capital Empleado  Margen Neto  \\\n",
              "0                                 0.3057       0.2091   \n",
              "1                                 0.8973       0.2588   \n",
              "2                                 0.5997       0.2531   \n",
              "3                                 0.5496       0.2531   \n",
              "\n",
              "   Margen De Ganancia Bruta  Margen Operacional  Margen Ebitda  ROA Operativo  \n",
              "0                    0.4177              0.2433         0.2768         0.2062  \n",
              "1                    0.4438              0.5532         0.3238         0.5765  \n",
              "2                    0.4552              0.3023         0.3250         0.3379  \n",
              "3                    0.4635              0.2972         0.3204         0.3231  "
            ],
            "text/html": [
              "\n",
              "  <div id=\"df-bc804828-8795-48f2-9b39-512c07971a85\" class=\"colab-df-container\">\n",
              "    <div>\n",
              "<style scoped>\n",
              "    .dataframe tbody tr th:only-of-type {\n",
              "        vertical-align: middle;\n",
              "    }\n",
              "\n",
              "    .dataframe tbody tr th {\n",
              "        vertical-align: top;\n",
              "    }\n",
              "\n",
              "    .dataframe thead th {\n",
              "        text-align: right;\n",
              "    }\n",
              "</style>\n",
              "<table border=\"1\" class=\"dataframe\">\n",
              "  <thead>\n",
              "    <tr style=\"text-align: right;\">\n",
              "      <th></th>\n",
              "      <th>Año</th>\n",
              "      <th>Rendimiento Sobre Los Activos (ROA)</th>\n",
              "      <th>Rendimiento Sobre Activos Anualizado</th>\n",
              "      <th>Rendimiento Sobre El Patrimonio (ROE)</th>\n",
              "      <th>Rendimiento Sobre El Patrimonio Anualizado</th>\n",
              "      <th>Rendimiento Sobre El Capital Empleado</th>\n",
              "      <th>Margen Neto</th>\n",
              "      <th>Margen De Ganancia Bruta</th>\n",
              "      <th>Margen Operacional</th>\n",
              "      <th>Margen Ebitda</th>\n",
              "      <th>ROA Operativo</th>\n",
              "    </tr>\n",
              "  </thead>\n",
              "  <tbody>\n",
              "    <tr>\n",
              "      <th>0</th>\n",
              "      <td>2020</td>\n",
              "      <td>0.1773</td>\n",
              "      <td>0.1773</td>\n",
              "      <td>0.8787</td>\n",
              "      <td>0.8787</td>\n",
              "      <td>0.3057</td>\n",
              "      <td>0.2091</td>\n",
              "      <td>0.4177</td>\n",
              "      <td>0.2433</td>\n",
              "      <td>0.2768</td>\n",
              "      <td>0.2062</td>\n",
              "    </tr>\n",
              "    <tr>\n",
              "      <th>1</th>\n",
              "      <td>2021</td>\n",
              "      <td>0.2697</td>\n",
              "      <td>0.2697</td>\n",
              "      <td>1.5007</td>\n",
              "      <td>1.5007</td>\n",
              "      <td>0.8973</td>\n",
              "      <td>0.2588</td>\n",
              "      <td>0.4438</td>\n",
              "      <td>0.5532</td>\n",
              "      <td>0.3238</td>\n",
              "      <td>0.5765</td>\n",
              "    </tr>\n",
              "    <tr>\n",
              "      <th>2</th>\n",
              "      <td>2022</td>\n",
              "      <td>0.2829</td>\n",
              "      <td>0.2829</td>\n",
              "      <td>1.9696</td>\n",
              "      <td>1.9696</td>\n",
              "      <td>0.5997</td>\n",
              "      <td>0.2531</td>\n",
              "      <td>0.4552</td>\n",
              "      <td>0.3023</td>\n",
              "      <td>0.3250</td>\n",
              "      <td>0.3379</td>\n",
              "    </tr>\n",
              "    <tr>\n",
              "      <th>3</th>\n",
              "      <td>2023</td>\n",
              "      <td>0.2751</td>\n",
              "      <td>0.2751</td>\n",
              "      <td>1.5608</td>\n",
              "      <td>1.5608</td>\n",
              "      <td>0.5496</td>\n",
              "      <td>0.2531</td>\n",
              "      <td>0.4635</td>\n",
              "      <td>0.2972</td>\n",
              "      <td>0.3204</td>\n",
              "      <td>0.3231</td>\n",
              "    </tr>\n",
              "  </tbody>\n",
              "</table>\n",
              "</div>\n",
              "    <div class=\"colab-df-buttons\">\n",
              "\n",
              "  <div class=\"colab-df-container\">\n",
              "    <button class=\"colab-df-convert\" onclick=\"convertToInteractive('df-bc804828-8795-48f2-9b39-512c07971a85')\"\n",
              "            title=\"Convert this dataframe to an interactive table.\"\n",
              "            style=\"display:none;\">\n",
              "\n",
              "  <svg xmlns=\"http://www.w3.org/2000/svg\" height=\"24px\" viewBox=\"0 -960 960 960\">\n",
              "    <path d=\"M120-120v-720h720v720H120Zm60-500h600v-160H180v160Zm220 220h160v-160H400v160Zm0 220h160v-160H400v160ZM180-400h160v-160H180v160Zm440 0h160v-160H620v160ZM180-180h160v-160H180v160Zm440 0h160v-160H620v160Z\"/>\n",
              "  </svg>\n",
              "    </button>\n",
              "\n",
              "  <style>\n",
              "    .colab-df-container {\n",
              "      display:flex;\n",
              "      gap: 12px;\n",
              "    }\n",
              "\n",
              "    .colab-df-convert {\n",
              "      background-color: #E8F0FE;\n",
              "      border: none;\n",
              "      border-radius: 50%;\n",
              "      cursor: pointer;\n",
              "      display: none;\n",
              "      fill: #1967D2;\n",
              "      height: 32px;\n",
              "      padding: 0 0 0 0;\n",
              "      width: 32px;\n",
              "    }\n",
              "\n",
              "    .colab-df-convert:hover {\n",
              "      background-color: #E2EBFA;\n",
              "      box-shadow: 0px 1px 2px rgba(60, 64, 67, 0.3), 0px 1px 3px 1px rgba(60, 64, 67, 0.15);\n",
              "      fill: #174EA6;\n",
              "    }\n",
              "\n",
              "    .colab-df-buttons div {\n",
              "      margin-bottom: 4px;\n",
              "    }\n",
              "\n",
              "    [theme=dark] .colab-df-convert {\n",
              "      background-color: #3B4455;\n",
              "      fill: #D2E3FC;\n",
              "    }\n",
              "\n",
              "    [theme=dark] .colab-df-convert:hover {\n",
              "      background-color: #434B5C;\n",
              "      box-shadow: 0px 1px 3px 1px rgba(0, 0, 0, 0.15);\n",
              "      filter: drop-shadow(0px 1px 2px rgba(0, 0, 0, 0.3));\n",
              "      fill: #FFFFFF;\n",
              "    }\n",
              "  </style>\n",
              "\n",
              "    <script>\n",
              "      const buttonEl =\n",
              "        document.querySelector('#df-bc804828-8795-48f2-9b39-512c07971a85 button.colab-df-convert');\n",
              "      buttonEl.style.display =\n",
              "        google.colab.kernel.accessAllowed ? 'block' : 'none';\n",
              "\n",
              "      async function convertToInteractive(key) {\n",
              "        const element = document.querySelector('#df-bc804828-8795-48f2-9b39-512c07971a85');\n",
              "        const dataTable =\n",
              "          await google.colab.kernel.invokeFunction('convertToInteractive',\n",
              "                                                    [key], {});\n",
              "        if (!dataTable) return;\n",
              "\n",
              "        const docLinkHtml = 'Like what you see? Visit the ' +\n",
              "          '<a target=\"_blank\" href=https://colab.research.google.com/notebooks/data_table.ipynb>data table notebook</a>'\n",
              "          + ' to learn more about interactive tables.';\n",
              "        element.innerHTML = '';\n",
              "        dataTable['output_type'] = 'display_data';\n",
              "        await google.colab.output.renderOutput(dataTable, element);\n",
              "        const docLink = document.createElement('div');\n",
              "        docLink.innerHTML = docLinkHtml;\n",
              "        element.appendChild(docLink);\n",
              "      }\n",
              "    </script>\n",
              "  </div>\n",
              "\n",
              "\n",
              "<div id=\"df-ff5c811c-f5f2-4a80-85bc-a7237008cf7d\">\n",
              "  <button class=\"colab-df-quickchart\" onclick=\"quickchart('df-ff5c811c-f5f2-4a80-85bc-a7237008cf7d')\"\n",
              "            title=\"Suggest charts\"\n",
              "            style=\"display:none;\">\n",
              "\n",
              "<svg xmlns=\"http://www.w3.org/2000/svg\" height=\"24px\"viewBox=\"0 0 24 24\"\n",
              "     width=\"24px\">\n",
              "    <g>\n",
              "        <path d=\"M19 3H5c-1.1 0-2 .9-2 2v14c0 1.1.9 2 2 2h14c1.1 0 2-.9 2-2V5c0-1.1-.9-2-2-2zM9 17H7v-7h2v7zm4 0h-2V7h2v10zm4 0h-2v-4h2v4z\"/>\n",
              "    </g>\n",
              "</svg>\n",
              "  </button>\n",
              "\n",
              "<style>\n",
              "  .colab-df-quickchart {\n",
              "      --bg-color: #E8F0FE;\n",
              "      --fill-color: #1967D2;\n",
              "      --hover-bg-color: #E2EBFA;\n",
              "      --hover-fill-color: #174EA6;\n",
              "      --disabled-fill-color: #AAA;\n",
              "      --disabled-bg-color: #DDD;\n",
              "  }\n",
              "\n",
              "  [theme=dark] .colab-df-quickchart {\n",
              "      --bg-color: #3B4455;\n",
              "      --fill-color: #D2E3FC;\n",
              "      --hover-bg-color: #434B5C;\n",
              "      --hover-fill-color: #FFFFFF;\n",
              "      --disabled-bg-color: #3B4455;\n",
              "      --disabled-fill-color: #666;\n",
              "  }\n",
              "\n",
              "  .colab-df-quickchart {\n",
              "    background-color: var(--bg-color);\n",
              "    border: none;\n",
              "    border-radius: 50%;\n",
              "    cursor: pointer;\n",
              "    display: none;\n",
              "    fill: var(--fill-color);\n",
              "    height: 32px;\n",
              "    padding: 0;\n",
              "    width: 32px;\n",
              "  }\n",
              "\n",
              "  .colab-df-quickchart:hover {\n",
              "    background-color: var(--hover-bg-color);\n",
              "    box-shadow: 0 1px 2px rgba(60, 64, 67, 0.3), 0 1px 3px 1px rgba(60, 64, 67, 0.15);\n",
              "    fill: var(--button-hover-fill-color);\n",
              "  }\n",
              "\n",
              "  .colab-df-quickchart-complete:disabled,\n",
              "  .colab-df-quickchart-complete:disabled:hover {\n",
              "    background-color: var(--disabled-bg-color);\n",
              "    fill: var(--disabled-fill-color);\n",
              "    box-shadow: none;\n",
              "  }\n",
              "\n",
              "  .colab-df-spinner {\n",
              "    border: 2px solid var(--fill-color);\n",
              "    border-color: transparent;\n",
              "    border-bottom-color: var(--fill-color);\n",
              "    animation:\n",
              "      spin 1s steps(1) infinite;\n",
              "  }\n",
              "\n",
              "  @keyframes spin {\n",
              "    0% {\n",
              "      border-color: transparent;\n",
              "      border-bottom-color: var(--fill-color);\n",
              "      border-left-color: var(--fill-color);\n",
              "    }\n",
              "    20% {\n",
              "      border-color: transparent;\n",
              "      border-left-color: var(--fill-color);\n",
              "      border-top-color: var(--fill-color);\n",
              "    }\n",
              "    30% {\n",
              "      border-color: transparent;\n",
              "      border-left-color: var(--fill-color);\n",
              "      border-top-color: var(--fill-color);\n",
              "      border-right-color: var(--fill-color);\n",
              "    }\n",
              "    40% {\n",
              "      border-color: transparent;\n",
              "      border-right-color: var(--fill-color);\n",
              "      border-top-color: var(--fill-color);\n",
              "    }\n",
              "    60% {\n",
              "      border-color: transparent;\n",
              "      border-right-color: var(--fill-color);\n",
              "    }\n",
              "    80% {\n",
              "      border-color: transparent;\n",
              "      border-right-color: var(--fill-color);\n",
              "      border-bottom-color: var(--fill-color);\n",
              "    }\n",
              "    90% {\n",
              "      border-color: transparent;\n",
              "      border-bottom-color: var(--fill-color);\n",
              "    }\n",
              "  }\n",
              "</style>\n",
              "\n",
              "  <script>\n",
              "    async function quickchart(key) {\n",
              "      const quickchartButtonEl =\n",
              "        document.querySelector('#' + key + ' button');\n",
              "      quickchartButtonEl.disabled = true;  // To prevent multiple clicks.\n",
              "      quickchartButtonEl.classList.add('colab-df-spinner');\n",
              "      try {\n",
              "        const charts = await google.colab.kernel.invokeFunction(\n",
              "            'suggestCharts', [key], {});\n",
              "      } catch (error) {\n",
              "        console.error('Error during call to suggestCharts:', error);\n",
              "      }\n",
              "      quickchartButtonEl.classList.remove('colab-df-spinner');\n",
              "      quickchartButtonEl.classList.add('colab-df-quickchart-complete');\n",
              "    }\n",
              "    (() => {\n",
              "      let quickchartButtonEl =\n",
              "        document.querySelector('#df-ff5c811c-f5f2-4a80-85bc-a7237008cf7d button');\n",
              "      quickchartButtonEl.style.display =\n",
              "        google.colab.kernel.accessAllowed ? 'block' : 'none';\n",
              "    })();\n",
              "  </script>\n",
              "</div>\n",
              "\n",
              "  <div id=\"id_376db8dd-0314-4ec3-b4b2-bc27139aa2ca\">\n",
              "    <style>\n",
              "      .colab-df-generate {\n",
              "        background-color: #E8F0FE;\n",
              "        border: none;\n",
              "        border-radius: 50%;\n",
              "        cursor: pointer;\n",
              "        display: none;\n",
              "        fill: #1967D2;\n",
              "        height: 32px;\n",
              "        padding: 0 0 0 0;\n",
              "        width: 32px;\n",
              "      }\n",
              "\n",
              "      .colab-df-generate:hover {\n",
              "        background-color: #E2EBFA;\n",
              "        box-shadow: 0px 1px 2px rgba(60, 64, 67, 0.3), 0px 1px 3px 1px rgba(60, 64, 67, 0.15);\n",
              "        fill: #174EA6;\n",
              "      }\n",
              "\n",
              "      [theme=dark] .colab-df-generate {\n",
              "        background-color: #3B4455;\n",
              "        fill: #D2E3FC;\n",
              "      }\n",
              "\n",
              "      [theme=dark] .colab-df-generate:hover {\n",
              "        background-color: #434B5C;\n",
              "        box-shadow: 0px 1px 3px 1px rgba(0, 0, 0, 0.15);\n",
              "        filter: drop-shadow(0px 1px 2px rgba(0, 0, 0, 0.3));\n",
              "        fill: #FFFFFF;\n",
              "      }\n",
              "    </style>\n",
              "    <button class=\"colab-df-generate\" onclick=\"generateWithVariable('df_carta')\"\n",
              "            title=\"Generate code using this dataframe.\"\n",
              "            style=\"display:none;\">\n",
              "\n",
              "  <svg xmlns=\"http://www.w3.org/2000/svg\" height=\"24px\"viewBox=\"0 0 24 24\"\n",
              "       width=\"24px\">\n",
              "    <path d=\"M7,19H8.4L18.45,9,17,7.55,7,17.6ZM5,21V16.75L18.45,3.32a2,2,0,0,1,2.83,0l1.4,1.43a1.91,1.91,0,0,1,.58,1.4,1.91,1.91,0,0,1-.58,1.4L9.25,21ZM18.45,9,17,7.55Zm-12,3A5.31,5.31,0,0,0,4.9,8.1,5.31,5.31,0,0,0,1,6.5,5.31,5.31,0,0,0,4.9,4.9,5.31,5.31,0,0,0,6.5,1,5.31,5.31,0,0,0,8.1,4.9,5.31,5.31,0,0,0,12,6.5,5.46,5.46,0,0,0,6.5,12Z\"/>\n",
              "  </svg>\n",
              "    </button>\n",
              "    <script>\n",
              "      (() => {\n",
              "      const buttonEl =\n",
              "        document.querySelector('#id_376db8dd-0314-4ec3-b4b2-bc27139aa2ca button.colab-df-generate');\n",
              "      buttonEl.style.display =\n",
              "        google.colab.kernel.accessAllowed ? 'block' : 'none';\n",
              "\n",
              "      buttonEl.onclick = () => {\n",
              "        google.colab.notebook.generateWithVariable('df_carta');\n",
              "      }\n",
              "      })();\n",
              "    </script>\n",
              "  </div>\n",
              "\n",
              "    </div>\n",
              "  </div>\n"
            ],
            "application/vnd.google.colaboratory.intrinsic+json": {
              "type": "dataframe",
              "variable_name": "df_carta",
              "summary": "{\n  \"name\": \"df_carta\",\n  \"rows\": 4,\n  \"fields\": [\n    {\n      \"column\": \"A\\u00f1o\",\n      \"properties\": {\n        \"dtype\": \"number\",\n        \"std\": 1,\n        \"min\": 2020,\n        \"max\": 2023,\n        \"num_unique_values\": 4,\n        \"samples\": [\n          2021,\n          2023,\n          2020\n        ],\n        \"semantic_type\": \"\",\n        \"description\": \"\"\n      }\n    },\n    {\n      \"column\": \"Rendimiento Sobre Los Activos (ROA)\",\n      \"properties\": {\n        \"dtype\": \"number\",\n        \"std\": 0.04959687490154999,\n        \"min\": 0.1773,\n        \"max\": 0.2829,\n        \"num_unique_values\": 4,\n        \"samples\": [\n          0.2697,\n          0.2751,\n          0.1773\n        ],\n        \"semantic_type\": \"\",\n        \"description\": \"\"\n      }\n    },\n    {\n      \"column\": \"Rendimiento Sobre Activos Anualizado\",\n      \"properties\": {\n        \"dtype\": \"number\",\n        \"std\": 0.04959687490154999,\n        \"min\": 0.1773,\n        \"max\": 0.2829,\n        \"num_unique_values\": 4,\n        \"samples\": [\n          0.2697,\n          0.2751,\n          0.1773\n        ],\n        \"semantic_type\": \"\",\n        \"description\": \"\"\n      }\n    },\n    {\n      \"column\": \"Rendimiento Sobre El Patrimonio (ROE)\",\n      \"properties\": {\n        \"dtype\": \"number\",\n        \"std\": 0.4502595436708329,\n        \"min\": 0.8787,\n        \"max\": 1.9696,\n        \"num_unique_values\": 4,\n        \"samples\": [\n          1.5007,\n          1.5608,\n          0.8787\n        ],\n        \"semantic_type\": \"\",\n        \"description\": \"\"\n      }\n    },\n    {\n      \"column\": \"Rendimiento Sobre El Patrimonio Anualizado\",\n      \"properties\": {\n        \"dtype\": \"number\",\n        \"std\": 0.4502595436708329,\n        \"min\": 0.8787,\n        \"max\": 1.9696,\n        \"num_unique_values\": 4,\n        \"samples\": [\n          1.5007,\n          1.5608,\n          0.8787\n        ],\n        \"semantic_type\": \"\",\n        \"description\": \"\"\n      }\n    },\n    {\n      \"column\": \"Rendimiento Sobre El Capital Empleado\",\n      \"properties\": {\n        \"dtype\": \"number\",\n        \"std\": 0.242879399085225,\n        \"min\": 0.3057,\n        \"max\": 0.8973,\n        \"num_unique_values\": 4,\n        \"samples\": [\n          0.8973,\n          0.5496,\n          0.3057\n        ],\n        \"semantic_type\": \"\",\n        \"description\": \"\"\n      }\n    },\n    {\n      \"column\": \"Margen Neto\",\n      \"properties\": {\n        \"dtype\": \"number\",\n        \"std\": 0.0231067630792372,\n        \"min\": 0.2091,\n        \"max\": 0.2588,\n        \"num_unique_values\": 3,\n        \"samples\": [\n          0.2091,\n          0.2588,\n          0.2531\n        ],\n        \"semantic_type\": \"\",\n        \"description\": \"\"\n      }\n    },\n    {\n      \"column\": \"Margen De Ganancia Bruta\",\n      \"properties\": {\n        \"dtype\": \"number\",\n        \"std\": 0.01994166492547701,\n        \"min\": 0.4177,\n        \"max\": 0.4635,\n        \"num_unique_values\": 4,\n        \"samples\": [\n          0.4438,\n          0.4635,\n          0.4177\n        ],\n        \"semantic_type\": \"\",\n        \"description\": \"\"\n      }\n    },\n    {\n      \"column\": \"Margen Operacional\",\n      \"properties\": {\n        \"dtype\": \"number\",\n        \"std\": 0.13872546029238228,\n        \"min\": 0.2433,\n        \"max\": 0.5532,\n        \"num_unique_values\": 4,\n        \"samples\": [\n          0.5532,\n          0.2972,\n          0.2433\n        ],\n        \"semantic_type\": \"\",\n        \"description\": \"\"\n      }\n    },\n    {\n      \"column\": \"Margen Ebitda\",\n      \"properties\": {\n        \"dtype\": \"number\",\n        \"std\": 0.023215224889426914,\n        \"min\": 0.2768,\n        \"max\": 0.325,\n        \"num_unique_values\": 4,\n        \"samples\": [\n          0.3238,\n          0.3204,\n          0.2768\n        ],\n        \"semantic_type\": \"\",\n        \"description\": \"\"\n      }\n    },\n    {\n      \"column\": \"ROA Operativo\",\n      \"properties\": {\n        \"dtype\": \"number\",\n        \"std\": 0.15532040808170275,\n        \"min\": 0.2062,\n        \"max\": 0.5765,\n        \"num_unique_values\": 4,\n        \"samples\": [\n          0.5765,\n          0.3231,\n          0.2062\n        ],\n        \"semantic_type\": \"\",\n        \"description\": \"\"\n      }\n    }\n  ]\n}"
            }
          },
          "metadata": {},
          "execution_count": 52
        }
      ]
    },
    {
      "cell_type": "markdown",
      "source": [
        "## Consultas"
      ],
      "metadata": {
        "id": "G6JEoT5XltCc"
      }
    },
    {
      "cell_type": "markdown",
      "source": [
        "Cual es la utilidad neta total de Apple del 2020 al 2023?"
      ],
      "metadata": {
        "id": "FQhkunAlltCx"
      }
    },
    {
      "cell_type": "code",
      "source": [
        "consulta = ''' SELECT SUM(\"Utilidad Neta\") AS \"Utilidad Neta Total\"\n",
        "               FROM \"ESTADO DE FLUJO DE EFECTIVO\"\n",
        "               '''\n",
        "\n",
        "#Ejecutamos la consulta\n",
        "cursor.execute(consulta)\n",
        "#Traemos el resultado de la consulta\n",
        "Utilidad = cursor.fetchall()\n",
        "for fila in Utilidad:\n",
        "  print(fila)"
      ],
      "metadata": {
        "colab": {
          "base_uri": "https://localhost:8080/"
        },
        "outputId": "b5845cce-2ded-4959-8be8-19d6010e2539",
        "id": "v_TWz5s_ltCx"
      },
      "execution_count": null,
      "outputs": [
        {
          "output_type": "stream",
          "name": "stdout",
          "text": [
            "(348889000,)\n"
          ]
        }
      ]
    },
    {
      "cell_type": "markdown",
      "source": [
        "Que año tiene mas rendimiento sobre los activos (ROA)"
      ],
      "metadata": {
        "id": "IkhHvwS5ltCy"
      }
    },
    {
      "cell_type": "code",
      "source": [
        "consulta = ''' SELECT MAX(\"Rendimiento Sobre Los Activos (ROA)\") AS \"ROA Maximo\", Año\n",
        "               FROM \"RATIOS DE RENTABILIDAD\"\n",
        "               '''\n",
        "\n",
        "#Ejecutamos la consulta\n",
        "cursor.execute(consulta)\n",
        "#Traemos el resultado de la consulta\n",
        "Utilidad = cursor.fetchall()\n",
        "for fila in Utilidad:\n",
        "  print(fila)"
      ],
      "metadata": {
        "colab": {
          "base_uri": "https://localhost:8080/"
        },
        "outputId": "09fbe814-2364-4bd3-dfb5-f341b6bd18fe",
        "id": "jqpyt0X5ltCy"
      },
      "execution_count": null,
      "outputs": [
        {
          "output_type": "stream",
          "name": "stdout",
          "text": [
            "(0.2829, 2022)\n"
          ]
        }
      ]
    },
    {
      "cell_type": "markdown",
      "source": [
        "Cual es la variacion porcentual entre los activos no corrientes? (Año 2020-2023)"
      ],
      "metadata": {
        "id": "4X2rhm7lltCz"
      }
    },
    {
      "cell_type": "code",
      "source": [
        "consulta2020 = ''' SELECT [Activos no corrientes]\n",
        "               FROM [BALANCE  GENERAL]\n",
        "               WHERE Año = '2020'\n",
        "               '''\n",
        "\n",
        "#Ejecutamos la consulta\n",
        "cursor.execute(consulta2020)\n",
        "#Traemos el resultado de la consulta\n",
        "Nocorrientes2020 = cursor.fetchall()\n",
        "for fila in Nocorrientes2020:\n",
        "  print(fila)"
      ],
      "metadata": {
        "colab": {
          "base_uri": "https://localhost:8080/"
        },
        "outputId": "5e413b3e-a90a-4917-c27d-c87c5d32411a",
        "id": "bJz2pJopltCz"
      },
      "execution_count": null,
      "outputs": [
        {
          "output_type": "stream",
          "name": "stdout",
          "text": [
            "(180175000,)\n"
          ]
        }
      ]
    },
    {
      "cell_type": "code",
      "source": [
        "consulta2023 = ''' SELECT [Activos no corrientes]\n",
        "               FROM [BALANCE  GENERAL]\n",
        "               WHERE Año = '2023'\n",
        "               '''\n",
        "\n",
        "#Ejecutamos la consulta\n",
        "cursor.execute(consulta2023)\n",
        "#Traemos el resultado de la consulta\n",
        "Nocorrientes2023 = cursor.fetchall()\n",
        "for fila in Nocorrientes2023:\n",
        "  print(fila)"
      ],
      "metadata": {
        "colab": {
          "base_uri": "https://localhost:8080/"
        },
        "outputId": "b64cd129-331b-4d11-88fb-59bfce29338d",
        "id": "e0fMGNmsltC0"
      },
      "execution_count": null,
      "outputs": [
        {
          "output_type": "stream",
          "name": "stdout",
          "text": [
            "(209017000,)\n"
          ]
        }
      ]
    },
    {
      "cell_type": "code",
      "source": [
        "# Convert the lists of tuples to numeric values\n",
        "Nocorrientes2020 = Nocorrientes2020[0][0] # Access the first element of the first tuple\n",
        "Nocorrientes2023 = Nocorrientes2023[0][0] # Access the first element of the first tuple\n",
        "\n",
        "consultavariacion = (Nocorrientes2023 - Nocorrientes2020)/Nocorrientes2020 * 100\n",
        "print(consultavariacion)"
      ],
      "metadata": {
        "colab": {
          "base_uri": "https://localhost:8080/"
        },
        "outputId": "d3d479ec-b515-4c6a-df53-766799bc28cf",
        "id": "qEM1pgIIltC0"
      },
      "execution_count": null,
      "outputs": [
        {
          "output_type": "stream",
          "name": "stdout",
          "text": [
            "16.007770223393923\n"
          ]
        }
      ]
    },
    {
      "cell_type": "markdown",
      "source": [
        "La variacion porcentual seria del 16%"
      ],
      "metadata": {
        "id": "ss3vb3JZltC1"
      }
    },
    {
      "cell_type": "markdown",
      "source": [
        "Cual es el patrimonio para el 2023?"
      ],
      "metadata": {
        "id": "Dvzk7dqsltC1"
      }
    },
    {
      "cell_type": "code",
      "source": [
        "consulta = ''' SELECT [Total de patrimonio]\n",
        "               FROM [BALANCE  GENERAL]\n",
        "               WHERE Año = '2023'\n",
        "               '''\n",
        "\n",
        "#Ejecutamos la consulta\n",
        "cursor.execute(consulta)\n",
        "#Traemos el resultado de la consulta\n",
        "patrimonio = cursor.fetchall()\n",
        "for fila in patrimonio:\n",
        "  print(fila)"
      ],
      "metadata": {
        "colab": {
          "base_uri": "https://localhost:8080/"
        },
        "outputId": "24690f7d-b53b-4623-b275-372be6fa4043",
        "id": "kEZXmvZaltC1"
      },
      "execution_count": null,
      "outputs": [
        {
          "output_type": "stream",
          "name": "stdout",
          "text": [
            "(62146000,)\n"
          ]
        }
      ]
    },
    {
      "cell_type": "markdown",
      "source": [
        "Que año tuvo el mayor EBITDA"
      ],
      "metadata": {
        "id": "TwqpymOIltC2"
      }
    },
    {
      "cell_type": "code",
      "source": [
        "consulta = ''' SELECT MAX([EBITDA]) AS \"EBITDA Maximo\", Nombre\n",
        "               FROM [ESTADO DE RESULTADOS]\n",
        "               '''\n",
        "\n",
        "#Ejecutamos la consulta\n",
        "cursor.execute(consulta)\n",
        "#Traemos el resultado de la consulta\n",
        "ebitda = cursor.fetchall()\n",
        "for fila in ebitda:\n",
        "  print(fila)"
      ],
      "metadata": {
        "colab": {
          "base_uri": "https://localhost:8080/"
        },
        "outputId": "4386e99d-b1ad-4cd3-be2b-9a4a78d9ba1a",
        "id": "KFz-6vpeltC2"
      },
      "execution_count": null,
      "outputs": [
        {
          "output_type": "stream",
          "name": "stdout",
          "text": [
            "(128137000, 2022)\n"
          ]
        }
      ]
    },
    {
      "cell_type": "markdown",
      "source": [
        "# Comparacion"
      ],
      "metadata": {
        "id": "oBVKIFU3mlpG"
      }
    },
    {
      "cell_type": "markdown",
      "source": [
        "### Utilidad Neta Total"
      ],
      "metadata": {
        "id": "rj73tdEvmsTZ"
      }
    },
    {
      "cell_type": "markdown",
      "source": [
        "\n",
        "\n",
        "*   NVIDIA: 21'248,000\n",
        "*   Apple: 348'889,000\n",
        "\n",
        "Ambos estados financieros estan en la misma escala (Miles). Podemos ver que Apple del 2020 al 2023 obtuvo una mayor utilidad neta total.\n"
      ],
      "metadata": {
        "id": "-VHPGVA1nSDm"
      }
    },
    {
      "cell_type": "markdown",
      "source": [
        "### Rendimiento Sobre los Activos (ROA)"
      ],
      "metadata": {
        "id": "0UppbBRupAcP"
      }
    },
    {
      "cell_type": "markdown",
      "source": [
        "*   NVIDIA: En el 2022 tuvo 22% de ROA\n",
        "*   Apple: En el 2022 tuvo un 28% de ROA\n",
        "\n",
        "Ambas compañías tuvieron su ROA máximo en el 2022 pero Apple también superó a NVIDIA."
      ],
      "metadata": {
        "id": "ywQ1JdBZpHk0"
      }
    },
    {
      "cell_type": "markdown",
      "source": [
        "### Variacion Porcentual entre los Activos No Corrientes (2020-2023)"
      ],
      "metadata": {
        "id": "GmKdbOTCpn5O"
      }
    },
    {
      "cell_type": "markdown",
      "source": [
        "*   NVIDIA: 399.55%\n",
        "*   Apple: 16%\n",
        "\n",
        "La variación porcentual de los activos no corrientes entre el 2020 y 2023 fue positiva para ambas compañías. Sin embargo, NVIDIA tuvo un crecimiento anormal de sus activos no corrientes. Superando de lejos a Apple."
      ],
      "metadata": {
        "id": "gLJ4gg6BpwKa"
      }
    },
    {
      "cell_type": "markdown",
      "source": [
        "### Patrimonio para el 2023"
      ],
      "metadata": {
        "id": "G-1K5CiaqH3T"
      }
    },
    {
      "cell_type": "markdown",
      "source": [
        "*   NVIDIA: 22'101,000\n",
        "*   Apple: 62'146,000\n",
        "\n",
        "Para el 2023, Apple superó a NVIDIA en patrimonio total"
      ],
      "metadata": {
        "id": "vvxhGemAqNHO"
      }
    },
    {
      "cell_type": "markdown",
      "source": [
        "### EBITDA"
      ],
      "metadata": {
        "id": "Wzo-_dbnqqj_"
      }
    },
    {
      "cell_type": "markdown",
      "source": [
        "*   NVIDIA (2022): 11'215,000\n",
        "*   Apple (2022): 128'137,000\n",
        "\n",
        "En el 2022, ambas compañías tuvieron su EBITDA máximo, pero Apple supera de lejos a NVIDIA\n"
      ],
      "metadata": {
        "id": "xVcdxuPLqy1I"
      }
    },
    {
      "cell_type": "markdown",
      "source": [
        "### Conclusion"
      ],
      "metadata": {
        "id": "lZdCL0XFrC0R"
      }
    },
    {
      "cell_type": "markdown",
      "source": [
        "De las variables comparadas, podríamos decir que Apple es una compañía mucho mas grande. Sin embargo, al ver el crecimiento porcentual de los activos no corrientes de NVIDIA podemos ver que es una compañía que ha crecido bastante."
      ],
      "metadata": {
        "id": "VqIRg0fcrQXX"
      }
    }
  ]
}