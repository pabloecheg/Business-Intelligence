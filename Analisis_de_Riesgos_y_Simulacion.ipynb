{
  "nbformat": 4,
  "nbformat_minor": 0,
  "metadata": {
    "colab": {
      "provenance": [],
      "authorship_tag": "ABX9TyNtLDInJZZob9KRe8gQr5r6",
      "include_colab_link": true
    },
    "kernelspec": {
      "name": "python3",
      "display_name": "Python 3"
    },
    "language_info": {
      "name": "python"
    }
  },
  "cells": [
    {
      "cell_type": "markdown",
      "metadata": {
        "id": "view-in-github",
        "colab_type": "text"
      },
      "source": [
        "<a href=\"https://colab.research.google.com/github/pabloecheg/Business-Intelligence/blob/main/Analisis_de_Riesgos_y_Simulacion.ipynb\" target=\"_parent\"><img src=\"https://colab.research.google.com/assets/colab-badge.svg\" alt=\"Open In Colab\"/></a>"
      ]
    },
    {
      "cell_type": "markdown",
      "source": [
        "Una empresa en el oeste de los Estados Unidos fabrica y distribuye bolsos de\n",
        "mujer a tiendas minoristas en todo el país.\n",
        "Para fabricar un bolso, la empresa por lo general incurre en un costo variable\n",
        "de 40 por bolso, pero los costos reales en el pasado han oscilado entre 35\n",
        "y 46 por bolso.\n",
        "El costo fijo total suele ser de 43,000, pero puede variar entre 31,000 y\n",
        "52,000.\n",
        "El precio minorista de cada bolso es de 65. Según una pequeña cantidad de\n",
        "datos de ventas disponibles, la demanda ha fluctuado entre 2500 y 5000\n",
        "bolsos por trimestre, pero en la mayoría de los trimestres la demanda ha sido\n",
        "de unos 3500 bolsos.\n",
        "Realice un análisis de riesgo para evaluar la rentabilidad trimestral de la\n",
        "empresa.\n"
      ],
      "metadata": {
        "id": "J7r1XIAxabjO"
      }
    },
    {
      "cell_type": "markdown",
      "source": [
        "$$Ganancia = (Precio\\_unitario - Costos\\_variable) * Demanda - Costos\\_fijo $$"
      ],
      "metadata": {
        "id": "IWQa3S4MbAY-"
      }
    },
    {
      "cell_type": "code",
      "source": [
        "def ganancia(p, cv, d, cf): #Definicion de la funcion ganancia y sus parametros de entrada\n",
        "  g = (p - cv) * d - cf #Operacion de la Ganancia\n",
        "  return g #Salida de la función declaradda"
      ],
      "metadata": {
        "id": "6nhk2-cZaqqH"
      },
      "execution_count": null,
      "outputs": []
    },
    {
      "cell_type": "code",
      "source": [
        "#Definimos los escenarios\n",
        "pesimista = ganancia(65, 46, 2500, 52000)\n",
        "optimista = ganancia(65, 40, 3500, 43000)\n",
        "probable = ganancia(65, 35, 5000, 31000)"
      ],
      "metadata": {
        "id": "lHKxuITWbPqQ"
      },
      "execution_count": null,
      "outputs": []
    },
    {
      "cell_type": "code",
      "source": [
        "import pandas as pd\n",
        "\n",
        "df = pd.DataFrame([pesimista, optimista, probable], columns=['Ganancia'], index=['Pesimista', 'Optimista', 'Probable'])\n",
        "df"
      ],
      "metadata": {
        "colab": {
          "base_uri": "https://localhost:8080/",
          "height": 143
        },
        "id": "X2a4_7LSbgyu",
        "outputId": "5385c8d4-d88b-4166-9e30-ad4c6ff7cdc2"
      },
      "execution_count": null,
      "outputs": [
        {
          "output_type": "execute_result",
          "data": {
            "text/plain": [
              "           Ganancia\n",
              "Pesimista     -4500\n",
              "Optimista     44500\n",
              "Probable     119000"
            ],
            "text/html": [
              "\n",
              "  <div id=\"df-a7c2dc8e-da1e-4f00-b918-23ba4c94f944\" class=\"colab-df-container\">\n",
              "    <div>\n",
              "<style scoped>\n",
              "    .dataframe tbody tr th:only-of-type {\n",
              "        vertical-align: middle;\n",
              "    }\n",
              "\n",
              "    .dataframe tbody tr th {\n",
              "        vertical-align: top;\n",
              "    }\n",
              "\n",
              "    .dataframe thead th {\n",
              "        text-align: right;\n",
              "    }\n",
              "</style>\n",
              "<table border=\"1\" class=\"dataframe\">\n",
              "  <thead>\n",
              "    <tr style=\"text-align: right;\">\n",
              "      <th></th>\n",
              "      <th>Ganancia</th>\n",
              "    </tr>\n",
              "  </thead>\n",
              "  <tbody>\n",
              "    <tr>\n",
              "      <th>Pesimista</th>\n",
              "      <td>-4500</td>\n",
              "    </tr>\n",
              "    <tr>\n",
              "      <th>Optimista</th>\n",
              "      <td>44500</td>\n",
              "    </tr>\n",
              "    <tr>\n",
              "      <th>Probable</th>\n",
              "      <td>119000</td>\n",
              "    </tr>\n",
              "  </tbody>\n",
              "</table>\n",
              "</div>\n",
              "    <div class=\"colab-df-buttons\">\n",
              "\n",
              "  <div class=\"colab-df-container\">\n",
              "    <button class=\"colab-df-convert\" onclick=\"convertToInteractive('df-a7c2dc8e-da1e-4f00-b918-23ba4c94f944')\"\n",
              "            title=\"Convert this dataframe to an interactive table.\"\n",
              "            style=\"display:none;\">\n",
              "\n",
              "  <svg xmlns=\"http://www.w3.org/2000/svg\" height=\"24px\" viewBox=\"0 -960 960 960\">\n",
              "    <path d=\"M120-120v-720h720v720H120Zm60-500h600v-160H180v160Zm220 220h160v-160H400v160Zm0 220h160v-160H400v160ZM180-400h160v-160H180v160Zm440 0h160v-160H620v160ZM180-180h160v-160H180v160Zm440 0h160v-160H620v160Z\"/>\n",
              "  </svg>\n",
              "    </button>\n",
              "\n",
              "  <style>\n",
              "    .colab-df-container {\n",
              "      display:flex;\n",
              "      gap: 12px;\n",
              "    }\n",
              "\n",
              "    .colab-df-convert {\n",
              "      background-color: #E8F0FE;\n",
              "      border: none;\n",
              "      border-radius: 50%;\n",
              "      cursor: pointer;\n",
              "      display: none;\n",
              "      fill: #1967D2;\n",
              "      height: 32px;\n",
              "      padding: 0 0 0 0;\n",
              "      width: 32px;\n",
              "    }\n",
              "\n",
              "    .colab-df-convert:hover {\n",
              "      background-color: #E2EBFA;\n",
              "      box-shadow: 0px 1px 2px rgba(60, 64, 67, 0.3), 0px 1px 3px 1px rgba(60, 64, 67, 0.15);\n",
              "      fill: #174EA6;\n",
              "    }\n",
              "\n",
              "    .colab-df-buttons div {\n",
              "      margin-bottom: 4px;\n",
              "    }\n",
              "\n",
              "    [theme=dark] .colab-df-convert {\n",
              "      background-color: #3B4455;\n",
              "      fill: #D2E3FC;\n",
              "    }\n",
              "\n",
              "    [theme=dark] .colab-df-convert:hover {\n",
              "      background-color: #434B5C;\n",
              "      box-shadow: 0px 1px 3px 1px rgba(0, 0, 0, 0.15);\n",
              "      filter: drop-shadow(0px 1px 2px rgba(0, 0, 0, 0.3));\n",
              "      fill: #FFFFFF;\n",
              "    }\n",
              "  </style>\n",
              "\n",
              "    <script>\n",
              "      const buttonEl =\n",
              "        document.querySelector('#df-a7c2dc8e-da1e-4f00-b918-23ba4c94f944 button.colab-df-convert');\n",
              "      buttonEl.style.display =\n",
              "        google.colab.kernel.accessAllowed ? 'block' : 'none';\n",
              "\n",
              "      async function convertToInteractive(key) {\n",
              "        const element = document.querySelector('#df-a7c2dc8e-da1e-4f00-b918-23ba4c94f944');\n",
              "        const dataTable =\n",
              "          await google.colab.kernel.invokeFunction('convertToInteractive',\n",
              "                                                    [key], {});\n",
              "        if (!dataTable) return;\n",
              "\n",
              "        const docLinkHtml = 'Like what you see? Visit the ' +\n",
              "          '<a target=\"_blank\" href=https://colab.research.google.com/notebooks/data_table.ipynb>data table notebook</a>'\n",
              "          + ' to learn more about interactive tables.';\n",
              "        element.innerHTML = '';\n",
              "        dataTable['output_type'] = 'display_data';\n",
              "        await google.colab.output.renderOutput(dataTable, element);\n",
              "        const docLink = document.createElement('div');\n",
              "        docLink.innerHTML = docLinkHtml;\n",
              "        element.appendChild(docLink);\n",
              "      }\n",
              "    </script>\n",
              "  </div>\n",
              "\n",
              "\n",
              "<div id=\"df-55565fe7-693c-4177-a467-a8a9617d2be0\">\n",
              "  <button class=\"colab-df-quickchart\" onclick=\"quickchart('df-55565fe7-693c-4177-a467-a8a9617d2be0')\"\n",
              "            title=\"Suggest charts\"\n",
              "            style=\"display:none;\">\n",
              "\n",
              "<svg xmlns=\"http://www.w3.org/2000/svg\" height=\"24px\"viewBox=\"0 0 24 24\"\n",
              "     width=\"24px\">\n",
              "    <g>\n",
              "        <path d=\"M19 3H5c-1.1 0-2 .9-2 2v14c0 1.1.9 2 2 2h14c1.1 0 2-.9 2-2V5c0-1.1-.9-2-2-2zM9 17H7v-7h2v7zm4 0h-2V7h2v10zm4 0h-2v-4h2v4z\"/>\n",
              "    </g>\n",
              "</svg>\n",
              "  </button>\n",
              "\n",
              "<style>\n",
              "  .colab-df-quickchart {\n",
              "      --bg-color: #E8F0FE;\n",
              "      --fill-color: #1967D2;\n",
              "      --hover-bg-color: #E2EBFA;\n",
              "      --hover-fill-color: #174EA6;\n",
              "      --disabled-fill-color: #AAA;\n",
              "      --disabled-bg-color: #DDD;\n",
              "  }\n",
              "\n",
              "  [theme=dark] .colab-df-quickchart {\n",
              "      --bg-color: #3B4455;\n",
              "      --fill-color: #D2E3FC;\n",
              "      --hover-bg-color: #434B5C;\n",
              "      --hover-fill-color: #FFFFFF;\n",
              "      --disabled-bg-color: #3B4455;\n",
              "      --disabled-fill-color: #666;\n",
              "  }\n",
              "\n",
              "  .colab-df-quickchart {\n",
              "    background-color: var(--bg-color);\n",
              "    border: none;\n",
              "    border-radius: 50%;\n",
              "    cursor: pointer;\n",
              "    display: none;\n",
              "    fill: var(--fill-color);\n",
              "    height: 32px;\n",
              "    padding: 0;\n",
              "    width: 32px;\n",
              "  }\n",
              "\n",
              "  .colab-df-quickchart:hover {\n",
              "    background-color: var(--hover-bg-color);\n",
              "    box-shadow: 0 1px 2px rgba(60, 64, 67, 0.3), 0 1px 3px 1px rgba(60, 64, 67, 0.15);\n",
              "    fill: var(--button-hover-fill-color);\n",
              "  }\n",
              "\n",
              "  .colab-df-quickchart-complete:disabled,\n",
              "  .colab-df-quickchart-complete:disabled:hover {\n",
              "    background-color: var(--disabled-bg-color);\n",
              "    fill: var(--disabled-fill-color);\n",
              "    box-shadow: none;\n",
              "  }\n",
              "\n",
              "  .colab-df-spinner {\n",
              "    border: 2px solid var(--fill-color);\n",
              "    border-color: transparent;\n",
              "    border-bottom-color: var(--fill-color);\n",
              "    animation:\n",
              "      spin 1s steps(1) infinite;\n",
              "  }\n",
              "\n",
              "  @keyframes spin {\n",
              "    0% {\n",
              "      border-color: transparent;\n",
              "      border-bottom-color: var(--fill-color);\n",
              "      border-left-color: var(--fill-color);\n",
              "    }\n",
              "    20% {\n",
              "      border-color: transparent;\n",
              "      border-left-color: var(--fill-color);\n",
              "      border-top-color: var(--fill-color);\n",
              "    }\n",
              "    30% {\n",
              "      border-color: transparent;\n",
              "      border-left-color: var(--fill-color);\n",
              "      border-top-color: var(--fill-color);\n",
              "      border-right-color: var(--fill-color);\n",
              "    }\n",
              "    40% {\n",
              "      border-color: transparent;\n",
              "      border-right-color: var(--fill-color);\n",
              "      border-top-color: var(--fill-color);\n",
              "    }\n",
              "    60% {\n",
              "      border-color: transparent;\n",
              "      border-right-color: var(--fill-color);\n",
              "    }\n",
              "    80% {\n",
              "      border-color: transparent;\n",
              "      border-right-color: var(--fill-color);\n",
              "      border-bottom-color: var(--fill-color);\n",
              "    }\n",
              "    90% {\n",
              "      border-color: transparent;\n",
              "      border-bottom-color: var(--fill-color);\n",
              "    }\n",
              "  }\n",
              "</style>\n",
              "\n",
              "  <script>\n",
              "    async function quickchart(key) {\n",
              "      const quickchartButtonEl =\n",
              "        document.querySelector('#' + key + ' button');\n",
              "      quickchartButtonEl.disabled = true;  // To prevent multiple clicks.\n",
              "      quickchartButtonEl.classList.add('colab-df-spinner');\n",
              "      try {\n",
              "        const charts = await google.colab.kernel.invokeFunction(\n",
              "            'suggestCharts', [key], {});\n",
              "      } catch (error) {\n",
              "        console.error('Error during call to suggestCharts:', error);\n",
              "      }\n",
              "      quickchartButtonEl.classList.remove('colab-df-spinner');\n",
              "      quickchartButtonEl.classList.add('colab-df-quickchart-complete');\n",
              "    }\n",
              "    (() => {\n",
              "      let quickchartButtonEl =\n",
              "        document.querySelector('#df-55565fe7-693c-4177-a467-a8a9617d2be0 button');\n",
              "      quickchartButtonEl.style.display =\n",
              "        google.colab.kernel.accessAllowed ? 'block' : 'none';\n",
              "    })();\n",
              "  </script>\n",
              "</div>\n",
              "\n",
              "  <div id=\"id_922dbc5f-6d25-4ba9-a41f-0b8f295791c8\">\n",
              "    <style>\n",
              "      .colab-df-generate {\n",
              "        background-color: #E8F0FE;\n",
              "        border: none;\n",
              "        border-radius: 50%;\n",
              "        cursor: pointer;\n",
              "        display: none;\n",
              "        fill: #1967D2;\n",
              "        height: 32px;\n",
              "        padding: 0 0 0 0;\n",
              "        width: 32px;\n",
              "      }\n",
              "\n",
              "      .colab-df-generate:hover {\n",
              "        background-color: #E2EBFA;\n",
              "        box-shadow: 0px 1px 2px rgba(60, 64, 67, 0.3), 0px 1px 3px 1px rgba(60, 64, 67, 0.15);\n",
              "        fill: #174EA6;\n",
              "      }\n",
              "\n",
              "      [theme=dark] .colab-df-generate {\n",
              "        background-color: #3B4455;\n",
              "        fill: #D2E3FC;\n",
              "      }\n",
              "\n",
              "      [theme=dark] .colab-df-generate:hover {\n",
              "        background-color: #434B5C;\n",
              "        box-shadow: 0px 1px 3px 1px rgba(0, 0, 0, 0.15);\n",
              "        filter: drop-shadow(0px 1px 2px rgba(0, 0, 0, 0.3));\n",
              "        fill: #FFFFFF;\n",
              "      }\n",
              "    </style>\n",
              "    <button class=\"colab-df-generate\" onclick=\"generateWithVariable('df')\"\n",
              "            title=\"Generate code using this dataframe.\"\n",
              "            style=\"display:none;\">\n",
              "\n",
              "  <svg xmlns=\"http://www.w3.org/2000/svg\" height=\"24px\"viewBox=\"0 0 24 24\"\n",
              "       width=\"24px\">\n",
              "    <path d=\"M7,19H8.4L18.45,9,17,7.55,7,17.6ZM5,21V16.75L18.45,3.32a2,2,0,0,1,2.83,0l1.4,1.43a1.91,1.91,0,0,1,.58,1.4,1.91,1.91,0,0,1-.58,1.4L9.25,21ZM18.45,9,17,7.55Zm-12,3A5.31,5.31,0,0,0,4.9,8.1,5.31,5.31,0,0,0,1,6.5,5.31,5.31,0,0,0,4.9,4.9,5.31,5.31,0,0,0,6.5,1,5.31,5.31,0,0,0,8.1,4.9,5.31,5.31,0,0,0,12,6.5,5.46,5.46,0,0,0,6.5,12Z\"/>\n",
              "  </svg>\n",
              "    </button>\n",
              "    <script>\n",
              "      (() => {\n",
              "      const buttonEl =\n",
              "        document.querySelector('#id_922dbc5f-6d25-4ba9-a41f-0b8f295791c8 button.colab-df-generate');\n",
              "      buttonEl.style.display =\n",
              "        google.colab.kernel.accessAllowed ? 'block' : 'none';\n",
              "\n",
              "      buttonEl.onclick = () => {\n",
              "        google.colab.notebook.generateWithVariable('df');\n",
              "      }\n",
              "      })();\n",
              "    </script>\n",
              "  </div>\n",
              "\n",
              "    </div>\n",
              "  </div>\n"
            ],
            "application/vnd.google.colaboratory.intrinsic+json": {
              "type": "dataframe",
              "variable_name": "df",
              "summary": "{\n  \"name\": \"df\",\n  \"rows\": 3,\n  \"fields\": [\n    {\n      \"column\": \"Ganancia\",\n      \"properties\": {\n        \"dtype\": \"number\",\n        \"std\": 62187,\n        \"min\": -4500,\n        \"max\": 119000,\n        \"num_unique_values\": 3,\n        \"samples\": [\n          -4500,\n          44500,\n          119000\n        ],\n        \"semantic_type\": \"\",\n        \"description\": \"\"\n      }\n    }\n  ]\n}"
            }
          },
          "metadata": {},
          "execution_count": 5
        }
      ]
    },
    {
      "cell_type": "markdown",
      "source": [
        "## Ejemplo"
      ],
      "metadata": {
        "id": "-Shc1Q-Sc3fp"
      }
    },
    {
      "cell_type": "markdown",
      "source": [
        "Una empresa estima que el 30% de sus clientes reaccionarían positivamente\n",
        "a sus nuevas funciones web.\n",
        "Aquí, demostramos cómo generar observaciones aleatorias que representen\n",
        "la cantidad de clientes que reaccionen positivamente a las nuevas funciones\n",
        "web de la empresa en un grupo de 10 clientes seleccionados al azar.\n",
        "Simule observaciones aleatorias basadas en 100 grupos de 10 clientes.\n"
      ],
      "metadata": {
        "id": "Z7_9_-Ssc60u"
      }
    },
    {
      "cell_type": "code",
      "source": [
        "import numpy as np\n",
        "\n",
        "np.random.seed(1) #Inicializamos la semilla para la generacion pseudoaleatoria\n",
        "salida = np.random.binomial(n = 10, p = 0.3, size = 100) #Generamos las observaciones con el numero de trials, p la prob de exito y size la cantidad de observaciones a generar\n",
        "print(f\"Promedio: {np.mean(salida)}\")\n",
        "print(f\"Desviación estándar: {np.std(salida)}\")"
      ],
      "metadata": {
        "colab": {
          "base_uri": "https://localhost:8080/"
        },
        "id": "Vv-QUUyfcVKi",
        "outputId": "6777e8d9-e9b6-45a8-e88f-b3bb710e507a"
      },
      "execution_count": null,
      "outputs": [
        {
          "output_type": "stream",
          "name": "stdout",
          "text": [
            "Promedio: 2.93\n",
            "Desviación estándar: 1.5050249167372611\n"
          ]
        }
      ]
    },
    {
      "cell_type": "markdown",
      "source": [
        "Para este caso, se trabaja con una distribucion Binomial, debido a que es un proceso de Bernoulli, esto es:\n",
        "$$n = 10$$\n",
        "$$p = 0.3$$\n",
        "$$\\bar{X} = np$$\n",
        "$$s = \\sqrt{np(1-np)}$$"
      ],
      "metadata": {
        "id": "nzdgd_6FlE-Y"
      }
    },
    {
      "cell_type": "markdown",
      "source": [
        "## Ejemplo"
      ],
      "metadata": {
        "id": "PUZNBKmYp9Fv"
      }
    },
    {
      "cell_type": "markdown",
      "source": [
        "Un proveedor de suministros médicos examina la demanda semanal de ventiladores respiratorios en los hospitales para los últimas 90 semanas.\n",
        "\n",
        "|Demanda de Ventiladores|Frecuencia|\n",
        "|---|---|\n",
        "|100|20|\n",
        "|200|25|\n",
        "|300|35|\n",
        "|400|10|\n",
        "\n",
        "Estimar la demanda de ventiladores para 100 semanas, segun la distribucion empirica de la tabla."
      ],
      "metadata": {
        "id": "F_tFaLeyqK_6"
      }
    },
    {
      "cell_type": "code",
      "source": [
        "#Establecemos los datos de entrada\n",
        "unidades = np.array([100,200,300,400])\n",
        "semanas = np.array([20,25,35,10])"
      ],
      "metadata": {
        "id": "TJjZHut3p7pE"
      },
      "execution_count": null,
      "outputs": []
    },
    {
      "cell_type": "code",
      "source": [
        "#Calculamos la frecuencia relativa\n",
        "frecuencia_relativa = semanas / np.sum(semanas)\n",
        "#Visualizamos\n",
        "frecuencia_relativa"
      ],
      "metadata": {
        "colab": {
          "base_uri": "https://localhost:8080/"
        },
        "id": "gMIVYQr0rAB0",
        "outputId": "87f00a37-7126-46f5-ea77-f8245ed44c1e"
      },
      "execution_count": null,
      "outputs": [
        {
          "output_type": "execute_result",
          "data": {
            "text/plain": [
              "array([0.22222222, 0.27777778, 0.38888889, 0.11111111])"
            ]
          },
          "metadata": {},
          "execution_count": 9
        }
      ]
    },
    {
      "cell_type": "code",
      "source": [
        "#Calculamos la probabilidad acumulativa\n",
        "probabilidad_acumul = np.cumsum(frecuencia_relativa)\n",
        "#Visualizamos\n",
        "probabilidad_acumul"
      ],
      "metadata": {
        "colab": {
          "base_uri": "https://localhost:8080/"
        },
        "id": "r7GbM7zprLcg",
        "outputId": "2842cf4c-08bd-4ab9-8a8b-9056f13e03e0"
      },
      "execution_count": null,
      "outputs": [
        {
          "output_type": "execute_result",
          "data": {
            "text/plain": [
              "array([0.22222222, 0.5       , 0.88888889, 1.        ])"
            ]
          },
          "metadata": {},
          "execution_count": 10
        }
      ]
    },
    {
      "cell_type": "code",
      "source": [
        "#Fijamos la semilla\n",
        "np.random.seed(1)\n",
        "#Generamos los numeros aleatorios\n",
        "aleatorios = np.random.uniform(low = 0, high = 1, size = 100)"
      ],
      "metadata": {
        "id": "2S5l8YB5rV4c"
      },
      "execution_count": null,
      "outputs": []
    },
    {
      "cell_type": "code",
      "source": [
        "#A la probabilidad acumulada, le agregamos un cero al inicio para generar los intervalos de la distribucion empirica\n",
        "probabilidad_acumul_bins = np.insert(probabilidad_acumul, 0, 0)\n",
        "#Visualizamos\n",
        "probabilidad_acumul_bins"
      ],
      "metadata": {
        "colab": {
          "base_uri": "https://localhost:8080/"
        },
        "id": "TQYW8SbRrlwA",
        "outputId": "5a04fe3b-2996-4bfd-9ee0-dba2bd53b9de"
      },
      "execution_count": null,
      "outputs": [
        {
          "output_type": "execute_result",
          "data": {
            "text/plain": [
              "array([0.        , 0.22222222, 0.5       , 0.88888889, 1.        ])"
            ]
          },
          "metadata": {},
          "execution_count": 12
        }
      ]
    },
    {
      "cell_type": "code",
      "source": [
        "#Calculamos la demanda de ventiladores para la distribucion empirica\n",
        "demanda = pd.cut(aleatorios, bins = probabilidad_acumul_bins, labels = unidades)"
      ],
      "metadata": {
        "id": "7H_Cg0SssLLI"
      },
      "execution_count": null,
      "outputs": []
    },
    {
      "cell_type": "code",
      "source": [
        "#Calculamos el promedio y la desviacion estandar como medidas de resumen de la demanda\n",
        "print(f\"Promedio: {np.mean(demanda)}\")\n",
        "print(f\"Desviación estándar: {np.std(demanda, ddof = 1)}\")"
      ],
      "metadata": {
        "colab": {
          "base_uri": "https://localhost:8080/"
        },
        "id": "CQ6UB1fDsVIN",
        "outputId": "847f0918-a7a8-41f7-9140-1c38b43de065"
      },
      "execution_count": null,
      "outputs": [
        {
          "output_type": "stream",
          "name": "stdout",
          "text": [
            "Promedio: 235.0\n",
            "Desviación estándar: 99.87365756167877\n"
          ]
        }
      ]
    },
    {
      "cell_type": "markdown",
      "source": [
        "## Ejemplo"
      ],
      "metadata": {
        "id": "TRm7_nPQyeS1"
      }
    },
    {
      "cell_type": "markdown",
      "source": [
        "Un fabricante de bolsos determina que su peor, mejor y más\n",
        "probable ganancia (o pérdida) es de −4,500, 119,000 y 44,500,\n",
        "respectivamente. Debido a que no tenemos datos históricos detallados o información adicional para hacer suposiciones sobre cualquier distribución\n",
        "teórica, usamos una distribución de probabilidad triangular para\n",
        "evaluar la incertidumbre de la ganancia del fabricante. Genere 100 observaciones aleatorias basadas en una distribución de\n",
        "probabilidad triangular.\n"
      ],
      "metadata": {
        "id": "ymJqo2_Uylo8"
      }
    },
    {
      "cell_type": "code",
      "source": [
        "#Planteamos los tres escenarios\n",
        "peor = -4500\n",
        "mejor = 119000\n",
        "probable = 44500\n",
        "\n",
        "#Calculamos el umbral\n",
        "umbral = (probable - peor) / (mejor - peor)\n",
        "umbral"
      ],
      "metadata": {
        "colab": {
          "base_uri": "https://localhost:8080/"
        },
        "id": "oqKacJu1ygTu",
        "outputId": "358568e8-1af7-4d68-c38e-bc78b55c3509"
      },
      "execution_count": null,
      "outputs": [
        {
          "output_type": "execute_result",
          "data": {
            "text/plain": [
              "0.3967611336032389"
            ]
          },
          "metadata": {},
          "execution_count": 16
        }
      ]
    },
    {
      "cell_type": "code",
      "source": [
        "#Generamos el numero aleatorio X\n",
        "np.random.seed(1)\n",
        "x = np.random.uniform(low = 0, high = 1, size = 100)\n",
        "\n",
        "#Calculamos la ganancia para los casos de la distribucion triangular\n",
        "ganancia_inferior = peor + np.sqrt((mejor - peor) * (probable - peor) * x)\n",
        "ganancia_superior = mejor - np.sqrt((mejor - peor) * (probable - peor) * (1 - x))"
      ],
      "metadata": {
        "id": "4oKuB51RzXEy"
      },
      "execution_count": null,
      "outputs": []
    },
    {
      "cell_type": "code",
      "source": [
        "#Calculamos la ganancia\n",
        "ganancia = np.where(x < umbral, ganancia_inferior, ganancia_superior)\n",
        "\n",
        "#Calculamos las medias de resumen\n",
        "print(f\"Promedio: {np.mean(ganancia)}\")\n",
        "print(f\"Desviación estándar: {np.std(ganancia, ddof = 1)}\")"
      ],
      "metadata": {
        "colab": {
          "base_uri": "https://localhost:8080/"
        },
        "id": "4019uyMCz4QU",
        "outputId": "ea047e0d-295a-487a-d857-96ac22b1cf3a"
      },
      "execution_count": null,
      "outputs": [
        {
          "output_type": "stream",
          "name": "stdout",
          "text": [
            "Promedio: 57535.8379461368\n",
            "Desviación estándar: 28836.682434555023\n"
          ]
        }
      ]
    },
    {
      "cell_type": "markdown",
      "source": [
        "## Parcial"
      ],
      "metadata": {
        "id": "mM9IEKfxcgOc"
      }
    },
    {
      "cell_type": "markdown",
      "source": [
        "### Ejercicio 1"
      ],
      "metadata": {
        "id": "WWsm9b7HcjS4"
      }
    },
    {
      "cell_type": "markdown",
      "source": [
        "La vida útil promedio de la batería de un teléfono inteligente es de 2.3 años y sigue una distribución exponencial. El fabricante de la batería quiere ofrecer una garantía para que sus clientes reciban un reemplazo gratuito si la batería falla durante el primer año. Cada batería genera una ganancia de 10.85 y el costo de reemplazo es de 6.35. Utilice una semilla de 1, y desarrolle una simulación de Monte Carlo para la vida útil de 100 baterías.   \n",
        "\n",
        "    \n",
        "Cuál es el costo total esperado de este programa de garantía?\n",
        "\n",
        "No olvides adjuntar el archivo con el código que respalde tu respuesta."
      ],
      "metadata": {
        "id": "W_i4sKDfc2rA"
      }
    },
    {
      "cell_type": "code",
      "source": [
        "import numpy as np\n",
        "import pandas as pd\n",
        "import random\n",
        "\n",
        "#Insertamos los parametros\n",
        "vida_util = 2.3\n",
        "ganancia = 10.85\n",
        "costo_reemplazo = 6.35\n",
        "tasa_error = 1 / vida_util\n",
        "n_simulaciones = 100\n",
        "\n",
        "#Fijamos la semilla\n",
        "np.random.seed(1)\n",
        "\n",
        "#Generamos los numeros aleatorios de la vida util de las baterias\n",
        "vida_bateria = np.random.exponential(scale = vida_util, size = n_simulaciones)\n",
        "\n",
        "#Contar cuantas baterias fallan en el primer año\n",
        "garantia = np.sum(vida_bateria < 1)\n",
        "\n",
        "#Calculamos el costo total\n",
        "costo_total = costo_reemplazo * garantia\n",
        "\n",
        "#Calculamos si el programa da utilidad\n",
        "utilidad = (n_simulaciones * ganancia) -(garantia * costo_reemplazo)\n",
        "\n",
        "#Visualizamos los resultados\n",
        "print(f\"El costo total del programa de garantía es {costo_total}\")\n",
        "print(f\"La utilidad/perdida del programa de garantía es {utilidad}\")\n"
      ],
      "metadata": {
        "colab": {
          "base_uri": "https://localhost:8080/"
        },
        "id": "9O2UvqkQcc1C",
        "outputId": "f4cf612f-d066-4ad4-eb83-5472a6b00360"
      },
      "execution_count": null,
      "outputs": [
        {
          "output_type": "stream",
          "name": "stdout",
          "text": [
            "El costo total del programa de garantía es 241.29999999999998\n",
            "La utilidad/perdida del programa de garantía es 843.7\n"
          ]
        }
      ]
    }
  ]
}