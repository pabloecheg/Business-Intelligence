{
  "nbformat": 4,
  "nbformat_minor": 0,
  "metadata": {
    "colab": {
      "provenance": [],
      "authorship_tag": "ABX9TyOoNrMOQDHNEmvBXJxjJuMM",
      "include_colab_link": true
    },
    "kernelspec": {
      "name": "python3",
      "display_name": "Python 3"
    },
    "language_info": {
      "name": "python"
    }
  },
  "cells": [
    {
      "cell_type": "markdown",
      "metadata": {
        "id": "view-in-github",
        "colab_type": "text"
      },
      "source": [
        "<a href=\"https://colab.research.google.com/github/pabloecheg/Business-Intelligence/blob/main/PARCIAL_1.ipynb\" target=\"_parent\"><img src=\"https://colab.research.google.com/assets/colab-badge.svg\" alt=\"Open In Colab\"/></a>"
      ]
    },
    {
      "cell_type": "code",
      "execution_count": null,
      "metadata": {
        "id": "K-v1XZI5NPim"
      },
      "outputs": [],
      "source": [
        "import sqlite3\n",
        "import pandas as pd\n",
        "import numpy as np"
      ]
    },
    {
      "cell_type": "code",
      "source": [
        "from google.colab import drive\n",
        "drive.mount('/content/drive')"
      ],
      "metadata": {
        "colab": {
          "base_uri": "https://localhost:8080/"
        },
        "id": "KP4h3MxbNXeh",
        "outputId": "4408f135-3eaf-46f3-a1ab-8429deefa6d2"
      },
      "execution_count": null,
      "outputs": [
        {
          "output_type": "stream",
          "name": "stdout",
          "text": [
            "Mounted at /content/drive\n"
          ]
        }
      ]
    },
    {
      "cell_type": "code",
      "source": [
        "restaurante = pd.read_excel('/content/drive/MyDrive/INTRO BI/PARCIAL 1/Restaurantes.xlsx', sheet_name= None, header=0)\n",
        "futbol = pd.read_excel('/content/drive/MyDrive/INTRO BI/PARCIAL 1/PARTIDOS.xlsx', sheet_name= None, header=0)"
      ],
      "metadata": {
        "id": "ryz54LTpNaMh"
      },
      "execution_count": null,
      "outputs": []
    },
    {
      "cell_type": "markdown",
      "source": [
        "Miramos los nombres de las tablas para cada archivo"
      ],
      "metadata": {
        "id": "VvvvJOkKOTqR"
      }
    },
    {
      "cell_type": "code",
      "source": [
        "restaurante.keys()"
      ],
      "metadata": {
        "colab": {
          "base_uri": "https://localhost:8080/"
        },
        "id": "kUlcq8J9OE94",
        "outputId": "e7a2e326-7e15-416a-a485-d30e87c34e04"
      },
      "execution_count": null,
      "outputs": [
        {
          "output_type": "execute_result",
          "data": {
            "text/plain": [
              "dict_keys(['CARTA', 'PEDIDOS'])"
            ]
          },
          "metadata": {},
          "execution_count": 5
        }
      ]
    },
    {
      "cell_type": "code",
      "source": [
        "futbol.keys()"
      ],
      "metadata": {
        "colab": {
          "base_uri": "https://localhost:8080/"
        },
        "id": "7Fkwq1MqOZ2R",
        "outputId": "5d6ecabc-ca0c-4229-978e-6c6ca3490c3a"
      },
      "execution_count": null,
      "outputs": [
        {
          "output_type": "execute_result",
          "data": {
            "text/plain": [
              "dict_keys(['EQUIPOS', 'PARTIDOS'])"
            ]
          },
          "metadata": {},
          "execution_count": 6
        }
      ]
    },
    {
      "cell_type": "markdown",
      "source": [
        "Pregunta 1:\n",
        "\n",
        "Para el restaurante de comida saludable que solo tiene domicilios, elegí dos tablas: La carta y los pedidos.\n",
        "\n",
        "La tabla de Carta tiene columnas como ID Producto, Nombre, Descripcion, Precio y Disponible.\n",
        "*   ID Producto permite tener una identificacion unica para cada producto\n",
        "*   El nombre del producto es un elemento clave, junto a la descripcion que permiten saber que es cada producto y que contiene\n",
        "*  El precio nos permite saber cuanto vale cada producto y que ingresos nos genera\n",
        "*   Y el disponible nos permite saber si el producto esta disponible en inventario o no\n",
        "\n",
        "La tabla de Pedidos tiene columnas como # de Pedido, Nombre del Cliente, ID Producto, Cantidad, Ciudad, Barrio y Estado.\n",
        "*  El numero del pedido es el identificador unico de cada pedido\n",
        "*  El nombre del cliente nos permite saber cual cliente pidio\n",
        "*  Cantidad permite saber la cantidad de cada producto que el cliente pidio\n",
        "*  El ID del producto permite mantener una relacion con la otra tabla\n",
        "*  La ciudad permite saber desde que ciudad nos estan haciendo los pedidos y se separan por barrio\n",
        "*  El estado del pedido nos permite saber si el domicilio ya fue entregado o esta pendiente\n",
        "\n",
        "\n"
      ],
      "metadata": {
        "id": "0jCY625waANv"
      }
    },
    {
      "cell_type": "code",
      "source": [],
      "metadata": {
        "id": "cnIbv-lkcrIY"
      },
      "execution_count": null,
      "outputs": []
    },
    {
      "cell_type": "markdown",
      "source": [
        "## RESTAURANTE"
      ],
      "metadata": {
        "id": "TcjHLBQWOk4n"
      }
    },
    {
      "cell_type": "markdown",
      "source": [
        "Creamos la base de datos"
      ],
      "metadata": {
        "id": "8W_58lucOije"
      }
    },
    {
      "cell_type": "code",
      "source": [
        "con = sqlite3.connect('Restaurante.db')\n",
        "cursor = con.cursor()"
      ],
      "metadata": {
        "id": "GnWW244POcCa"
      },
      "execution_count": null,
      "outputs": []
    },
    {
      "cell_type": "markdown",
      "source": [
        "Pasamos la informacion del diccionario a la base de datos"
      ],
      "metadata": {
        "id": "Xfq13YKOOxVi"
      }
    },
    {
      "cell_type": "code",
      "source": [
        "for hoja, restaurante in restaurante.items():\n",
        "  restaurante.to_sql(hoja, con, if_exists='replace', index=False)"
      ],
      "metadata": {
        "id": "8hBQdJJtO1M_"
      },
      "execution_count": null,
      "outputs": []
    },
    {
      "cell_type": "code",
      "source": [
        "#Para confirmar los datos\n",
        "con.commit()"
      ],
      "metadata": {
        "id": "MWgx5FcvPHf4"
      },
      "execution_count": null,
      "outputs": []
    },
    {
      "cell_type": "code",
      "source": [
        "#Visualizamos los nombres de las tablas en formato consulta\n",
        "consulta = ''' SELECT name\n",
        "               FROM sqlite_master\n",
        "               WHERE type = 'table' '''\n",
        "#Ejecutamos la consulta\n",
        "cursor.execute(consulta)\n",
        "#Printeamos el resultado de la consulta\n",
        "print(cursor.fetchall())"
      ],
      "metadata": {
        "colab": {
          "base_uri": "https://localhost:8080/"
        },
        "id": "b37krADkPLbl",
        "outputId": "b1b2f2a0-18f5-437d-dbda-36ae31ad221b"
      },
      "execution_count": null,
      "outputs": [
        {
          "output_type": "stream",
          "name": "stdout",
          "text": [
            "[('CARTA',), ('PEDIDOS',)]\n"
          ]
        }
      ]
    },
    {
      "cell_type": "markdown",
      "source": [
        "Para mirar la informacion de la tabla de CARTA"
      ],
      "metadata": {
        "id": "SfHlA7JpPwxJ"
      }
    },
    {
      "cell_type": "code",
      "source": [
        "consulta = ''' SELECT *\n",
        "              FROM \"CARTA\" '''\n",
        "#Ejecutamos la consulta\n",
        "cursor.execute(consulta)\n",
        "#Traemos el resultado de la consulta\n",
        "Carta = cursor.fetchall()\n",
        "for fila in Carta:\n",
        "  print(fila)"
      ],
      "metadata": {
        "colab": {
          "base_uri": "https://localhost:8080/"
        },
        "id": "NV0c4lHRPqph",
        "outputId": "2e8b9539-35cb-423c-e464-5a1522718352"
      },
      "execution_count": null,
      "outputs": [
        {
          "output_type": "stream",
          "name": "stdout",
          "text": [
            "(1, 'Ensalada Cesar', 'Ensalada Clasica con Lechuga, Tomate y Crotones', 28000, 'SI')\n",
            "(2, 'Healthy Wrap', 'Wrap de Pollo con Vegetales', 19500, 'SI')\n",
            "(3, 'Veggie Burger', 'Hamburguesa Vegetariana con mix de legumbres  servida en pan integral', 38000, 'SI')\n",
            "(4, 'Salmon Horneado', 'Salmon fresco horneado al punto, sazonado con hierbas', 52000, 'SI')\n",
            "(5, 'Detox Smoothie', 'Smoothie de frutas y espinaca', 14900, 'SI')\n"
          ]
        }
      ]
    },
    {
      "cell_type": "markdown",
      "source": [
        "Para Mirar informacion de la tabla PEDIDOS"
      ],
      "metadata": {
        "id": "8tz9-tzeR0VG"
      }
    },
    {
      "cell_type": "code",
      "source": [
        "consulta = ''' SELECT *\n",
        "              FROM \"PEDIDOS\" '''\n",
        "#Ejecutamos la consulta\n",
        "cursor.execute(consulta)\n",
        "#Traemos el resultado de la consulta\n",
        "Pedidos = cursor.fetchall()\n",
        "for fila in Pedidos:\n",
        "  print(fila)"
      ],
      "metadata": {
        "colab": {
          "base_uri": "https://localhost:8080/"
        },
        "id": "wkytu7uGR4XD",
        "outputId": "48cd7245-7fbf-483e-8ee8-5aedbb70f4e4"
      },
      "execution_count": null,
      "outputs": [
        {
          "output_type": "stream",
          "name": "stdout",
          "text": [
            "(1, 'Pablo Echeverri', 1, 2, 'Medellin', 'La Florida', 'Pendiente')\n",
            "(2, 'Camilo Guzman', 2, 1, 'Medellin', 'La Calera', 'Entregado')\n",
            "(3, 'Juan Escobar', 3, 4, 'Medellin', 'Los Balsos', 'Entregado')\n",
            "(4, 'Juan Jose Arbelaez', 4, 2, 'Envigado', 'La Calera', 'Pendiente')\n",
            "(5, 'Juan Jose Uribe', 5, 1, 'Envigado', 'Las Palmas', 'Entregado')\n"
          ]
        }
      ]
    },
    {
      "cell_type": "markdown",
      "source": [
        "Lo pasamos a pandas para observarlo mejor"
      ],
      "metadata": {
        "id": "GdS9qHVyP-r8"
      }
    },
    {
      "cell_type": "code",
      "source": [
        "columnas = [descripcion[0] for descripcion in cursor.description]\n",
        "df_carta = pd.DataFrame(Carta, columns=columnas)\n",
        "df_carta"
      ],
      "metadata": {
        "colab": {
          "base_uri": "https://localhost:8080/",
          "height": 206
        },
        "id": "8LB8-jYPQBkS",
        "outputId": "802d9bc0-7dd4-4004-d506-63597e01b07c"
      },
      "execution_count": null,
      "outputs": [
        {
          "output_type": "execute_result",
          "data": {
            "text/plain": [
              "   ID Producto           Nombre  \\\n",
              "0            1   Ensalada Cesar   \n",
              "1            2     Healthy Wrap   \n",
              "2            3    Veggie Burger   \n",
              "3            4  Salmon Horneado   \n",
              "4            5   Detox Smoothie   \n",
              "\n",
              "                                         Descripcion  Precio Disponible  \n",
              "0    Ensalada Clasica con Lechuga, Tomate y Crotones   28000         SI  \n",
              "1                        Wrap de Pollo con Vegetales   19500         SI  \n",
              "2  Hamburguesa Vegetariana con mix de legumbres  ...   38000         SI  \n",
              "3  Salmon fresco horneado al punto, sazonado con ...   52000         SI  \n",
              "4                      Smoothie de frutas y espinaca   14900         SI  "
            ],
            "text/html": [
              "\n",
              "  <div id=\"df-15527b14-1ebe-4a2a-a5a0-13d83e0fdbbc\" class=\"colab-df-container\">\n",
              "    <div>\n",
              "<style scoped>\n",
              "    .dataframe tbody tr th:only-of-type {\n",
              "        vertical-align: middle;\n",
              "    }\n",
              "\n",
              "    .dataframe tbody tr th {\n",
              "        vertical-align: top;\n",
              "    }\n",
              "\n",
              "    .dataframe thead th {\n",
              "        text-align: right;\n",
              "    }\n",
              "</style>\n",
              "<table border=\"1\" class=\"dataframe\">\n",
              "  <thead>\n",
              "    <tr style=\"text-align: right;\">\n",
              "      <th></th>\n",
              "      <th>ID Producto</th>\n",
              "      <th>Nombre</th>\n",
              "      <th>Descripcion</th>\n",
              "      <th>Precio</th>\n",
              "      <th>Disponible</th>\n",
              "    </tr>\n",
              "  </thead>\n",
              "  <tbody>\n",
              "    <tr>\n",
              "      <th>0</th>\n",
              "      <td>1</td>\n",
              "      <td>Ensalada Cesar</td>\n",
              "      <td>Ensalada Clasica con Lechuga, Tomate y Crotones</td>\n",
              "      <td>28000</td>\n",
              "      <td>SI</td>\n",
              "    </tr>\n",
              "    <tr>\n",
              "      <th>1</th>\n",
              "      <td>2</td>\n",
              "      <td>Healthy Wrap</td>\n",
              "      <td>Wrap de Pollo con Vegetales</td>\n",
              "      <td>19500</td>\n",
              "      <td>SI</td>\n",
              "    </tr>\n",
              "    <tr>\n",
              "      <th>2</th>\n",
              "      <td>3</td>\n",
              "      <td>Veggie Burger</td>\n",
              "      <td>Hamburguesa Vegetariana con mix de legumbres  ...</td>\n",
              "      <td>38000</td>\n",
              "      <td>SI</td>\n",
              "    </tr>\n",
              "    <tr>\n",
              "      <th>3</th>\n",
              "      <td>4</td>\n",
              "      <td>Salmon Horneado</td>\n",
              "      <td>Salmon fresco horneado al punto, sazonado con ...</td>\n",
              "      <td>52000</td>\n",
              "      <td>SI</td>\n",
              "    </tr>\n",
              "    <tr>\n",
              "      <th>4</th>\n",
              "      <td>5</td>\n",
              "      <td>Detox Smoothie</td>\n",
              "      <td>Smoothie de frutas y espinaca</td>\n",
              "      <td>14900</td>\n",
              "      <td>SI</td>\n",
              "    </tr>\n",
              "  </tbody>\n",
              "</table>\n",
              "</div>\n",
              "    <div class=\"colab-df-buttons\">\n",
              "\n",
              "  <div class=\"colab-df-container\">\n",
              "    <button class=\"colab-df-convert\" onclick=\"convertToInteractive('df-15527b14-1ebe-4a2a-a5a0-13d83e0fdbbc')\"\n",
              "            title=\"Convert this dataframe to an interactive table.\"\n",
              "            style=\"display:none;\">\n",
              "\n",
              "  <svg xmlns=\"http://www.w3.org/2000/svg\" height=\"24px\" viewBox=\"0 -960 960 960\">\n",
              "    <path d=\"M120-120v-720h720v720H120Zm60-500h600v-160H180v160Zm220 220h160v-160H400v160Zm0 220h160v-160H400v160ZM180-400h160v-160H180v160Zm440 0h160v-160H620v160ZM180-180h160v-160H180v160Zm440 0h160v-160H620v160Z\"/>\n",
              "  </svg>\n",
              "    </button>\n",
              "\n",
              "  <style>\n",
              "    .colab-df-container {\n",
              "      display:flex;\n",
              "      gap: 12px;\n",
              "    }\n",
              "\n",
              "    .colab-df-convert {\n",
              "      background-color: #E8F0FE;\n",
              "      border: none;\n",
              "      border-radius: 50%;\n",
              "      cursor: pointer;\n",
              "      display: none;\n",
              "      fill: #1967D2;\n",
              "      height: 32px;\n",
              "      padding: 0 0 0 0;\n",
              "      width: 32px;\n",
              "    }\n",
              "\n",
              "    .colab-df-convert:hover {\n",
              "      background-color: #E2EBFA;\n",
              "      box-shadow: 0px 1px 2px rgba(60, 64, 67, 0.3), 0px 1px 3px 1px rgba(60, 64, 67, 0.15);\n",
              "      fill: #174EA6;\n",
              "    }\n",
              "\n",
              "    .colab-df-buttons div {\n",
              "      margin-bottom: 4px;\n",
              "    }\n",
              "\n",
              "    [theme=dark] .colab-df-convert {\n",
              "      background-color: #3B4455;\n",
              "      fill: #D2E3FC;\n",
              "    }\n",
              "\n",
              "    [theme=dark] .colab-df-convert:hover {\n",
              "      background-color: #434B5C;\n",
              "      box-shadow: 0px 1px 3px 1px rgba(0, 0, 0, 0.15);\n",
              "      filter: drop-shadow(0px 1px 2px rgba(0, 0, 0, 0.3));\n",
              "      fill: #FFFFFF;\n",
              "    }\n",
              "  </style>\n",
              "\n",
              "    <script>\n",
              "      const buttonEl =\n",
              "        document.querySelector('#df-15527b14-1ebe-4a2a-a5a0-13d83e0fdbbc button.colab-df-convert');\n",
              "      buttonEl.style.display =\n",
              "        google.colab.kernel.accessAllowed ? 'block' : 'none';\n",
              "\n",
              "      async function convertToInteractive(key) {\n",
              "        const element = document.querySelector('#df-15527b14-1ebe-4a2a-a5a0-13d83e0fdbbc');\n",
              "        const dataTable =\n",
              "          await google.colab.kernel.invokeFunction('convertToInteractive',\n",
              "                                                    [key], {});\n",
              "        if (!dataTable) return;\n",
              "\n",
              "        const docLinkHtml = 'Like what you see? Visit the ' +\n",
              "          '<a target=\"_blank\" href=https://colab.research.google.com/notebooks/data_table.ipynb>data table notebook</a>'\n",
              "          + ' to learn more about interactive tables.';\n",
              "        element.innerHTML = '';\n",
              "        dataTable['output_type'] = 'display_data';\n",
              "        await google.colab.output.renderOutput(dataTable, element);\n",
              "        const docLink = document.createElement('div');\n",
              "        docLink.innerHTML = docLinkHtml;\n",
              "        element.appendChild(docLink);\n",
              "      }\n",
              "    </script>\n",
              "  </div>\n",
              "\n",
              "\n",
              "<div id=\"df-f9e78299-4f36-4dce-bf33-1819e5d4f14b\">\n",
              "  <button class=\"colab-df-quickchart\" onclick=\"quickchart('df-f9e78299-4f36-4dce-bf33-1819e5d4f14b')\"\n",
              "            title=\"Suggest charts\"\n",
              "            style=\"display:none;\">\n",
              "\n",
              "<svg xmlns=\"http://www.w3.org/2000/svg\" height=\"24px\"viewBox=\"0 0 24 24\"\n",
              "     width=\"24px\">\n",
              "    <g>\n",
              "        <path d=\"M19 3H5c-1.1 0-2 .9-2 2v14c0 1.1.9 2 2 2h14c1.1 0 2-.9 2-2V5c0-1.1-.9-2-2-2zM9 17H7v-7h2v7zm4 0h-2V7h2v10zm4 0h-2v-4h2v4z\"/>\n",
              "    </g>\n",
              "</svg>\n",
              "  </button>\n",
              "\n",
              "<style>\n",
              "  .colab-df-quickchart {\n",
              "      --bg-color: #E8F0FE;\n",
              "      --fill-color: #1967D2;\n",
              "      --hover-bg-color: #E2EBFA;\n",
              "      --hover-fill-color: #174EA6;\n",
              "      --disabled-fill-color: #AAA;\n",
              "      --disabled-bg-color: #DDD;\n",
              "  }\n",
              "\n",
              "  [theme=dark] .colab-df-quickchart {\n",
              "      --bg-color: #3B4455;\n",
              "      --fill-color: #D2E3FC;\n",
              "      --hover-bg-color: #434B5C;\n",
              "      --hover-fill-color: #FFFFFF;\n",
              "      --disabled-bg-color: #3B4455;\n",
              "      --disabled-fill-color: #666;\n",
              "  }\n",
              "\n",
              "  .colab-df-quickchart {\n",
              "    background-color: var(--bg-color);\n",
              "    border: none;\n",
              "    border-radius: 50%;\n",
              "    cursor: pointer;\n",
              "    display: none;\n",
              "    fill: var(--fill-color);\n",
              "    height: 32px;\n",
              "    padding: 0;\n",
              "    width: 32px;\n",
              "  }\n",
              "\n",
              "  .colab-df-quickchart:hover {\n",
              "    background-color: var(--hover-bg-color);\n",
              "    box-shadow: 0 1px 2px rgba(60, 64, 67, 0.3), 0 1px 3px 1px rgba(60, 64, 67, 0.15);\n",
              "    fill: var(--button-hover-fill-color);\n",
              "  }\n",
              "\n",
              "  .colab-df-quickchart-complete:disabled,\n",
              "  .colab-df-quickchart-complete:disabled:hover {\n",
              "    background-color: var(--disabled-bg-color);\n",
              "    fill: var(--disabled-fill-color);\n",
              "    box-shadow: none;\n",
              "  }\n",
              "\n",
              "  .colab-df-spinner {\n",
              "    border: 2px solid var(--fill-color);\n",
              "    border-color: transparent;\n",
              "    border-bottom-color: var(--fill-color);\n",
              "    animation:\n",
              "      spin 1s steps(1) infinite;\n",
              "  }\n",
              "\n",
              "  @keyframes spin {\n",
              "    0% {\n",
              "      border-color: transparent;\n",
              "      border-bottom-color: var(--fill-color);\n",
              "      border-left-color: var(--fill-color);\n",
              "    }\n",
              "    20% {\n",
              "      border-color: transparent;\n",
              "      border-left-color: var(--fill-color);\n",
              "      border-top-color: var(--fill-color);\n",
              "    }\n",
              "    30% {\n",
              "      border-color: transparent;\n",
              "      border-left-color: var(--fill-color);\n",
              "      border-top-color: var(--fill-color);\n",
              "      border-right-color: var(--fill-color);\n",
              "    }\n",
              "    40% {\n",
              "      border-color: transparent;\n",
              "      border-right-color: var(--fill-color);\n",
              "      border-top-color: var(--fill-color);\n",
              "    }\n",
              "    60% {\n",
              "      border-color: transparent;\n",
              "      border-right-color: var(--fill-color);\n",
              "    }\n",
              "    80% {\n",
              "      border-color: transparent;\n",
              "      border-right-color: var(--fill-color);\n",
              "      border-bottom-color: var(--fill-color);\n",
              "    }\n",
              "    90% {\n",
              "      border-color: transparent;\n",
              "      border-bottom-color: var(--fill-color);\n",
              "    }\n",
              "  }\n",
              "</style>\n",
              "\n",
              "  <script>\n",
              "    async function quickchart(key) {\n",
              "      const quickchartButtonEl =\n",
              "        document.querySelector('#' + key + ' button');\n",
              "      quickchartButtonEl.disabled = true;  // To prevent multiple clicks.\n",
              "      quickchartButtonEl.classList.add('colab-df-spinner');\n",
              "      try {\n",
              "        const charts = await google.colab.kernel.invokeFunction(\n",
              "            'suggestCharts', [key], {});\n",
              "      } catch (error) {\n",
              "        console.error('Error during call to suggestCharts:', error);\n",
              "      }\n",
              "      quickchartButtonEl.classList.remove('colab-df-spinner');\n",
              "      quickchartButtonEl.classList.add('colab-df-quickchart-complete');\n",
              "    }\n",
              "    (() => {\n",
              "      let quickchartButtonEl =\n",
              "        document.querySelector('#df-f9e78299-4f36-4dce-bf33-1819e5d4f14b button');\n",
              "      quickchartButtonEl.style.display =\n",
              "        google.colab.kernel.accessAllowed ? 'block' : 'none';\n",
              "    })();\n",
              "  </script>\n",
              "</div>\n",
              "\n",
              "  <div id=\"id_56717b9c-abc3-4479-9148-d165feda6d3b\">\n",
              "    <style>\n",
              "      .colab-df-generate {\n",
              "        background-color: #E8F0FE;\n",
              "        border: none;\n",
              "        border-radius: 50%;\n",
              "        cursor: pointer;\n",
              "        display: none;\n",
              "        fill: #1967D2;\n",
              "        height: 32px;\n",
              "        padding: 0 0 0 0;\n",
              "        width: 32px;\n",
              "      }\n",
              "\n",
              "      .colab-df-generate:hover {\n",
              "        background-color: #E2EBFA;\n",
              "        box-shadow: 0px 1px 2px rgba(60, 64, 67, 0.3), 0px 1px 3px 1px rgba(60, 64, 67, 0.15);\n",
              "        fill: #174EA6;\n",
              "      }\n",
              "\n",
              "      [theme=dark] .colab-df-generate {\n",
              "        background-color: #3B4455;\n",
              "        fill: #D2E3FC;\n",
              "      }\n",
              "\n",
              "      [theme=dark] .colab-df-generate:hover {\n",
              "        background-color: #434B5C;\n",
              "        box-shadow: 0px 1px 3px 1px rgba(0, 0, 0, 0.15);\n",
              "        filter: drop-shadow(0px 1px 2px rgba(0, 0, 0, 0.3));\n",
              "        fill: #FFFFFF;\n",
              "      }\n",
              "    </style>\n",
              "    <button class=\"colab-df-generate\" onclick=\"generateWithVariable('df_carta')\"\n",
              "            title=\"Generate code using this dataframe.\"\n",
              "            style=\"display:none;\">\n",
              "\n",
              "  <svg xmlns=\"http://www.w3.org/2000/svg\" height=\"24px\"viewBox=\"0 0 24 24\"\n",
              "       width=\"24px\">\n",
              "    <path d=\"M7,19H8.4L18.45,9,17,7.55,7,17.6ZM5,21V16.75L18.45,3.32a2,2,0,0,1,2.83,0l1.4,1.43a1.91,1.91,0,0,1,.58,1.4,1.91,1.91,0,0,1-.58,1.4L9.25,21ZM18.45,9,17,7.55Zm-12,3A5.31,5.31,0,0,0,4.9,8.1,5.31,5.31,0,0,0,1,6.5,5.31,5.31,0,0,0,4.9,4.9,5.31,5.31,0,0,0,6.5,1,5.31,5.31,0,0,0,8.1,4.9,5.31,5.31,0,0,0,12,6.5,5.46,5.46,0,0,0,6.5,12Z\"/>\n",
              "  </svg>\n",
              "    </button>\n",
              "    <script>\n",
              "      (() => {\n",
              "      const buttonEl =\n",
              "        document.querySelector('#id_56717b9c-abc3-4479-9148-d165feda6d3b button.colab-df-generate');\n",
              "      buttonEl.style.display =\n",
              "        google.colab.kernel.accessAllowed ? 'block' : 'none';\n",
              "\n",
              "      buttonEl.onclick = () => {\n",
              "        google.colab.notebook.generateWithVariable('df_carta');\n",
              "      }\n",
              "      })();\n",
              "    </script>\n",
              "  </div>\n",
              "\n",
              "    </div>\n",
              "  </div>\n"
            ],
            "application/vnd.google.colaboratory.intrinsic+json": {
              "type": "dataframe",
              "variable_name": "df_carta",
              "summary": "{\n  \"name\": \"df_carta\",\n  \"rows\": 5,\n  \"fields\": [\n    {\n      \"column\": \"ID Producto\",\n      \"properties\": {\n        \"dtype\": \"number\",\n        \"std\": 1,\n        \"min\": 1,\n        \"max\": 5,\n        \"num_unique_values\": 5,\n        \"samples\": [\n          2,\n          5,\n          3\n        ],\n        \"semantic_type\": \"\",\n        \"description\": \"\"\n      }\n    },\n    {\n      \"column\": \"Nombre\",\n      \"properties\": {\n        \"dtype\": \"string\",\n        \"num_unique_values\": 5,\n        \"samples\": [\n          \"Healthy Wrap\",\n          \"Detox Smoothie\",\n          \"Veggie Burger\"\n        ],\n        \"semantic_type\": \"\",\n        \"description\": \"\"\n      }\n    },\n    {\n      \"column\": \"Descripcion\",\n      \"properties\": {\n        \"dtype\": \"string\",\n        \"num_unique_values\": 5,\n        \"samples\": [\n          \"Wrap de Pollo con Vegetales\",\n          \"Smoothie de frutas y espinaca\",\n          \"Hamburguesa Vegetariana con mix de legumbres  servida en pan integral\"\n        ],\n        \"semantic_type\": \"\",\n        \"description\": \"\"\n      }\n    },\n    {\n      \"column\": \"Precio\",\n      \"properties\": {\n        \"dtype\": \"number\",\n        \"std\": 14908,\n        \"min\": 14900,\n        \"max\": 52000,\n        \"num_unique_values\": 5,\n        \"samples\": [\n          19500,\n          14900,\n          38000\n        ],\n        \"semantic_type\": \"\",\n        \"description\": \"\"\n      }\n    },\n    {\n      \"column\": \"Disponible\",\n      \"properties\": {\n        \"dtype\": \"category\",\n        \"num_unique_values\": 1,\n        \"samples\": [\n          \"SI\"\n        ],\n        \"semantic_type\": \"\",\n        \"description\": \"\"\n      }\n    }\n  ]\n}"
            }
          },
          "metadata": {},
          "execution_count": 13
        }
      ]
    },
    {
      "cell_type": "code",
      "source": [
        "columnas = [descripcion[0] for descripcion in cursor.description]\n",
        "df_pedidos = pd.DataFrame(Pedidos, columns=columnas)\n",
        "df_pedidos"
      ],
      "metadata": {
        "colab": {
          "base_uri": "https://localhost:8080/",
          "height": 206
        },
        "id": "BJXVCtXmSBWe",
        "outputId": "134eec2d-f315-4708-dc59-ffac4feb992e"
      },
      "execution_count": null,
      "outputs": [
        {
          "output_type": "execute_result",
          "data": {
            "text/plain": [
              "   # Pedido      Nombre Cliente  ID Producto  Cantidad    Ciudad      Barrio  \\\n",
              "0         1     Pablo Echeverri            1         2  Medellin  La Florida   \n",
              "1         2       Camilo Guzman            2         1  Medellin   La Calera   \n",
              "2         3        Juan Escobar            3         4  Medellin  Los Balsos   \n",
              "3         4  Juan Jose Arbelaez            4         2  Envigado   La Calera   \n",
              "4         5     Juan Jose Uribe            5         1  Envigado  Las Palmas   \n",
              "\n",
              "      Estado  \n",
              "0  Pendiente  \n",
              "1  Entregado  \n",
              "2  Entregado  \n",
              "3  Pendiente  \n",
              "4  Entregado  "
            ],
            "text/html": [
              "\n",
              "  <div id=\"df-b53f378e-52e2-41cd-a30c-2d915e4c5311\" class=\"colab-df-container\">\n",
              "    <div>\n",
              "<style scoped>\n",
              "    .dataframe tbody tr th:only-of-type {\n",
              "        vertical-align: middle;\n",
              "    }\n",
              "\n",
              "    .dataframe tbody tr th {\n",
              "        vertical-align: top;\n",
              "    }\n",
              "\n",
              "    .dataframe thead th {\n",
              "        text-align: right;\n",
              "    }\n",
              "</style>\n",
              "<table border=\"1\" class=\"dataframe\">\n",
              "  <thead>\n",
              "    <tr style=\"text-align: right;\">\n",
              "      <th></th>\n",
              "      <th># Pedido</th>\n",
              "      <th>Nombre Cliente</th>\n",
              "      <th>ID Producto</th>\n",
              "      <th>Cantidad</th>\n",
              "      <th>Ciudad</th>\n",
              "      <th>Barrio</th>\n",
              "      <th>Estado</th>\n",
              "    </tr>\n",
              "  </thead>\n",
              "  <tbody>\n",
              "    <tr>\n",
              "      <th>0</th>\n",
              "      <td>1</td>\n",
              "      <td>Pablo Echeverri</td>\n",
              "      <td>1</td>\n",
              "      <td>2</td>\n",
              "      <td>Medellin</td>\n",
              "      <td>La Florida</td>\n",
              "      <td>Pendiente</td>\n",
              "    </tr>\n",
              "    <tr>\n",
              "      <th>1</th>\n",
              "      <td>2</td>\n",
              "      <td>Camilo Guzman</td>\n",
              "      <td>2</td>\n",
              "      <td>1</td>\n",
              "      <td>Medellin</td>\n",
              "      <td>La Calera</td>\n",
              "      <td>Entregado</td>\n",
              "    </tr>\n",
              "    <tr>\n",
              "      <th>2</th>\n",
              "      <td>3</td>\n",
              "      <td>Juan Escobar</td>\n",
              "      <td>3</td>\n",
              "      <td>4</td>\n",
              "      <td>Medellin</td>\n",
              "      <td>Los Balsos</td>\n",
              "      <td>Entregado</td>\n",
              "    </tr>\n",
              "    <tr>\n",
              "      <th>3</th>\n",
              "      <td>4</td>\n",
              "      <td>Juan Jose Arbelaez</td>\n",
              "      <td>4</td>\n",
              "      <td>2</td>\n",
              "      <td>Envigado</td>\n",
              "      <td>La Calera</td>\n",
              "      <td>Pendiente</td>\n",
              "    </tr>\n",
              "    <tr>\n",
              "      <th>4</th>\n",
              "      <td>5</td>\n",
              "      <td>Juan Jose Uribe</td>\n",
              "      <td>5</td>\n",
              "      <td>1</td>\n",
              "      <td>Envigado</td>\n",
              "      <td>Las Palmas</td>\n",
              "      <td>Entregado</td>\n",
              "    </tr>\n",
              "  </tbody>\n",
              "</table>\n",
              "</div>\n",
              "    <div class=\"colab-df-buttons\">\n",
              "\n",
              "  <div class=\"colab-df-container\">\n",
              "    <button class=\"colab-df-convert\" onclick=\"convertToInteractive('df-b53f378e-52e2-41cd-a30c-2d915e4c5311')\"\n",
              "            title=\"Convert this dataframe to an interactive table.\"\n",
              "            style=\"display:none;\">\n",
              "\n",
              "  <svg xmlns=\"http://www.w3.org/2000/svg\" height=\"24px\" viewBox=\"0 -960 960 960\">\n",
              "    <path d=\"M120-120v-720h720v720H120Zm60-500h600v-160H180v160Zm220 220h160v-160H400v160Zm0 220h160v-160H400v160ZM180-400h160v-160H180v160Zm440 0h160v-160H620v160ZM180-180h160v-160H180v160Zm440 0h160v-160H620v160Z\"/>\n",
              "  </svg>\n",
              "    </button>\n",
              "\n",
              "  <style>\n",
              "    .colab-df-container {\n",
              "      display:flex;\n",
              "      gap: 12px;\n",
              "    }\n",
              "\n",
              "    .colab-df-convert {\n",
              "      background-color: #E8F0FE;\n",
              "      border: none;\n",
              "      border-radius: 50%;\n",
              "      cursor: pointer;\n",
              "      display: none;\n",
              "      fill: #1967D2;\n",
              "      height: 32px;\n",
              "      padding: 0 0 0 0;\n",
              "      width: 32px;\n",
              "    }\n",
              "\n",
              "    .colab-df-convert:hover {\n",
              "      background-color: #E2EBFA;\n",
              "      box-shadow: 0px 1px 2px rgba(60, 64, 67, 0.3), 0px 1px 3px 1px rgba(60, 64, 67, 0.15);\n",
              "      fill: #174EA6;\n",
              "    }\n",
              "\n",
              "    .colab-df-buttons div {\n",
              "      margin-bottom: 4px;\n",
              "    }\n",
              "\n",
              "    [theme=dark] .colab-df-convert {\n",
              "      background-color: #3B4455;\n",
              "      fill: #D2E3FC;\n",
              "    }\n",
              "\n",
              "    [theme=dark] .colab-df-convert:hover {\n",
              "      background-color: #434B5C;\n",
              "      box-shadow: 0px 1px 3px 1px rgba(0, 0, 0, 0.15);\n",
              "      filter: drop-shadow(0px 1px 2px rgba(0, 0, 0, 0.3));\n",
              "      fill: #FFFFFF;\n",
              "    }\n",
              "  </style>\n",
              "\n",
              "    <script>\n",
              "      const buttonEl =\n",
              "        document.querySelector('#df-b53f378e-52e2-41cd-a30c-2d915e4c5311 button.colab-df-convert');\n",
              "      buttonEl.style.display =\n",
              "        google.colab.kernel.accessAllowed ? 'block' : 'none';\n",
              "\n",
              "      async function convertToInteractive(key) {\n",
              "        const element = document.querySelector('#df-b53f378e-52e2-41cd-a30c-2d915e4c5311');\n",
              "        const dataTable =\n",
              "          await google.colab.kernel.invokeFunction('convertToInteractive',\n",
              "                                                    [key], {});\n",
              "        if (!dataTable) return;\n",
              "\n",
              "        const docLinkHtml = 'Like what you see? Visit the ' +\n",
              "          '<a target=\"_blank\" href=https://colab.research.google.com/notebooks/data_table.ipynb>data table notebook</a>'\n",
              "          + ' to learn more about interactive tables.';\n",
              "        element.innerHTML = '';\n",
              "        dataTable['output_type'] = 'display_data';\n",
              "        await google.colab.output.renderOutput(dataTable, element);\n",
              "        const docLink = document.createElement('div');\n",
              "        docLink.innerHTML = docLinkHtml;\n",
              "        element.appendChild(docLink);\n",
              "      }\n",
              "    </script>\n",
              "  </div>\n",
              "\n",
              "\n",
              "<div id=\"df-ffb419a2-8504-4ee3-adff-ba91e9ba6962\">\n",
              "  <button class=\"colab-df-quickchart\" onclick=\"quickchart('df-ffb419a2-8504-4ee3-adff-ba91e9ba6962')\"\n",
              "            title=\"Suggest charts\"\n",
              "            style=\"display:none;\">\n",
              "\n",
              "<svg xmlns=\"http://www.w3.org/2000/svg\" height=\"24px\"viewBox=\"0 0 24 24\"\n",
              "     width=\"24px\">\n",
              "    <g>\n",
              "        <path d=\"M19 3H5c-1.1 0-2 .9-2 2v14c0 1.1.9 2 2 2h14c1.1 0 2-.9 2-2V5c0-1.1-.9-2-2-2zM9 17H7v-7h2v7zm4 0h-2V7h2v10zm4 0h-2v-4h2v4z\"/>\n",
              "    </g>\n",
              "</svg>\n",
              "  </button>\n",
              "\n",
              "<style>\n",
              "  .colab-df-quickchart {\n",
              "      --bg-color: #E8F0FE;\n",
              "      --fill-color: #1967D2;\n",
              "      --hover-bg-color: #E2EBFA;\n",
              "      --hover-fill-color: #174EA6;\n",
              "      --disabled-fill-color: #AAA;\n",
              "      --disabled-bg-color: #DDD;\n",
              "  }\n",
              "\n",
              "  [theme=dark] .colab-df-quickchart {\n",
              "      --bg-color: #3B4455;\n",
              "      --fill-color: #D2E3FC;\n",
              "      --hover-bg-color: #434B5C;\n",
              "      --hover-fill-color: #FFFFFF;\n",
              "      --disabled-bg-color: #3B4455;\n",
              "      --disabled-fill-color: #666;\n",
              "  }\n",
              "\n",
              "  .colab-df-quickchart {\n",
              "    background-color: var(--bg-color);\n",
              "    border: none;\n",
              "    border-radius: 50%;\n",
              "    cursor: pointer;\n",
              "    display: none;\n",
              "    fill: var(--fill-color);\n",
              "    height: 32px;\n",
              "    padding: 0;\n",
              "    width: 32px;\n",
              "  }\n",
              "\n",
              "  .colab-df-quickchart:hover {\n",
              "    background-color: var(--hover-bg-color);\n",
              "    box-shadow: 0 1px 2px rgba(60, 64, 67, 0.3), 0 1px 3px 1px rgba(60, 64, 67, 0.15);\n",
              "    fill: var(--button-hover-fill-color);\n",
              "  }\n",
              "\n",
              "  .colab-df-quickchart-complete:disabled,\n",
              "  .colab-df-quickchart-complete:disabled:hover {\n",
              "    background-color: var(--disabled-bg-color);\n",
              "    fill: var(--disabled-fill-color);\n",
              "    box-shadow: none;\n",
              "  }\n",
              "\n",
              "  .colab-df-spinner {\n",
              "    border: 2px solid var(--fill-color);\n",
              "    border-color: transparent;\n",
              "    border-bottom-color: var(--fill-color);\n",
              "    animation:\n",
              "      spin 1s steps(1) infinite;\n",
              "  }\n",
              "\n",
              "  @keyframes spin {\n",
              "    0% {\n",
              "      border-color: transparent;\n",
              "      border-bottom-color: var(--fill-color);\n",
              "      border-left-color: var(--fill-color);\n",
              "    }\n",
              "    20% {\n",
              "      border-color: transparent;\n",
              "      border-left-color: var(--fill-color);\n",
              "      border-top-color: var(--fill-color);\n",
              "    }\n",
              "    30% {\n",
              "      border-color: transparent;\n",
              "      border-left-color: var(--fill-color);\n",
              "      border-top-color: var(--fill-color);\n",
              "      border-right-color: var(--fill-color);\n",
              "    }\n",
              "    40% {\n",
              "      border-color: transparent;\n",
              "      border-right-color: var(--fill-color);\n",
              "      border-top-color: var(--fill-color);\n",
              "    }\n",
              "    60% {\n",
              "      border-color: transparent;\n",
              "      border-right-color: var(--fill-color);\n",
              "    }\n",
              "    80% {\n",
              "      border-color: transparent;\n",
              "      border-right-color: var(--fill-color);\n",
              "      border-bottom-color: var(--fill-color);\n",
              "    }\n",
              "    90% {\n",
              "      border-color: transparent;\n",
              "      border-bottom-color: var(--fill-color);\n",
              "    }\n",
              "  }\n",
              "</style>\n",
              "\n",
              "  <script>\n",
              "    async function quickchart(key) {\n",
              "      const quickchartButtonEl =\n",
              "        document.querySelector('#' + key + ' button');\n",
              "      quickchartButtonEl.disabled = true;  // To prevent multiple clicks.\n",
              "      quickchartButtonEl.classList.add('colab-df-spinner');\n",
              "      try {\n",
              "        const charts = await google.colab.kernel.invokeFunction(\n",
              "            'suggestCharts', [key], {});\n",
              "      } catch (error) {\n",
              "        console.error('Error during call to suggestCharts:', error);\n",
              "      }\n",
              "      quickchartButtonEl.classList.remove('colab-df-spinner');\n",
              "      quickchartButtonEl.classList.add('colab-df-quickchart-complete');\n",
              "    }\n",
              "    (() => {\n",
              "      let quickchartButtonEl =\n",
              "        document.querySelector('#df-ffb419a2-8504-4ee3-adff-ba91e9ba6962 button');\n",
              "      quickchartButtonEl.style.display =\n",
              "        google.colab.kernel.accessAllowed ? 'block' : 'none';\n",
              "    })();\n",
              "  </script>\n",
              "</div>\n",
              "\n",
              "  <div id=\"id_42a7ac1d-c5a1-463c-b2c3-df334c64cf47\">\n",
              "    <style>\n",
              "      .colab-df-generate {\n",
              "        background-color: #E8F0FE;\n",
              "        border: none;\n",
              "        border-radius: 50%;\n",
              "        cursor: pointer;\n",
              "        display: none;\n",
              "        fill: #1967D2;\n",
              "        height: 32px;\n",
              "        padding: 0 0 0 0;\n",
              "        width: 32px;\n",
              "      }\n",
              "\n",
              "      .colab-df-generate:hover {\n",
              "        background-color: #E2EBFA;\n",
              "        box-shadow: 0px 1px 2px rgba(60, 64, 67, 0.3), 0px 1px 3px 1px rgba(60, 64, 67, 0.15);\n",
              "        fill: #174EA6;\n",
              "      }\n",
              "\n",
              "      [theme=dark] .colab-df-generate {\n",
              "        background-color: #3B4455;\n",
              "        fill: #D2E3FC;\n",
              "      }\n",
              "\n",
              "      [theme=dark] .colab-df-generate:hover {\n",
              "        background-color: #434B5C;\n",
              "        box-shadow: 0px 1px 3px 1px rgba(0, 0, 0, 0.15);\n",
              "        filter: drop-shadow(0px 1px 2px rgba(0, 0, 0, 0.3));\n",
              "        fill: #FFFFFF;\n",
              "      }\n",
              "    </style>\n",
              "    <button class=\"colab-df-generate\" onclick=\"generateWithVariable('df_pedidos')\"\n",
              "            title=\"Generate code using this dataframe.\"\n",
              "            style=\"display:none;\">\n",
              "\n",
              "  <svg xmlns=\"http://www.w3.org/2000/svg\" height=\"24px\"viewBox=\"0 0 24 24\"\n",
              "       width=\"24px\">\n",
              "    <path d=\"M7,19H8.4L18.45,9,17,7.55,7,17.6ZM5,21V16.75L18.45,3.32a2,2,0,0,1,2.83,0l1.4,1.43a1.91,1.91,0,0,1,.58,1.4,1.91,1.91,0,0,1-.58,1.4L9.25,21ZM18.45,9,17,7.55Zm-12,3A5.31,5.31,0,0,0,4.9,8.1,5.31,5.31,0,0,0,1,6.5,5.31,5.31,0,0,0,4.9,4.9,5.31,5.31,0,0,0,6.5,1,5.31,5.31,0,0,0,8.1,4.9,5.31,5.31,0,0,0,12,6.5,5.46,5.46,0,0,0,6.5,12Z\"/>\n",
              "  </svg>\n",
              "    </button>\n",
              "    <script>\n",
              "      (() => {\n",
              "      const buttonEl =\n",
              "        document.querySelector('#id_42a7ac1d-c5a1-463c-b2c3-df334c64cf47 button.colab-df-generate');\n",
              "      buttonEl.style.display =\n",
              "        google.colab.kernel.accessAllowed ? 'block' : 'none';\n",
              "\n",
              "      buttonEl.onclick = () => {\n",
              "        google.colab.notebook.generateWithVariable('df_pedidos');\n",
              "      }\n",
              "      })();\n",
              "    </script>\n",
              "  </div>\n",
              "\n",
              "    </div>\n",
              "  </div>\n"
            ],
            "application/vnd.google.colaboratory.intrinsic+json": {
              "type": "dataframe",
              "variable_name": "df_pedidos",
              "summary": "{\n  \"name\": \"df_pedidos\",\n  \"rows\": 5,\n  \"fields\": [\n    {\n      \"column\": \"# Pedido\",\n      \"properties\": {\n        \"dtype\": \"number\",\n        \"std\": 1,\n        \"min\": 1,\n        \"max\": 5,\n        \"num_unique_values\": 5,\n        \"samples\": [\n          2,\n          5,\n          3\n        ],\n        \"semantic_type\": \"\",\n        \"description\": \"\"\n      }\n    },\n    {\n      \"column\": \"Nombre Cliente\",\n      \"properties\": {\n        \"dtype\": \"string\",\n        \"num_unique_values\": 5,\n        \"samples\": [\n          \"Camilo Guzman\",\n          \"Juan Jose Uribe\",\n          \"Juan Escobar\"\n        ],\n        \"semantic_type\": \"\",\n        \"description\": \"\"\n      }\n    },\n    {\n      \"column\": \"ID Producto\",\n      \"properties\": {\n        \"dtype\": \"number\",\n        \"std\": 1,\n        \"min\": 1,\n        \"max\": 5,\n        \"num_unique_values\": 5,\n        \"samples\": [\n          2,\n          5,\n          3\n        ],\n        \"semantic_type\": \"\",\n        \"description\": \"\"\n      }\n    },\n    {\n      \"column\": \"Cantidad\",\n      \"properties\": {\n        \"dtype\": \"number\",\n        \"std\": 1,\n        \"min\": 1,\n        \"max\": 4,\n        \"num_unique_values\": 3,\n        \"samples\": [\n          2,\n          1,\n          4\n        ],\n        \"semantic_type\": \"\",\n        \"description\": \"\"\n      }\n    },\n    {\n      \"column\": \"Ciudad\",\n      \"properties\": {\n        \"dtype\": \"category\",\n        \"num_unique_values\": 2,\n        \"samples\": [\n          \"Envigado\",\n          \"Medellin\"\n        ],\n        \"semantic_type\": \"\",\n        \"description\": \"\"\n      }\n    },\n    {\n      \"column\": \"Barrio\",\n      \"properties\": {\n        \"dtype\": \"string\",\n        \"num_unique_values\": 4,\n        \"samples\": [\n          \"La Calera\",\n          \"Las Palmas\"\n        ],\n        \"semantic_type\": \"\",\n        \"description\": \"\"\n      }\n    },\n    {\n      \"column\": \"Estado\",\n      \"properties\": {\n        \"dtype\": \"category\",\n        \"num_unique_values\": 2,\n        \"samples\": [\n          \"Entregado\",\n          \"Pendiente\"\n        ],\n        \"semantic_type\": \"\",\n        \"description\": \"\"\n      }\n    }\n  ]\n}"
            }
          },
          "metadata": {},
          "execution_count": 18
        }
      ]
    },
    {
      "cell_type": "markdown",
      "source": [
        "### CONSULTAS"
      ],
      "metadata": {
        "id": "aKrtlVFuQoup"
      }
    },
    {
      "cell_type": "markdown",
      "source": [
        "Para mirar que pedidos estan pendientes de entrega"
      ],
      "metadata": {
        "id": "dZEl18sOQqpA"
      }
    },
    {
      "cell_type": "code",
      "source": [
        "consulta = ''' SELECT *\n",
        "               FROM \"PEDIDOS\"\n",
        "               WHERE \"Estado\" = \"Pendiente\" '''\n",
        "\n",
        "#Ejecutamos la consulta\n",
        "cursor.execute(consulta)\n",
        "#Traemos el resultado de la consulta\n",
        "Pedidos = cursor.fetchall()\n",
        "for fila in Pedidos:\n",
        "  print(fila)"
      ],
      "metadata": {
        "colab": {
          "base_uri": "https://localhost:8080/"
        },
        "id": "EMIzT1JRQPRq",
        "outputId": "1a3bc414-cb01-4b07-9e57-9c3412408636"
      },
      "execution_count": null,
      "outputs": [
        {
          "output_type": "stream",
          "name": "stdout",
          "text": [
            "(1, 'Pablo Echeverri', 1, 2, 'Medellin', 'La Florida', 'Pendiente')\n",
            "(4, 'Juan Jose Arbelaez', 4, 2, 'Envigado', 'La Calera', 'Pendiente')\n"
          ]
        }
      ]
    },
    {
      "cell_type": "markdown",
      "source": [
        "Para mirar que pedidos vienen de la ciudad de Medellín"
      ],
      "metadata": {
        "id": "21s6UFrGRD2z"
      }
    },
    {
      "cell_type": "code",
      "source": [
        "consulta = ''' SELECT *\n",
        "               FROM \"PEDIDOS\"\n",
        "               WHERE \"Ciudad\" = \"Medellin\" '''\n",
        "\n",
        "#Ejecutamos la consulta\n",
        "cursor.execute(consulta)\n",
        "#Traemos el resultado de la consulta\n",
        "Pedidos = cursor.fetchall()\n",
        "for fila in Pedidos:\n",
        "  print(fila)"
      ],
      "metadata": {
        "colab": {
          "base_uri": "https://localhost:8080/"
        },
        "id": "YCsEktxQRKu0",
        "outputId": "0e4fca9b-786a-4c8b-8802-e75b133907d5"
      },
      "execution_count": null,
      "outputs": [
        {
          "output_type": "stream",
          "name": "stdout",
          "text": [
            "(1, 'Pablo Echeverri', 1, 2, 'Medellin', 'La Florida', 'Pendiente')\n",
            "(2, 'Camilo Guzman', 2, 1, 'Medellin', 'La Calera', 'Entregado')\n",
            "(3, 'Juan Escobar', 3, 4, 'Medellin', 'Los Balsos', 'Entregado')\n"
          ]
        }
      ]
    },
    {
      "cell_type": "markdown",
      "source": [
        "Para mirar cuanto ha gastado cada cliente"
      ],
      "metadata": {
        "id": "8nDiU8udRVWt"
      }
    },
    {
      "cell_type": "code",
      "source": [
        "consulta = ''' SELECT \"Nombre Cliente\",\n",
        "               SUM(Precio * Cantidad) AS \"Gasto Total\"\n",
        "               FROM \"PEDIDOS\"\n",
        "               JOIN \"CARTA\" ON \"PEDIDOS\".\"ID Producto\" = \"CARTA\".\"ID Producto\"\n",
        "               GROUP BY \"Nombre Cliente\"\n",
        "               ORDER BY \"Gasto Total\" DESC '''\n",
        "\n",
        "\n",
        "# Ejecutamos la consulta\n",
        "cursor.execute(consulta)\n",
        "\n",
        "# Traemos el resultado de la consulta\n",
        "Pedidos = cursor.fetchall()\n",
        "\n",
        "# Asegúrate de imprimir todas las filas\n",
        "for fila in Pedidos:\n",
        "    print(fila)\n"
      ],
      "metadata": {
        "colab": {
          "base_uri": "https://localhost:8080/"
        },
        "id": "k39oWdqMUox6",
        "outputId": "c41893d4-0882-4c0c-aa77-d156408c4b12"
      },
      "execution_count": null,
      "outputs": [
        {
          "output_type": "stream",
          "name": "stdout",
          "text": [
            "('Juan Escobar', 152000)\n",
            "('Juan Jose Arbelaez', 104000)\n",
            "('Pablo Echeverri', 56000)\n",
            "('Camilo Guzman', 19500)\n",
            "('Juan Jose Uribe', 14900)\n"
          ]
        }
      ]
    },
    {
      "cell_type": "markdown",
      "source": [
        "Pedidos totales por Ciudad"
      ],
      "metadata": {
        "id": "ijt-gfwaVWxu"
      }
    },
    {
      "cell_type": "code",
      "source": [
        "consulta = ''' SELECT \"Ciudad\",\n",
        "               COUNT(*) AS \"Pedidos Totales\"\n",
        "               FROM \"PEDIDOS\"\n",
        "               GROUP BY \"Ciudad\"\n",
        "               ORDER BY \"Pedidos Totales\" DESC '''\n",
        "\n",
        "\n",
        "#Ejecutamos la consulta\n",
        "cursor.execute(consulta)\n",
        "#Traemos el resultado de la consulta\n",
        "Pedidos = cursor.fetchall()\n",
        "for fila in Pedidos:\n",
        "  print(fila)"
      ],
      "metadata": {
        "colab": {
          "base_uri": "https://localhost:8080/"
        },
        "id": "uXNAT-_vVfE7",
        "outputId": "d1fcf513-bed2-46f9-e115-d241f65876d1"
      },
      "execution_count": null,
      "outputs": [
        {
          "output_type": "stream",
          "name": "stdout",
          "text": [
            "('Medellin', 3)\n",
            "('Envigado', 2)\n"
          ]
        }
      ]
    },
    {
      "cell_type": "code",
      "source": [
        "cursor.close()\n",
        "con.close()"
      ],
      "metadata": {
        "id": "eMjNZIcoVyQR"
      },
      "execution_count": null,
      "outputs": []
    },
    {
      "cell_type": "markdown",
      "source": [
        "## PARTIDOS"
      ],
      "metadata": {
        "id": "p3UMkx0EVkX4"
      }
    },
    {
      "cell_type": "markdown",
      "source": [
        "Creamos la Base de Datos"
      ],
      "metadata": {
        "id": "h4eI1wjMV6v1"
      }
    },
    {
      "cell_type": "code",
      "source": [
        "con = sqlite3.connect('Partidos.db')\n",
        "cursor = con.cursor()"
      ],
      "metadata": {
        "id": "jOTUyXj6VmvL"
      },
      "execution_count": null,
      "outputs": []
    },
    {
      "cell_type": "markdown",
      "source": [
        "Pasamos la informacion del diccionario a la base de datos"
      ],
      "metadata": {
        "id": "XpPRUqJ7WC3l"
      }
    },
    {
      "cell_type": "code",
      "source": [
        "for hoja, futbol in futbol.items():\n",
        "  futbol.to_sql(hoja, con, if_exists='replace', index=False)"
      ],
      "metadata": {
        "id": "vs-4b-slWBpH"
      },
      "execution_count": null,
      "outputs": []
    },
    {
      "cell_type": "code",
      "source": [
        "#Para confirmar los cambios\n",
        "con.commit()"
      ],
      "metadata": {
        "id": "VGJhwRtsWQF8"
      },
      "execution_count": null,
      "outputs": []
    },
    {
      "cell_type": "markdown",
      "source": [
        "Visualizamos los nombres de las tablas"
      ],
      "metadata": {
        "id": "hQ90m3OHWYJk"
      }
    },
    {
      "cell_type": "code",
      "source": [
        "consulta = ''' SELECT name\n",
        "               FROM sqlite_master\n",
        "               WHERE type = 'table' '''\n",
        "#Ejecutamos la consulta\n",
        "cursor.execute(consulta)\n",
        "#Printeamos el resultado de la consulta\n",
        "print(cursor.fetchall())"
      ],
      "metadata": {
        "colab": {
          "base_uri": "https://localhost:8080/"
        },
        "id": "T-KsZlL9WVNZ",
        "outputId": "00b3ecc2-34db-494f-b220-b81e54f0c542"
      },
      "execution_count": null,
      "outputs": [
        {
          "output_type": "stream",
          "name": "stdout",
          "text": [
            "[('EQUIPOS',), ('PARTIDOS',)]\n"
          ]
        }
      ]
    },
    {
      "cell_type": "markdown",
      "source": [
        "Miramos la Informacion de Las Tablas en Pandas"
      ],
      "metadata": {
        "id": "qIMfqWk_WjKv"
      }
    },
    {
      "cell_type": "code",
      "source": [
        "consulta = ''' SELECT *\n",
        "              FROM \"EQUIPOS\" '''\n",
        "#Ejecutamos la consulta\n",
        "cursor.execute(consulta)\n",
        "#Traemos el resultado de la consulta\n",
        "Equipos = cursor.fetchall()\n",
        "for fila in Equipos:\n",
        "  print(fila)"
      ],
      "metadata": {
        "colab": {
          "base_uri": "https://localhost:8080/"
        },
        "id": "yAGUqD_YWfs5",
        "outputId": "5981a034-a2a5-480f-fa45-a35e65626b98"
      },
      "execution_count": null,
      "outputs": [
        {
          "output_type": "stream",
          "name": "stdout",
          "text": [
            "(1, 'Deportivo Independiente Medellin', 'Medellin', 'Juan Escobar', 1)\n",
            "(2, 'Atletico Nacional', 'Medellin', 'Camilo Guzman', 5)\n",
            "(3, 'America de Cali', 'Cali', 'Juan Jose Arbelaez', 3)\n",
            "(4, 'Millonarios', 'Bogota', 'Jacobo Velez', 2)\n",
            "(5, 'Junior', 'Barranquilla', 'Santiago Gallego', 4)\n"
          ]
        }
      ]
    },
    {
      "cell_type": "code",
      "source": [
        "columnas = [descripcion[0] for descripcion in cursor.description]\n",
        "df_equipos = pd.DataFrame(Equipos, columns=columnas)\n",
        "df_equipos"
      ],
      "metadata": {
        "colab": {
          "base_uri": "https://localhost:8080/",
          "height": 206
        },
        "id": "UmqrsMGeWvIx",
        "outputId": "69438308-557a-4613-a2d1-3c48017e20ac"
      },
      "execution_count": null,
      "outputs": [
        {
          "output_type": "execute_result",
          "data": {
            "text/plain": [
              "   ID Equipo                     Nombre Equipo        Ciudad  \\\n",
              "0          1  Deportivo Independiente Medellin      Medellin   \n",
              "1          2                 Atletico Nacional      Medellin   \n",
              "2          3                   America de Cali          Cali   \n",
              "3          4                       Millonarios        Bogota   \n",
              "4          5                            Junior  Barranquilla   \n",
              "\n",
              "           Entrenador  Titulos Ganados  \n",
              "0        Juan Escobar                1  \n",
              "1       Camilo Guzman                5  \n",
              "2  Juan Jose Arbelaez                3  \n",
              "3        Jacobo Velez                2  \n",
              "4    Santiago Gallego                4  "
            ],
            "text/html": [
              "\n",
              "  <div id=\"df-a3aba426-2c82-4b5a-b145-d631190a2e48\" class=\"colab-df-container\">\n",
              "    <div>\n",
              "<style scoped>\n",
              "    .dataframe tbody tr th:only-of-type {\n",
              "        vertical-align: middle;\n",
              "    }\n",
              "\n",
              "    .dataframe tbody tr th {\n",
              "        vertical-align: top;\n",
              "    }\n",
              "\n",
              "    .dataframe thead th {\n",
              "        text-align: right;\n",
              "    }\n",
              "</style>\n",
              "<table border=\"1\" class=\"dataframe\">\n",
              "  <thead>\n",
              "    <tr style=\"text-align: right;\">\n",
              "      <th></th>\n",
              "      <th>ID Equipo</th>\n",
              "      <th>Nombre Equipo</th>\n",
              "      <th>Ciudad</th>\n",
              "      <th>Entrenador</th>\n",
              "      <th>Titulos Ganados</th>\n",
              "    </tr>\n",
              "  </thead>\n",
              "  <tbody>\n",
              "    <tr>\n",
              "      <th>0</th>\n",
              "      <td>1</td>\n",
              "      <td>Deportivo Independiente Medellin</td>\n",
              "      <td>Medellin</td>\n",
              "      <td>Juan Escobar</td>\n",
              "      <td>1</td>\n",
              "    </tr>\n",
              "    <tr>\n",
              "      <th>1</th>\n",
              "      <td>2</td>\n",
              "      <td>Atletico Nacional</td>\n",
              "      <td>Medellin</td>\n",
              "      <td>Camilo Guzman</td>\n",
              "      <td>5</td>\n",
              "    </tr>\n",
              "    <tr>\n",
              "      <th>2</th>\n",
              "      <td>3</td>\n",
              "      <td>America de Cali</td>\n",
              "      <td>Cali</td>\n",
              "      <td>Juan Jose Arbelaez</td>\n",
              "      <td>3</td>\n",
              "    </tr>\n",
              "    <tr>\n",
              "      <th>3</th>\n",
              "      <td>4</td>\n",
              "      <td>Millonarios</td>\n",
              "      <td>Bogota</td>\n",
              "      <td>Jacobo Velez</td>\n",
              "      <td>2</td>\n",
              "    </tr>\n",
              "    <tr>\n",
              "      <th>4</th>\n",
              "      <td>5</td>\n",
              "      <td>Junior</td>\n",
              "      <td>Barranquilla</td>\n",
              "      <td>Santiago Gallego</td>\n",
              "      <td>4</td>\n",
              "    </tr>\n",
              "  </tbody>\n",
              "</table>\n",
              "</div>\n",
              "    <div class=\"colab-df-buttons\">\n",
              "\n",
              "  <div class=\"colab-df-container\">\n",
              "    <button class=\"colab-df-convert\" onclick=\"convertToInteractive('df-a3aba426-2c82-4b5a-b145-d631190a2e48')\"\n",
              "            title=\"Convert this dataframe to an interactive table.\"\n",
              "            style=\"display:none;\">\n",
              "\n",
              "  <svg xmlns=\"http://www.w3.org/2000/svg\" height=\"24px\" viewBox=\"0 -960 960 960\">\n",
              "    <path d=\"M120-120v-720h720v720H120Zm60-500h600v-160H180v160Zm220 220h160v-160H400v160Zm0 220h160v-160H400v160ZM180-400h160v-160H180v160Zm440 0h160v-160H620v160ZM180-180h160v-160H180v160Zm440 0h160v-160H620v160Z\"/>\n",
              "  </svg>\n",
              "    </button>\n",
              "\n",
              "  <style>\n",
              "    .colab-df-container {\n",
              "      display:flex;\n",
              "      gap: 12px;\n",
              "    }\n",
              "\n",
              "    .colab-df-convert {\n",
              "      background-color: #E8F0FE;\n",
              "      border: none;\n",
              "      border-radius: 50%;\n",
              "      cursor: pointer;\n",
              "      display: none;\n",
              "      fill: #1967D2;\n",
              "      height: 32px;\n",
              "      padding: 0 0 0 0;\n",
              "      width: 32px;\n",
              "    }\n",
              "\n",
              "    .colab-df-convert:hover {\n",
              "      background-color: #E2EBFA;\n",
              "      box-shadow: 0px 1px 2px rgba(60, 64, 67, 0.3), 0px 1px 3px 1px rgba(60, 64, 67, 0.15);\n",
              "      fill: #174EA6;\n",
              "    }\n",
              "\n",
              "    .colab-df-buttons div {\n",
              "      margin-bottom: 4px;\n",
              "    }\n",
              "\n",
              "    [theme=dark] .colab-df-convert {\n",
              "      background-color: #3B4455;\n",
              "      fill: #D2E3FC;\n",
              "    }\n",
              "\n",
              "    [theme=dark] .colab-df-convert:hover {\n",
              "      background-color: #434B5C;\n",
              "      box-shadow: 0px 1px 3px 1px rgba(0, 0, 0, 0.15);\n",
              "      filter: drop-shadow(0px 1px 2px rgba(0, 0, 0, 0.3));\n",
              "      fill: #FFFFFF;\n",
              "    }\n",
              "  </style>\n",
              "\n",
              "    <script>\n",
              "      const buttonEl =\n",
              "        document.querySelector('#df-a3aba426-2c82-4b5a-b145-d631190a2e48 button.colab-df-convert');\n",
              "      buttonEl.style.display =\n",
              "        google.colab.kernel.accessAllowed ? 'block' : 'none';\n",
              "\n",
              "      async function convertToInteractive(key) {\n",
              "        const element = document.querySelector('#df-a3aba426-2c82-4b5a-b145-d631190a2e48');\n",
              "        const dataTable =\n",
              "          await google.colab.kernel.invokeFunction('convertToInteractive',\n",
              "                                                    [key], {});\n",
              "        if (!dataTable) return;\n",
              "\n",
              "        const docLinkHtml = 'Like what you see? Visit the ' +\n",
              "          '<a target=\"_blank\" href=https://colab.research.google.com/notebooks/data_table.ipynb>data table notebook</a>'\n",
              "          + ' to learn more about interactive tables.';\n",
              "        element.innerHTML = '';\n",
              "        dataTable['output_type'] = 'display_data';\n",
              "        await google.colab.output.renderOutput(dataTable, element);\n",
              "        const docLink = document.createElement('div');\n",
              "        docLink.innerHTML = docLinkHtml;\n",
              "        element.appendChild(docLink);\n",
              "      }\n",
              "    </script>\n",
              "  </div>\n",
              "\n",
              "\n",
              "<div id=\"df-8944f27a-114f-4fd8-b452-2560d07f4b59\">\n",
              "  <button class=\"colab-df-quickchart\" onclick=\"quickchart('df-8944f27a-114f-4fd8-b452-2560d07f4b59')\"\n",
              "            title=\"Suggest charts\"\n",
              "            style=\"display:none;\">\n",
              "\n",
              "<svg xmlns=\"http://www.w3.org/2000/svg\" height=\"24px\"viewBox=\"0 0 24 24\"\n",
              "     width=\"24px\">\n",
              "    <g>\n",
              "        <path d=\"M19 3H5c-1.1 0-2 .9-2 2v14c0 1.1.9 2 2 2h14c1.1 0 2-.9 2-2V5c0-1.1-.9-2-2-2zM9 17H7v-7h2v7zm4 0h-2V7h2v10zm4 0h-2v-4h2v4z\"/>\n",
              "    </g>\n",
              "</svg>\n",
              "  </button>\n",
              "\n",
              "<style>\n",
              "  .colab-df-quickchart {\n",
              "      --bg-color: #E8F0FE;\n",
              "      --fill-color: #1967D2;\n",
              "      --hover-bg-color: #E2EBFA;\n",
              "      --hover-fill-color: #174EA6;\n",
              "      --disabled-fill-color: #AAA;\n",
              "      --disabled-bg-color: #DDD;\n",
              "  }\n",
              "\n",
              "  [theme=dark] .colab-df-quickchart {\n",
              "      --bg-color: #3B4455;\n",
              "      --fill-color: #D2E3FC;\n",
              "      --hover-bg-color: #434B5C;\n",
              "      --hover-fill-color: #FFFFFF;\n",
              "      --disabled-bg-color: #3B4455;\n",
              "      --disabled-fill-color: #666;\n",
              "  }\n",
              "\n",
              "  .colab-df-quickchart {\n",
              "    background-color: var(--bg-color);\n",
              "    border: none;\n",
              "    border-radius: 50%;\n",
              "    cursor: pointer;\n",
              "    display: none;\n",
              "    fill: var(--fill-color);\n",
              "    height: 32px;\n",
              "    padding: 0;\n",
              "    width: 32px;\n",
              "  }\n",
              "\n",
              "  .colab-df-quickchart:hover {\n",
              "    background-color: var(--hover-bg-color);\n",
              "    box-shadow: 0 1px 2px rgba(60, 64, 67, 0.3), 0 1px 3px 1px rgba(60, 64, 67, 0.15);\n",
              "    fill: var(--button-hover-fill-color);\n",
              "  }\n",
              "\n",
              "  .colab-df-quickchart-complete:disabled,\n",
              "  .colab-df-quickchart-complete:disabled:hover {\n",
              "    background-color: var(--disabled-bg-color);\n",
              "    fill: var(--disabled-fill-color);\n",
              "    box-shadow: none;\n",
              "  }\n",
              "\n",
              "  .colab-df-spinner {\n",
              "    border: 2px solid var(--fill-color);\n",
              "    border-color: transparent;\n",
              "    border-bottom-color: var(--fill-color);\n",
              "    animation:\n",
              "      spin 1s steps(1) infinite;\n",
              "  }\n",
              "\n",
              "  @keyframes spin {\n",
              "    0% {\n",
              "      border-color: transparent;\n",
              "      border-bottom-color: var(--fill-color);\n",
              "      border-left-color: var(--fill-color);\n",
              "    }\n",
              "    20% {\n",
              "      border-color: transparent;\n",
              "      border-left-color: var(--fill-color);\n",
              "      border-top-color: var(--fill-color);\n",
              "    }\n",
              "    30% {\n",
              "      border-color: transparent;\n",
              "      border-left-color: var(--fill-color);\n",
              "      border-top-color: var(--fill-color);\n",
              "      border-right-color: var(--fill-color);\n",
              "    }\n",
              "    40% {\n",
              "      border-color: transparent;\n",
              "      border-right-color: var(--fill-color);\n",
              "      border-top-color: var(--fill-color);\n",
              "    }\n",
              "    60% {\n",
              "      border-color: transparent;\n",
              "      border-right-color: var(--fill-color);\n",
              "    }\n",
              "    80% {\n",
              "      border-color: transparent;\n",
              "      border-right-color: var(--fill-color);\n",
              "      border-bottom-color: var(--fill-color);\n",
              "    }\n",
              "    90% {\n",
              "      border-color: transparent;\n",
              "      border-bottom-color: var(--fill-color);\n",
              "    }\n",
              "  }\n",
              "</style>\n",
              "\n",
              "  <script>\n",
              "    async function quickchart(key) {\n",
              "      const quickchartButtonEl =\n",
              "        document.querySelector('#' + key + ' button');\n",
              "      quickchartButtonEl.disabled = true;  // To prevent multiple clicks.\n",
              "      quickchartButtonEl.classList.add('colab-df-spinner');\n",
              "      try {\n",
              "        const charts = await google.colab.kernel.invokeFunction(\n",
              "            'suggestCharts', [key], {});\n",
              "      } catch (error) {\n",
              "        console.error('Error during call to suggestCharts:', error);\n",
              "      }\n",
              "      quickchartButtonEl.classList.remove('colab-df-spinner');\n",
              "      quickchartButtonEl.classList.add('colab-df-quickchart-complete');\n",
              "    }\n",
              "    (() => {\n",
              "      let quickchartButtonEl =\n",
              "        document.querySelector('#df-8944f27a-114f-4fd8-b452-2560d07f4b59 button');\n",
              "      quickchartButtonEl.style.display =\n",
              "        google.colab.kernel.accessAllowed ? 'block' : 'none';\n",
              "    })();\n",
              "  </script>\n",
              "</div>\n",
              "\n",
              "  <div id=\"id_3d0d8692-6464-44f3-9b7b-e441da87ff87\">\n",
              "    <style>\n",
              "      .colab-df-generate {\n",
              "        background-color: #E8F0FE;\n",
              "        border: none;\n",
              "        border-radius: 50%;\n",
              "        cursor: pointer;\n",
              "        display: none;\n",
              "        fill: #1967D2;\n",
              "        height: 32px;\n",
              "        padding: 0 0 0 0;\n",
              "        width: 32px;\n",
              "      }\n",
              "\n",
              "      .colab-df-generate:hover {\n",
              "        background-color: #E2EBFA;\n",
              "        box-shadow: 0px 1px 2px rgba(60, 64, 67, 0.3), 0px 1px 3px 1px rgba(60, 64, 67, 0.15);\n",
              "        fill: #174EA6;\n",
              "      }\n",
              "\n",
              "      [theme=dark] .colab-df-generate {\n",
              "        background-color: #3B4455;\n",
              "        fill: #D2E3FC;\n",
              "      }\n",
              "\n",
              "      [theme=dark] .colab-df-generate:hover {\n",
              "        background-color: #434B5C;\n",
              "        box-shadow: 0px 1px 3px 1px rgba(0, 0, 0, 0.15);\n",
              "        filter: drop-shadow(0px 1px 2px rgba(0, 0, 0, 0.3));\n",
              "        fill: #FFFFFF;\n",
              "      }\n",
              "    </style>\n",
              "    <button class=\"colab-df-generate\" onclick=\"generateWithVariable('df_equipos')\"\n",
              "            title=\"Generate code using this dataframe.\"\n",
              "            style=\"display:none;\">\n",
              "\n",
              "  <svg xmlns=\"http://www.w3.org/2000/svg\" height=\"24px\"viewBox=\"0 0 24 24\"\n",
              "       width=\"24px\">\n",
              "    <path d=\"M7,19H8.4L18.45,9,17,7.55,7,17.6ZM5,21V16.75L18.45,3.32a2,2,0,0,1,2.83,0l1.4,1.43a1.91,1.91,0,0,1,.58,1.4,1.91,1.91,0,0,1-.58,1.4L9.25,21ZM18.45,9,17,7.55Zm-12,3A5.31,5.31,0,0,0,4.9,8.1,5.31,5.31,0,0,0,1,6.5,5.31,5.31,0,0,0,4.9,4.9,5.31,5.31,0,0,0,6.5,1,5.31,5.31,0,0,0,8.1,4.9,5.31,5.31,0,0,0,12,6.5,5.46,5.46,0,0,0,6.5,12Z\"/>\n",
              "  </svg>\n",
              "    </button>\n",
              "    <script>\n",
              "      (() => {\n",
              "      const buttonEl =\n",
              "        document.querySelector('#id_3d0d8692-6464-44f3-9b7b-e441da87ff87 button.colab-df-generate');\n",
              "      buttonEl.style.display =\n",
              "        google.colab.kernel.accessAllowed ? 'block' : 'none';\n",
              "\n",
              "      buttonEl.onclick = () => {\n",
              "        google.colab.notebook.generateWithVariable('df_equipos');\n",
              "      }\n",
              "      })();\n",
              "    </script>\n",
              "  </div>\n",
              "\n",
              "    </div>\n",
              "  </div>\n"
            ],
            "application/vnd.google.colaboratory.intrinsic+json": {
              "type": "dataframe",
              "variable_name": "df_equipos",
              "summary": "{\n  \"name\": \"df_equipos\",\n  \"rows\": 5,\n  \"fields\": [\n    {\n      \"column\": \"ID Equipo\",\n      \"properties\": {\n        \"dtype\": \"number\",\n        \"std\": 1,\n        \"min\": 1,\n        \"max\": 5,\n        \"num_unique_values\": 5,\n        \"samples\": [\n          2,\n          5,\n          3\n        ],\n        \"semantic_type\": \"\",\n        \"description\": \"\"\n      }\n    },\n    {\n      \"column\": \"Nombre Equipo\",\n      \"properties\": {\n        \"dtype\": \"string\",\n        \"num_unique_values\": 5,\n        \"samples\": [\n          \"Atletico Nacional\",\n          \"Junior\",\n          \"America de Cali\"\n        ],\n        \"semantic_type\": \"\",\n        \"description\": \"\"\n      }\n    },\n    {\n      \"column\": \"Ciudad\",\n      \"properties\": {\n        \"dtype\": \"string\",\n        \"num_unique_values\": 4,\n        \"samples\": [\n          \"Cali\",\n          \"Barranquilla\",\n          \"Medellin\"\n        ],\n        \"semantic_type\": \"\",\n        \"description\": \"\"\n      }\n    },\n    {\n      \"column\": \"Entrenador\",\n      \"properties\": {\n        \"dtype\": \"string\",\n        \"num_unique_values\": 5,\n        \"samples\": [\n          \"Camilo Guzman\",\n          \"Santiago Gallego\",\n          \"Juan Jose Arbelaez\"\n        ],\n        \"semantic_type\": \"\",\n        \"description\": \"\"\n      }\n    },\n    {\n      \"column\": \"Titulos Ganados\",\n      \"properties\": {\n        \"dtype\": \"number\",\n        \"std\": 1,\n        \"min\": 1,\n        \"max\": 5,\n        \"num_unique_values\": 5,\n        \"samples\": [\n          5,\n          4,\n          3\n        ],\n        \"semantic_type\": \"\",\n        \"description\": \"\"\n      }\n    }\n  ]\n}"
            }
          },
          "metadata": {},
          "execution_count": 30
        }
      ]
    },
    {
      "cell_type": "code",
      "source": [
        "consulta = ''' SELECT *\n",
        "              FROM \"PARTIDOS\" '''\n",
        "#Ejecutamos la consulta\n",
        "cursor.execute(consulta)\n",
        "#Traemos el resultado de la consulta\n",
        "Partidos = cursor.fetchall()\n",
        "for fila in Partidos:\n",
        "  print(fila)"
      ],
      "metadata": {
        "colab": {
          "base_uri": "https://localhost:8080/"
        },
        "id": "O7UlMwTBW52-",
        "outputId": "f7faaa8c-0621-4d23-ee74-2bcb2b6a69c5"
      },
      "execution_count": null,
      "outputs": [
        {
          "output_type": "stream",
          "name": "stdout",
          "text": [
            "(1, 'America de Cali', 3, 'Atletico Nacional', 2, 'Cali', '1-2')\n",
            "(2, 'Deportivo Independiente Medellin', 1, 'Millonarios', 4, 'Medellin', '2-1')\n",
            "(3, 'Millonarios', 4, 'Atletico Nacional', 2, 'Bogota', '3-2')\n",
            "(4, 'Junior', 5, 'Deportivo Independiente Medellin', 1, 'Barranquilla', '4-1')\n",
            "(5, 'Atletico Nacional', 2, 'Millonarios', 4, 'Medellin', '1-1')\n"
          ]
        }
      ]
    },
    {
      "cell_type": "code",
      "source": [
        "columnas = [descripcion[0] for descripcion in cursor.description]\n",
        "df_partidos = pd.DataFrame(Partidos, columns=columnas)\n",
        "df_partidos"
      ],
      "metadata": {
        "colab": {
          "base_uri": "https://localhost:8080/",
          "height": 206
        },
        "id": "1Gb8MOTaXL2z",
        "outputId": "1682b503-d557-4c15-da58-f90ecf1c751c"
      },
      "execution_count": null,
      "outputs": [
        {
          "output_type": "execute_result",
          "data": {
            "text/plain": [
              "   ID Partido                      Equipo Local  ID Equipo Local  \\\n",
              "0           1                   America de Cali                3   \n",
              "1           2  Deportivo Independiente Medellin                1   \n",
              "2           3                       Millonarios                4   \n",
              "3           4                            Junior                5   \n",
              "4           5                 Atletico Nacional                2   \n",
              "\n",
              "                   Equipo Visitante  ID Equipo Visitante Lugar Partido  \\\n",
              "0                 Atletico Nacional                    2          Cali   \n",
              "1                       Millonarios                    4      Medellin   \n",
              "2                 Atletico Nacional                    2        Bogota   \n",
              "3  Deportivo Independiente Medellin                    1  Barranquilla   \n",
              "4                       Millonarios                    4      Medellin   \n",
              "\n",
              "  Resultado  \n",
              "0       1-2  \n",
              "1       2-1  \n",
              "2       3-2  \n",
              "3       4-1  \n",
              "4       1-1  "
            ],
            "text/html": [
              "\n",
              "  <div id=\"df-5025232b-9287-4a57-a76a-853437d67307\" class=\"colab-df-container\">\n",
              "    <div>\n",
              "<style scoped>\n",
              "    .dataframe tbody tr th:only-of-type {\n",
              "        vertical-align: middle;\n",
              "    }\n",
              "\n",
              "    .dataframe tbody tr th {\n",
              "        vertical-align: top;\n",
              "    }\n",
              "\n",
              "    .dataframe thead th {\n",
              "        text-align: right;\n",
              "    }\n",
              "</style>\n",
              "<table border=\"1\" class=\"dataframe\">\n",
              "  <thead>\n",
              "    <tr style=\"text-align: right;\">\n",
              "      <th></th>\n",
              "      <th>ID Partido</th>\n",
              "      <th>Equipo Local</th>\n",
              "      <th>ID Equipo Local</th>\n",
              "      <th>Equipo Visitante</th>\n",
              "      <th>ID Equipo Visitante</th>\n",
              "      <th>Lugar Partido</th>\n",
              "      <th>Resultado</th>\n",
              "    </tr>\n",
              "  </thead>\n",
              "  <tbody>\n",
              "    <tr>\n",
              "      <th>0</th>\n",
              "      <td>1</td>\n",
              "      <td>America de Cali</td>\n",
              "      <td>3</td>\n",
              "      <td>Atletico Nacional</td>\n",
              "      <td>2</td>\n",
              "      <td>Cali</td>\n",
              "      <td>1-2</td>\n",
              "    </tr>\n",
              "    <tr>\n",
              "      <th>1</th>\n",
              "      <td>2</td>\n",
              "      <td>Deportivo Independiente Medellin</td>\n",
              "      <td>1</td>\n",
              "      <td>Millonarios</td>\n",
              "      <td>4</td>\n",
              "      <td>Medellin</td>\n",
              "      <td>2-1</td>\n",
              "    </tr>\n",
              "    <tr>\n",
              "      <th>2</th>\n",
              "      <td>3</td>\n",
              "      <td>Millonarios</td>\n",
              "      <td>4</td>\n",
              "      <td>Atletico Nacional</td>\n",
              "      <td>2</td>\n",
              "      <td>Bogota</td>\n",
              "      <td>3-2</td>\n",
              "    </tr>\n",
              "    <tr>\n",
              "      <th>3</th>\n",
              "      <td>4</td>\n",
              "      <td>Junior</td>\n",
              "      <td>5</td>\n",
              "      <td>Deportivo Independiente Medellin</td>\n",
              "      <td>1</td>\n",
              "      <td>Barranquilla</td>\n",
              "      <td>4-1</td>\n",
              "    </tr>\n",
              "    <tr>\n",
              "      <th>4</th>\n",
              "      <td>5</td>\n",
              "      <td>Atletico Nacional</td>\n",
              "      <td>2</td>\n",
              "      <td>Millonarios</td>\n",
              "      <td>4</td>\n",
              "      <td>Medellin</td>\n",
              "      <td>1-1</td>\n",
              "    </tr>\n",
              "  </tbody>\n",
              "</table>\n",
              "</div>\n",
              "    <div class=\"colab-df-buttons\">\n",
              "\n",
              "  <div class=\"colab-df-container\">\n",
              "    <button class=\"colab-df-convert\" onclick=\"convertToInteractive('df-5025232b-9287-4a57-a76a-853437d67307')\"\n",
              "            title=\"Convert this dataframe to an interactive table.\"\n",
              "            style=\"display:none;\">\n",
              "\n",
              "  <svg xmlns=\"http://www.w3.org/2000/svg\" height=\"24px\" viewBox=\"0 -960 960 960\">\n",
              "    <path d=\"M120-120v-720h720v720H120Zm60-500h600v-160H180v160Zm220 220h160v-160H400v160Zm0 220h160v-160H400v160ZM180-400h160v-160H180v160Zm440 0h160v-160H620v160ZM180-180h160v-160H180v160Zm440 0h160v-160H620v160Z\"/>\n",
              "  </svg>\n",
              "    </button>\n",
              "\n",
              "  <style>\n",
              "    .colab-df-container {\n",
              "      display:flex;\n",
              "      gap: 12px;\n",
              "    }\n",
              "\n",
              "    .colab-df-convert {\n",
              "      background-color: #E8F0FE;\n",
              "      border: none;\n",
              "      border-radius: 50%;\n",
              "      cursor: pointer;\n",
              "      display: none;\n",
              "      fill: #1967D2;\n",
              "      height: 32px;\n",
              "      padding: 0 0 0 0;\n",
              "      width: 32px;\n",
              "    }\n",
              "\n",
              "    .colab-df-convert:hover {\n",
              "      background-color: #E2EBFA;\n",
              "      box-shadow: 0px 1px 2px rgba(60, 64, 67, 0.3), 0px 1px 3px 1px rgba(60, 64, 67, 0.15);\n",
              "      fill: #174EA6;\n",
              "    }\n",
              "\n",
              "    .colab-df-buttons div {\n",
              "      margin-bottom: 4px;\n",
              "    }\n",
              "\n",
              "    [theme=dark] .colab-df-convert {\n",
              "      background-color: #3B4455;\n",
              "      fill: #D2E3FC;\n",
              "    }\n",
              "\n",
              "    [theme=dark] .colab-df-convert:hover {\n",
              "      background-color: #434B5C;\n",
              "      box-shadow: 0px 1px 3px 1px rgba(0, 0, 0, 0.15);\n",
              "      filter: drop-shadow(0px 1px 2px rgba(0, 0, 0, 0.3));\n",
              "      fill: #FFFFFF;\n",
              "    }\n",
              "  </style>\n",
              "\n",
              "    <script>\n",
              "      const buttonEl =\n",
              "        document.querySelector('#df-5025232b-9287-4a57-a76a-853437d67307 button.colab-df-convert');\n",
              "      buttonEl.style.display =\n",
              "        google.colab.kernel.accessAllowed ? 'block' : 'none';\n",
              "\n",
              "      async function convertToInteractive(key) {\n",
              "        const element = document.querySelector('#df-5025232b-9287-4a57-a76a-853437d67307');\n",
              "        const dataTable =\n",
              "          await google.colab.kernel.invokeFunction('convertToInteractive',\n",
              "                                                    [key], {});\n",
              "        if (!dataTable) return;\n",
              "\n",
              "        const docLinkHtml = 'Like what you see? Visit the ' +\n",
              "          '<a target=\"_blank\" href=https://colab.research.google.com/notebooks/data_table.ipynb>data table notebook</a>'\n",
              "          + ' to learn more about interactive tables.';\n",
              "        element.innerHTML = '';\n",
              "        dataTable['output_type'] = 'display_data';\n",
              "        await google.colab.output.renderOutput(dataTable, element);\n",
              "        const docLink = document.createElement('div');\n",
              "        docLink.innerHTML = docLinkHtml;\n",
              "        element.appendChild(docLink);\n",
              "      }\n",
              "    </script>\n",
              "  </div>\n",
              "\n",
              "\n",
              "<div id=\"df-a7e38373-9ba4-42e1-97de-34c07df91b0e\">\n",
              "  <button class=\"colab-df-quickchart\" onclick=\"quickchart('df-a7e38373-9ba4-42e1-97de-34c07df91b0e')\"\n",
              "            title=\"Suggest charts\"\n",
              "            style=\"display:none;\">\n",
              "\n",
              "<svg xmlns=\"http://www.w3.org/2000/svg\" height=\"24px\"viewBox=\"0 0 24 24\"\n",
              "     width=\"24px\">\n",
              "    <g>\n",
              "        <path d=\"M19 3H5c-1.1 0-2 .9-2 2v14c0 1.1.9 2 2 2h14c1.1 0 2-.9 2-2V5c0-1.1-.9-2-2-2zM9 17H7v-7h2v7zm4 0h-2V7h2v10zm4 0h-2v-4h2v4z\"/>\n",
              "    </g>\n",
              "</svg>\n",
              "  </button>\n",
              "\n",
              "<style>\n",
              "  .colab-df-quickchart {\n",
              "      --bg-color: #E8F0FE;\n",
              "      --fill-color: #1967D2;\n",
              "      --hover-bg-color: #E2EBFA;\n",
              "      --hover-fill-color: #174EA6;\n",
              "      --disabled-fill-color: #AAA;\n",
              "      --disabled-bg-color: #DDD;\n",
              "  }\n",
              "\n",
              "  [theme=dark] .colab-df-quickchart {\n",
              "      --bg-color: #3B4455;\n",
              "      --fill-color: #D2E3FC;\n",
              "      --hover-bg-color: #434B5C;\n",
              "      --hover-fill-color: #FFFFFF;\n",
              "      --disabled-bg-color: #3B4455;\n",
              "      --disabled-fill-color: #666;\n",
              "  }\n",
              "\n",
              "  .colab-df-quickchart {\n",
              "    background-color: var(--bg-color);\n",
              "    border: none;\n",
              "    border-radius: 50%;\n",
              "    cursor: pointer;\n",
              "    display: none;\n",
              "    fill: var(--fill-color);\n",
              "    height: 32px;\n",
              "    padding: 0;\n",
              "    width: 32px;\n",
              "  }\n",
              "\n",
              "  .colab-df-quickchart:hover {\n",
              "    background-color: var(--hover-bg-color);\n",
              "    box-shadow: 0 1px 2px rgba(60, 64, 67, 0.3), 0 1px 3px 1px rgba(60, 64, 67, 0.15);\n",
              "    fill: var(--button-hover-fill-color);\n",
              "  }\n",
              "\n",
              "  .colab-df-quickchart-complete:disabled,\n",
              "  .colab-df-quickchart-complete:disabled:hover {\n",
              "    background-color: var(--disabled-bg-color);\n",
              "    fill: var(--disabled-fill-color);\n",
              "    box-shadow: none;\n",
              "  }\n",
              "\n",
              "  .colab-df-spinner {\n",
              "    border: 2px solid var(--fill-color);\n",
              "    border-color: transparent;\n",
              "    border-bottom-color: var(--fill-color);\n",
              "    animation:\n",
              "      spin 1s steps(1) infinite;\n",
              "  }\n",
              "\n",
              "  @keyframes spin {\n",
              "    0% {\n",
              "      border-color: transparent;\n",
              "      border-bottom-color: var(--fill-color);\n",
              "      border-left-color: var(--fill-color);\n",
              "    }\n",
              "    20% {\n",
              "      border-color: transparent;\n",
              "      border-left-color: var(--fill-color);\n",
              "      border-top-color: var(--fill-color);\n",
              "    }\n",
              "    30% {\n",
              "      border-color: transparent;\n",
              "      border-left-color: var(--fill-color);\n",
              "      border-top-color: var(--fill-color);\n",
              "      border-right-color: var(--fill-color);\n",
              "    }\n",
              "    40% {\n",
              "      border-color: transparent;\n",
              "      border-right-color: var(--fill-color);\n",
              "      border-top-color: var(--fill-color);\n",
              "    }\n",
              "    60% {\n",
              "      border-color: transparent;\n",
              "      border-right-color: var(--fill-color);\n",
              "    }\n",
              "    80% {\n",
              "      border-color: transparent;\n",
              "      border-right-color: var(--fill-color);\n",
              "      border-bottom-color: var(--fill-color);\n",
              "    }\n",
              "    90% {\n",
              "      border-color: transparent;\n",
              "      border-bottom-color: var(--fill-color);\n",
              "    }\n",
              "  }\n",
              "</style>\n",
              "\n",
              "  <script>\n",
              "    async function quickchart(key) {\n",
              "      const quickchartButtonEl =\n",
              "        document.querySelector('#' + key + ' button');\n",
              "      quickchartButtonEl.disabled = true;  // To prevent multiple clicks.\n",
              "      quickchartButtonEl.classList.add('colab-df-spinner');\n",
              "      try {\n",
              "        const charts = await google.colab.kernel.invokeFunction(\n",
              "            'suggestCharts', [key], {});\n",
              "      } catch (error) {\n",
              "        console.error('Error during call to suggestCharts:', error);\n",
              "      }\n",
              "      quickchartButtonEl.classList.remove('colab-df-spinner');\n",
              "      quickchartButtonEl.classList.add('colab-df-quickchart-complete');\n",
              "    }\n",
              "    (() => {\n",
              "      let quickchartButtonEl =\n",
              "        document.querySelector('#df-a7e38373-9ba4-42e1-97de-34c07df91b0e button');\n",
              "      quickchartButtonEl.style.display =\n",
              "        google.colab.kernel.accessAllowed ? 'block' : 'none';\n",
              "    })();\n",
              "  </script>\n",
              "</div>\n",
              "\n",
              "  <div id=\"id_e2483d99-3076-431e-9757-3b362f643c8c\">\n",
              "    <style>\n",
              "      .colab-df-generate {\n",
              "        background-color: #E8F0FE;\n",
              "        border: none;\n",
              "        border-radius: 50%;\n",
              "        cursor: pointer;\n",
              "        display: none;\n",
              "        fill: #1967D2;\n",
              "        height: 32px;\n",
              "        padding: 0 0 0 0;\n",
              "        width: 32px;\n",
              "      }\n",
              "\n",
              "      .colab-df-generate:hover {\n",
              "        background-color: #E2EBFA;\n",
              "        box-shadow: 0px 1px 2px rgba(60, 64, 67, 0.3), 0px 1px 3px 1px rgba(60, 64, 67, 0.15);\n",
              "        fill: #174EA6;\n",
              "      }\n",
              "\n",
              "      [theme=dark] .colab-df-generate {\n",
              "        background-color: #3B4455;\n",
              "        fill: #D2E3FC;\n",
              "      }\n",
              "\n",
              "      [theme=dark] .colab-df-generate:hover {\n",
              "        background-color: #434B5C;\n",
              "        box-shadow: 0px 1px 3px 1px rgba(0, 0, 0, 0.15);\n",
              "        filter: drop-shadow(0px 1px 2px rgba(0, 0, 0, 0.3));\n",
              "        fill: #FFFFFF;\n",
              "      }\n",
              "    </style>\n",
              "    <button class=\"colab-df-generate\" onclick=\"generateWithVariable('df_partidos')\"\n",
              "            title=\"Generate code using this dataframe.\"\n",
              "            style=\"display:none;\">\n",
              "\n",
              "  <svg xmlns=\"http://www.w3.org/2000/svg\" height=\"24px\"viewBox=\"0 0 24 24\"\n",
              "       width=\"24px\">\n",
              "    <path d=\"M7,19H8.4L18.45,9,17,7.55,7,17.6ZM5,21V16.75L18.45,3.32a2,2,0,0,1,2.83,0l1.4,1.43a1.91,1.91,0,0,1,.58,1.4,1.91,1.91,0,0,1-.58,1.4L9.25,21ZM18.45,9,17,7.55Zm-12,3A5.31,5.31,0,0,0,4.9,8.1,5.31,5.31,0,0,0,1,6.5,5.31,5.31,0,0,0,4.9,4.9,5.31,5.31,0,0,0,6.5,1,5.31,5.31,0,0,0,8.1,4.9,5.31,5.31,0,0,0,12,6.5,5.46,5.46,0,0,0,6.5,12Z\"/>\n",
              "  </svg>\n",
              "    </button>\n",
              "    <script>\n",
              "      (() => {\n",
              "      const buttonEl =\n",
              "        document.querySelector('#id_e2483d99-3076-431e-9757-3b362f643c8c button.colab-df-generate');\n",
              "      buttonEl.style.display =\n",
              "        google.colab.kernel.accessAllowed ? 'block' : 'none';\n",
              "\n",
              "      buttonEl.onclick = () => {\n",
              "        google.colab.notebook.generateWithVariable('df_partidos');\n",
              "      }\n",
              "      })();\n",
              "    </script>\n",
              "  </div>\n",
              "\n",
              "    </div>\n",
              "  </div>\n"
            ],
            "application/vnd.google.colaboratory.intrinsic+json": {
              "type": "dataframe",
              "variable_name": "df_partidos",
              "summary": "{\n  \"name\": \"df_partidos\",\n  \"rows\": 5,\n  \"fields\": [\n    {\n      \"column\": \"ID Partido\",\n      \"properties\": {\n        \"dtype\": \"number\",\n        \"std\": 1,\n        \"min\": 1,\n        \"max\": 5,\n        \"num_unique_values\": 5,\n        \"samples\": [\n          2,\n          5,\n          3\n        ],\n        \"semantic_type\": \"\",\n        \"description\": \"\"\n      }\n    },\n    {\n      \"column\": \"Equipo Local\",\n      \"properties\": {\n        \"dtype\": \"string\",\n        \"num_unique_values\": 5,\n        \"samples\": [\n          \"Deportivo Independiente Medellin\",\n          \"Atletico Nacional\",\n          \"Millonarios\"\n        ],\n        \"semantic_type\": \"\",\n        \"description\": \"\"\n      }\n    },\n    {\n      \"column\": \"ID Equipo Local\",\n      \"properties\": {\n        \"dtype\": \"number\",\n        \"std\": 1,\n        \"min\": 1,\n        \"max\": 5,\n        \"num_unique_values\": 5,\n        \"samples\": [\n          1,\n          2,\n          4\n        ],\n        \"semantic_type\": \"\",\n        \"description\": \"\"\n      }\n    },\n    {\n      \"column\": \"Equipo Visitante\",\n      \"properties\": {\n        \"dtype\": \"string\",\n        \"num_unique_values\": 3,\n        \"samples\": [\n          \"Atletico Nacional\",\n          \"Millonarios\",\n          \"Deportivo Independiente Medellin\"\n        ],\n        \"semantic_type\": \"\",\n        \"description\": \"\"\n      }\n    },\n    {\n      \"column\": \"ID Equipo Visitante\",\n      \"properties\": {\n        \"dtype\": \"number\",\n        \"std\": 1,\n        \"min\": 1,\n        \"max\": 4,\n        \"num_unique_values\": 3,\n        \"samples\": [\n          2,\n          4,\n          1\n        ],\n        \"semantic_type\": \"\",\n        \"description\": \"\"\n      }\n    },\n    {\n      \"column\": \"Lugar Partido\",\n      \"properties\": {\n        \"dtype\": \"string\",\n        \"num_unique_values\": 4,\n        \"samples\": [\n          \"Medellin\",\n          \"Barranquilla\",\n          \"Cali\"\n        ],\n        \"semantic_type\": \"\",\n        \"description\": \"\"\n      }\n    },\n    {\n      \"column\": \"Resultado\",\n      \"properties\": {\n        \"dtype\": \"string\",\n        \"num_unique_values\": 5,\n        \"samples\": [\n          \"2-1\",\n          \"1-1\",\n          \"3-2\"\n        ],\n        \"semantic_type\": \"\",\n        \"description\": \"\"\n      }\n    }\n  ]\n}"
            }
          },
          "metadata": {},
          "execution_count": 35
        }
      ]
    },
    {
      "cell_type": "markdown",
      "source": [
        "### CONSULTAS"
      ],
      "metadata": {
        "id": "2G2YB6v3XbIz"
      }
    },
    {
      "cell_type": "markdown",
      "source": [
        "Para mirar que equipo tiene mas titulos ganados"
      ],
      "metadata": {
        "id": "CHqSZK-IXd52"
      }
    },
    {
      "cell_type": "code",
      "source": [
        "consulta = ''' SELECT \"Nombre Equipo\",\n",
        "               SUM (\"Titulos Ganados\") AS \"Titulos Ganados\"\n",
        "               FROM \"EQUIPOS\"\n",
        "               GROUP BY \"Nombre Equipo\"\n",
        "               ORDER BY \"Titulos Ganados\" DESC '''\n",
        "\n",
        "#Ejecutamos la consulta\n",
        "cursor.execute(consulta)\n",
        "#Traemos el resultado de la consulta\n",
        "Equipos = cursor.fetchall()\n",
        "for fila in Equipos:\n",
        "  print(fila)"
      ],
      "metadata": {
        "colab": {
          "base_uri": "https://localhost:8080/"
        },
        "id": "epId9pYtYc9B",
        "outputId": "6e3468f2-053d-4044-af8f-fe9a0208c630"
      },
      "execution_count": null,
      "outputs": [
        {
          "output_type": "stream",
          "name": "stdout",
          "text": [
            "('Atletico Nacional', 5)\n",
            "('Junior', 4)\n",
            "('America de Cali', 3)\n",
            "('Millonarios', 2)\n",
            "('Deportivo Independiente Medellin', 1)\n"
          ]
        }
      ]
    },
    {
      "cell_type": "markdown",
      "source": [
        "Para mirar que ciudad tiene mas equipos"
      ],
      "metadata": {
        "id": "1xAK5avHY_eS"
      }
    },
    {
      "cell_type": "code",
      "source": [
        "consulta = ''' SELECT \"Ciudad\",\n",
        "               COUNT(*) AS \"Equipos\"\n",
        "               FROM \"EQUIPOS\"\n",
        "               GROUP BY \"Ciudad\"\n",
        "               ORDER BY \"Equipos\" DESC '''\n",
        "\n",
        "#Ejecutamos la consulta\n",
        "cursor.execute(consulta)\n",
        "#Traemos el resultado de la consulta\n",
        "Equipos = cursor.fetchall()\n",
        "for fila in Equipos:\n",
        "  print(fila)"
      ],
      "metadata": {
        "colab": {
          "base_uri": "https://localhost:8080/"
        },
        "id": "JEekLh77ZCiL",
        "outputId": "4e688b8e-a336-412d-e89e-042f77cdf866"
      },
      "execution_count": null,
      "outputs": [
        {
          "output_type": "stream",
          "name": "stdout",
          "text": [
            "('Medellin', 2)\n",
            "('Cali', 1)\n",
            "('Bogota', 1)\n",
            "('Barranquilla', 1)\n"
          ]
        }
      ]
    },
    {
      "cell_type": "markdown",
      "source": [
        "Para mirar cantidad total de partidos jugados como visitante"
      ],
      "metadata": {
        "id": "tkSEke3DZI9r"
      }
    },
    {
      "cell_type": "code",
      "source": [
        "consulta = ''' SELECT \"Equipo Visitante\",\n",
        "               COUNT(*) AS \"Partidos Jugados\"\n",
        "               FROM \"PARTIDOS\"\n",
        "               GROUP BY \"Equipo Visitante\"\n",
        "               ORDER BY \"Partidos Jugados\" DESC '''\n",
        "\n",
        "#Ejecutamos la consulta\n",
        "cursor.execute(consulta)\n",
        "#Traemos el resultado de la consulta\n",
        "Partidos = cursor.fetchall()\n",
        "for fila in Partidos:\n",
        "  print(fila)"
      ],
      "metadata": {
        "colab": {
          "base_uri": "https://localhost:8080/"
        },
        "id": "qqUp9c5sXV05",
        "outputId": "69e7ba2e-8bc7-40f0-9667-0fb9f4f349da"
      },
      "execution_count": null,
      "outputs": [
        {
          "output_type": "stream",
          "name": "stdout",
          "text": [
            "('Millonarios', 2)\n",
            "('Atletico Nacional', 2)\n",
            "('Deportivo Independiente Medellin', 1)\n"
          ]
        }
      ]
    },
    {
      "cell_type": "markdown",
      "source": [
        "En que ciudad se jugaron mas partidos?"
      ],
      "metadata": {
        "id": "OO2ynVPvZaf6"
      }
    },
    {
      "cell_type": "code",
      "source": [
        "consulta = ''' SELECT \"Lugar Partido\",\n",
        "               COUNT(*) AS \"Partidos Jugados\"\n",
        "               FROM \"PARTIDOS\"\n",
        "               GROUP BY \"Lugar Partido\"\n",
        "               ORDER BY \"Partidos Jugados\" DESC '''\n",
        "\n",
        "#Ejecutamos la consulta\n",
        "cursor.execute(consulta)\n",
        "#Traemos el resultado de la consulta\n",
        "Partidos = cursor.fetchall()\n",
        "for fila in Partidos:\n",
        "  print(fila)"
      ],
      "metadata": {
        "colab": {
          "base_uri": "https://localhost:8080/"
        },
        "id": "DJonWpvYZXAn",
        "outputId": "7aadbf65-e8d2-4ccf-d690-7f1956d0d8f7"
      },
      "execution_count": null,
      "outputs": [
        {
          "output_type": "stream",
          "name": "stdout",
          "text": [
            "('Medellin', 2)\n",
            "('Cali', 1)\n",
            "('Bogota', 1)\n",
            "('Barranquilla', 1)\n"
          ]
        }
      ]
    }
  ]
}